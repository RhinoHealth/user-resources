{
 "cells": [
  {
   "cell_type": "markdown",
   "id": "13f9cee1ad3ab2f0",
   "metadata": {},
   "source": [
    "# Test the initial installation of a Rhino client\n",
    "\n",
    "#### Prerequisites\n",
    "1. Have an active Rhino FCP user with the appropriate access\n",
    "2. Have the path to the Client-mounted storage (e.g. S3, GCS)\n",
    "3. Copy the accompanying data directory file over to the external data store"
   ]
  },
  {
   "cell_type": "markdown",
   "id": "553f454c2647fdc7",
   "metadata": {},
   "source": [
    "### 1. Initialization and Login"
   ]
  },
  {
   "cell_type": "code",
   "execution_count": 1,
   "id": "66ac257b4e30a4bd",
   "metadata": {},
   "outputs": [
    {
     "name": "stdout",
     "output_type": "stream",
     "text": [
      "Requirement already satisfied: rhino_health in /Users/danielrunt/.pyenv/versions/3.11.11/lib/python3.11/site-packages (2.0.0)\n",
      "Requirement already satisfied: arrow<2.0,>=1.2.1 in /Users/danielrunt/.pyenv/versions/3.11.11/lib/python3.11/site-packages (from rhino_health) (1.3.0)\n",
      "Requirement already satisfied: backoff<3.0,>=2.1.1 in /Users/danielrunt/.pyenv/versions/3.11.11/lib/python3.11/site-packages (from rhino_health) (2.2.1)\n",
      "Requirement already satisfied: funcy<3.0,>=1.16 in /Users/danielrunt/.pyenv/versions/3.11.11/lib/python3.11/site-packages (from rhino_health) (2.0)\n",
      "Requirement already satisfied: pydantic<3.0,>=2.5 in /Users/danielrunt/.pyenv/versions/3.11.11/lib/python3.11/site-packages (from rhino_health) (2.11.5)\n",
      "Requirement already satisfied: ratelimit<3.0,>=2.2.1 in /Users/danielrunt/.pyenv/versions/3.11.11/lib/python3.11/site-packages (from rhino_health) (2.2.1)\n",
      "Requirement already satisfied: requests<3.0,>=2.28 in /Users/danielrunt/.pyenv/versions/3.11.11/lib/python3.11/site-packages (from rhino_health) (2.32.3)\n",
      "Requirement already satisfied: typing-extensions<5.0,>=4.8.0 in /Users/danielrunt/.pyenv/versions/3.11.11/lib/python3.11/site-packages (from rhino_health) (4.12.2)\n",
      "Requirement already satisfied: python-dateutil>=2.7.0 in /Users/danielrunt/.pyenv/versions/3.11.11/lib/python3.11/site-packages (from arrow<2.0,>=1.2.1->rhino_health) (2.9.0.post0)\n",
      "Requirement already satisfied: types-python-dateutil>=2.8.10 in /Users/danielrunt/.pyenv/versions/3.11.11/lib/python3.11/site-packages (from arrow<2.0,>=1.2.1->rhino_health) (2.9.0.20241206)\n",
      "Requirement already satisfied: annotated-types>=0.6.0 in /Users/danielrunt/.pyenv/versions/3.11.11/lib/python3.11/site-packages (from pydantic<3.0,>=2.5->rhino_health) (0.7.0)\n",
      "Requirement already satisfied: pydantic-core==2.33.2 in /Users/danielrunt/.pyenv/versions/3.11.11/lib/python3.11/site-packages (from pydantic<3.0,>=2.5->rhino_health) (2.33.2)\n",
      "Requirement already satisfied: typing-inspection>=0.4.0 in /Users/danielrunt/.pyenv/versions/3.11.11/lib/python3.11/site-packages (from pydantic<3.0,>=2.5->rhino_health) (0.4.1)\n",
      "Requirement already satisfied: charset-normalizer<4,>=2 in /Users/danielrunt/.pyenv/versions/3.11.11/lib/python3.11/site-packages (from requests<3.0,>=2.28->rhino_health) (3.4.0)\n",
      "Requirement already satisfied: idna<4,>=2.5 in /Users/danielrunt/.pyenv/versions/3.11.11/lib/python3.11/site-packages (from requests<3.0,>=2.28->rhino_health) (3.10)\n",
      "Requirement already satisfied: urllib3<3,>=1.21.1 in /Users/danielrunt/.pyenv/versions/3.11.11/lib/python3.11/site-packages (from requests<3.0,>=2.28->rhino_health) (2.2.3)\n",
      "Requirement already satisfied: certifi>=2017.4.17 in /Users/danielrunt/.pyenv/versions/3.11.11/lib/python3.11/site-packages (from requests<3.0,>=2.28->rhino_health) (2024.12.14)\n",
      "Requirement already satisfied: six>=1.5 in /Users/danielrunt/.pyenv/versions/3.11.11/lib/python3.11/site-packages (from python-dateutil>=2.7.0->arrow<2.0,>=1.2.1->rhino_health) (1.17.0)\n",
      "Note: you may need to restart the kernel to use updated packages.\n"
     ]
    }
   ],
   "source": [
    "pip install --upgrade rhino_health"
   ]
  },
  {
   "cell_type": "code",
   "execution_count": 2,
   "id": "d79b86ab0494f9a3",
   "metadata": {},
   "outputs": [],
   "source": [
    "from getpass import getpass\n",
    "import rhino_health as rh\n"
   ]
  },
  {
   "cell_type": "markdown",
   "id": "34fc1fcc06983474",
   "metadata": {},
   "source": [
    "### 2. Initialize the input values"
   ]
  },
  {
   "cell_type": "code",
   "execution_count": 9,
   "id": "2eaa229ffda4caba",
   "metadata": {},
   "outputs": [],
   "source": [
    "USERNAME = \"dan@rhinohealth.com\"\n",
    "CLIENT_DATA_PATH = \"/rhino_data/external/s3\""
   ]
  },
  {
   "cell_type": "markdown",
   "id": "5a69dbc463919399",
   "metadata": {},
   "source": [
    "### 3. Log in"
   ]
  },
  {
   "cell_type": "code",
   "execution_count": 11,
   "id": "3bf491d29c92724b",
   "metadata": {},
   "outputs": [
    {
     "name": "stdout",
     "output_type": "stream",
     "text": [
      "Logging In\n",
      "Logged In\n"
     ]
    }
   ],
   "source": [
    "from getpass import getpass\n",
    "import rhino_health as rh\n",
    "from rhino_health import ApiEnvironment\n",
    "\n",
    "print(\"Logging In\")\n",
    "session = rh.login(username=USERNAME, password=getpass(), rhino_api_url=ApiEnvironment.STAGING_AWS_URL)\n",
    "print(\"Logged In\")"
   ]
  },
  {
   "cell_type": "markdown",
   "id": "cdbec95927168879",
   "metadata": {},
   "source": [
    "### 4. Create a project"
   ]
  },
  {
   "cell_type": "code",
   "execution_count": 14,
   "id": "de25f74bc405c64d",
   "metadata": {},
   "outputs": [],
   "source": [
    "from rhino_health.lib.endpoints.project.project_dataclass import ProjectCreateInput\n",
    "user = session.current_user\n",
    "\n",
    "project = session.project.get_project_by_name(\"Validation Project\")\n",
    "if project is None:\n",
    "    new_project = ProjectCreateInput(\n",
    "        name=\"Validation Project\",\n",
    "        description=\"Project for Site Installation Validation\",\n",
    "        type=\"Validation\",\n",
    "        primary_workgroup_uid=user.primary_workgroup_uid\n",
    "    )\n",
    "    project = session.project.add_project(new_project)\n",
    "    print(f\"Finished Creating Project\")"
   ]
  },
  {
   "cell_type": "markdown",
   "id": "3591d2bf7ec92c30",
   "metadata": {},
   "source": [
    "### 5. Run Generalized Compute Code"
   ]
  },
  {
   "cell_type": "code",
   "execution_count": null,
   "id": "457ed818fc4cfd40",
   "metadata": {},
   "outputs": [
    {
     "name": "stdout",
     "output_type": "stream",
     "text": [
      "Exception: Failed to make request\n",
      "Status is 400, Trace Id: 0711gtaedbm2, Errors: Must supply at least one input dataset, Content is b'{\"errors\":[{\"title\":\"Validation Error\",\"message\":\"Must supply at least one input dataset\",\"extra_info\":{}}]}'\n",
      "\n"
     ]
    }
   ],
   "source": [
    "from pathlib import Path\n",
    "from textwrap import dedent\n",
    "from rhino_health.lib.endpoints.code_object.code_object_dataclass import (\n",
    "    CodeObjectCreateInput, \n",
    "    CodeObjectRunInput,\n",
    "    CodeTypes, \n",
    "    CodeExecutionMode, \n",
    "    RequirementMode, \n",
    "    CodeLocation\n",
    ")\n",
    "\n",
    "gen_comp_code = session.code_object.get_code_object_by_name(\"Datset Generation\")\n",
    "if gen_comp_code is None:\n",
    "    requirements = [\n",
    "        \"pandas==2.2.3\",\n",
    "        \"rdkit==2024.9.4\"\n",
    "    ]\n",
    "    gen_comp_code_input = CodeObjectCreateInput(\n",
    "        name=\"Dataset Generation\",\n",
    "        description=\"\",\n",
    "        input_data_schema_uids=[None],\n",
    "        output_data_schema_uids=[None],\n",
    "        project_uid=project.uid,\n",
    "        code_type=CodeTypes.PYTHON_CODE,\n",
    "        config={\n",
    "            \"code_execution_mode\": CodeExecutionMode.AUTO_CONTAINER_FILE,\n",
    "            \"python_version\": \"3.11\",\n",
    "            \"requirements_mode\": RequirementMode.PYTHON_PIP,\n",
    "            \"requirements\": requirements,\n",
    "            \"code_location\": CodeLocation.DEFAULT,\n",
    "            \"code\": dedent(\n",
    "                \"\"\"\n",
    "                import pandas as pd\n",
    "                from rdkit import Chem\n",
    "                from rdkit.Chem import Descriptors\n",
    "                \n",
    "                def calculate_molecule_weight(smiles):\n",
    "                    mol = Chem.MolFromSmiles(smiles)\n",
    "                    return Descriptors.MolWt(mol)\n",
    "                \n",
    "                df = pd.read_csv('/input/dataset.csv')\n",
    "                df[\"molecule_weight\"] = df[\"smiles\"].apply(calculate_molecule_weight)\n",
    "                df.to_csv('/output/dataset.csv', index=False)\n",
    "\n",
    "                \"\"\"\n",
    "            )\n",
    "        },\n",
    "    )\n",
    "    gen_comp_code = session.code_object.create_code_object(\n",
    "        gen_comp_code_input, return_existing=False, add_version_if_exists=True)\n",
    "    gen_comp_code = gen_comp_code.wait_for_build(1200)\n",
    "    print(f\"Finished Creating Code Object\")\n",
    "\n",
    "gen_comp_code_run_input = CodeObjectRunInput(\n",
    "    code_object_uid=gen_comp_code.uid,\n",
    "    input_dataset_uids=[[]],\n",
    "    output_dataset_names_suffix=\" - Molecule Weight\",\n",
    "    timeout_seconds=1200\n",
    ")\n",
    "\n",
    "gen_comp_code_run = session.code_object.run_code_object(gen_comp_code_run_input)\n",
    "gen_comp_code_run = gen_comp_code_run.wait_for_completion(1200)"
   ]
  },
  {
   "cell_type": "markdown",
   "id": "33ffb48d5c4d5393",
   "metadata": {},
   "source": [
    "### 6. Build NVFlare container"
   ]
  },
  {
   "cell_type": "code",
   "execution_count": null,
   "id": "87c26043285e50c",
   "metadata": {},
   "outputs": [],
   "source": [
    "from rhino_health.lib.endpoints.code_object.code_object_dataclass import (\n",
    "    CodeObjectCreateInput,\n",
    "    CodeTypes,\n",
    "    CodeExecutionMode,\n",
    "    RequirementMode,\n",
    "    CodeLocation,\n",
    "    ModelTrainInput\n",
    ")\n",
    "\n",
    "# Get the output dataset correctly\n",
    "output_datasets = gen_comp_code_run.output_datasets\n",
    "\n",
    "print(output_datasets)\n",
    "input_schema = output_datasets[0].data_schema_uid\n",
    "\n",
    "nvflare_autocontainer = session.code_object.get_code_object_by_name(\"NVFlare Chemprop Autocontainer\")\n",
    "if nvflare_autocontainer is None:\n",
    "    nvflare_autocontainer_input = CodeObjectCreateInput(\n",
    "        name=\"NVFlare Chemprop Autocontainer\",\n",
    "        description=\"\",\n",
    "        input_data_schema_uids=[input_schema],\n",
    "        output_data_schema_uids=[input_schema],\n",
    "        project_uid=project.uid,\n",
    "        code_type=CodeTypes.NVIDIA_FLARE_V2_5,\n",
    "        config={\n",
    "            \"code_execution_mode\": CodeExecutionMode.AUTO_CONTAINER_NVFLARE,\n",
    "            \"requirements\": [\n",
    "                \"nvflare>=2.5.0,<2.6.0\",\n",
    "                \"chemprop==2.0.5\",\n",
    "                \"tensorboard\"\n",
    "            ],\n",
    "            \"python_version\": \"3.11\",\n",
    "            \"requirements_mode\": RequirementMode.PYTHON_PIP,\n",
    "            \"code_location\": CodeLocation.S3_MULTIPART_ZIP,\n",
    "            \"folder_path\": \"./model/\"\n",
    "        }\n",
    "    )\n",
    "    nvflare_autocontainer = session.code_object.create_code_object(nvflare_autocontainer_input)\n",
    "    nvflare_autocontainer.wait_for_build(1200)\n",
    "    print(f\"Finished Creating Autocontainer\")\n",
    "\n",
    "run_params = ModelTrainInput(\n",
    "    code_object_uid = nvflare_autocontainer.uid,\n",
    "    input_dataset_uids = [dataset.uid],\n",
    "    one_fl_client_per_dataset = False,\n",
    "    validation_dataset_uids = [],\n",
    "    validation_datasets_inference_suffix = \"_validation\",\n",
    "    timeout_seconds = 1200,\n",
    "    config_fed_client = \"\",\n",
    "    config_fed_server = \"\",\n",
    "    secrets_fed_client = \"\",\n",
    "    secrets_fed_server = \"\",\n",
    "    sync = False\n",
    ")\n",
    "print(f\"Starting to run federated training of {nvflare_autocontainer.name}\")\n",
    "model_train = session.code_object.train_model(run_params)\n",
    "train_result = model_train.wait_for_completion(1200)\n",
    "print(f\"Finished training of {nvflare_autocontainer.name} with result: {train_result}\")"
   ]
  }
 ],
 "metadata": {
  "kernelspec": {
   "display_name": "Python 3",
   "language": "python",
   "name": "python3"
  },
  "language_info": {
   "codemirror_mode": {
    "name": "ipython",
    "version": 3
   },
   "file_extension": ".py",
   "mimetype": "text/x-python",
   "name": "python",
   "nbconvert_exporter": "python",
   "pygments_lexer": "ipython3",
   "version": "3.11.11"
  }
 },
 "nbformat": 4,
 "nbformat_minor": 5
}
