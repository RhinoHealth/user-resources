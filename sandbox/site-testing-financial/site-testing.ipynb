{
 "cells": [
  {
   "metadata": {},
   "cell_type": "markdown",
   "source": [
    "# Test the initial installation of a Rhino client\n",
    "\n",
    "#### Prerequisites\n",
    "1. Have an active Rhino Cloud user with the appropriate access\n",
    "2. Have the path to the Client-mounted storage (e.g. S3, GCS)\n",
    "3. Copy the accompanying data directory file over to the external data store"
   ],
   "id": "13f9cee1ad3ab2f0"
  },
  {
   "metadata": {},
   "cell_type": "markdown",
   "source": "### 1. Initialization and Login",
   "id": "553f454c2647fdc7"
  },
  {
   "metadata": {},
   "cell_type": "code",
   "source": "pip install --upgrade rhino_health",
   "id": "66ac257b4e30a4bd",
   "outputs": [],
   "execution_count": null
  },
  {
   "metadata": {},
   "cell_type": "code",
   "source": [
    "from getpass import getpass\n",
    "import rhino_health as rh\n"
   ],
   "id": "d79b86ab0494f9a3",
   "outputs": [],
   "execution_count": null
  },
  {
   "metadata": {},
   "cell_type": "markdown",
   "source": "### 2. Initialize the input values",
   "id": "34fc1fcc06983474"
  },
  {
   "metadata": {},
   "cell_type": "code",
   "source": [
    "USERNAME = \"<username>\"\n",
    "CLIENT_DATA_PATH = \"/rhino_data/external/<path to your data>\""
   ],
   "id": "2eaa229ffda4caba",
   "outputs": [],
   "execution_count": null
  },
  {
   "metadata": {},
   "cell_type": "markdown",
   "source": "### 3. Log in",
   "id": "5a69dbc463919399"
  },
  {
   "metadata": {},
   "cell_type": "code",
   "source": [
    "from rhino_health import ApiEnvironment\n",
    "print(\"Logging In\")\n",
    "session = rh.login(username=USERNAME, password=getpass())\n",
    "print(\"Logged In\")"
   ],
   "id": "3bf491d29c92724b",
   "outputs": [],
   "execution_count": null
  },
  {
   "metadata": {},
   "cell_type": "markdown",
   "source": "### 4. Create a project",
   "id": "cdbec95927168879"
  },
  {
   "metadata": {},
   "cell_type": "code",
   "source": [
    "from rhino_health.lib.endpoints.project.project_dataclass import ProjectCreateInput\n",
    "user = session.current_user\n",
    "\n",
    "project = session.project.get_project_by_name(\"Validation Project\")\n",
    "if project is None:\n",
    "    new_project = ProjectCreateInput(\n",
    "        name=\"Validation Project\",\n",
    "        description=\"Project for Site Installation Validation\",\n",
    "        type=\"Validation\",\n",
    "        primary_workgroup_uid=user.primary_workgroup_uid\n",
    "    )\n",
    "    project = session.project.add_project(new_project)\n",
    "    print(f\"Finished Creating Project\")"
   ],
   "id": "de25f74bc405c64d",
   "outputs": [],
   "execution_count": null
  },
  {
   "metadata": {},
   "cell_type": "markdown",
   "source": "### 5. Create a dataset and schema using client-mounted data access",
   "id": "c74ca50ad9b472c2"
  },
  {
   "metadata": {},
   "cell_type": "code",
   "source": [
    "from rhino_health.lib.endpoints.dataset.dataset_dataclass import DatasetCreateInput\n",
    "import os\n",
    "\n",
    "dataset = session.dataset.get_dataset_by_name(\"Validation Dataset\")\n",
    "if dataset is None:\n",
    "    dataset_input = DatasetCreateInput(\n",
    "        name=\"Validation Dataset\",\n",
    "        description=\"\",\n",
    "        project_uid=project.uid,\n",
    "        workgroup_uid=project.primary_workgroup_uid,\n",
    "        csv_filesystem_location=os.path.join(CLIENT_DATA_PATH, \"credit_risk_dataset.csv\"),\n",
    "        method=\"filesystem\",\n",
    "        data_schema=None,\n",
    "        is_data_deidentified=True\n",
    "    )\n",
    "    dataset = session.dataset.add_dataset(dataset_input)\n",
    "    print(f\"Finished Creating Dataset\")"
   ],
   "id": "c72c6d4da5e59297",
   "outputs": [],
   "execution_count": null
  },
  {
   "metadata": {},
   "cell_type": "markdown",
   "source": "### 6. Run Generalized Compute Code",
   "id": "3591d2bf7ec92c30"
  },
  {
   "metadata": {},
   "cell_type": "code",
   "source": [
    "debt_ratio_calculation = \"df['debt_ratio'] = df['loan_amnt'] / df['person_income']\"\n",
    "output_schema_uid = dataset.data_schema_uid\n",
    "\n",
    "output_dataset, run_results = dataset.run_code(debt_ratio_calculation, output_data_schema_uid = output_schema_uid, output_dataset_names_suffix = \" With Debt Ratio\")\n",
    "results = run_results.dict()['status']\n",
    "print(f\"Finished Creating and Running Code object with result: {results}\")"
   ],
   "id": "457ed818fc4cfd40",
   "outputs": [],
   "execution_count": null
  },
  {
   "metadata": {},
   "cell_type": "markdown",
   "source": "### 7. Build NVFlare container",
   "id": "33ffb48d5c4d5393"
  },
  {
   "metadata": {},
   "cell_type": "code",
   "source": [
    "from rhino_health.lib.endpoints.code_object.code_object_dataclass import (\n",
    "    CodeObjectCreateInput,\n",
    "    CodeTypes,\n",
    "    CodeExecutionMode,\n",
    "    RequirementMode,\n",
    "    CodeLocation,\n",
    "    ModelTrainInput\n",
    ")\n",
    "\n",
    "autocontainer = session.code_object.get_code_object_by_name(\"NVFlare Autocontainer\")\n",
    "if autocontainer is None:\n",
    "    autocontainer_input = CodeObjectCreateInput(\n",
    "        name=\"NVFlare Autocontainer\",\n",
    "        description=\"\",\n",
    "        input_data_schema_uids=[output_schema_uid],\n",
    "        output_data_schema_uids=[output_schema_uid],\n",
    "        project_uid=project.uid,\n",
    "        code_type=CodeTypes.NVIDIA_FLARE_V2_5,\n",
    "        config={\n",
    "            \"code_execution_mode\": CodeExecutionMode.AUTO_CONTAINER_NVFLARE,\n",
    "            \"requirements\": [\n",
    "                \"scikit-learn~=1.5.2\",\n",
    "                \"pandas~=2.2.3\",\n",
    "                \"xgboost~=2.1.2\",\n",
    "                \"nvflare~=2.5.0\",\n",
    "            ],\n",
    "            \"python_version\": \"3.10\",\n",
    "            \"requirements_mode\": RequirementMode.PYTHON_PIP,\n",
    "            \"code_location\": CodeLocation.S3_MULTIPART_ZIP,\n",
    "            \"folder_path\": \"./model/\"\n",
    "        }\n",
    "    )\n",
    "    autocontainer = session.code_object.create_code_object(autocontainer_input)\n",
    "    autocontainer.wait_for_build(1200)\n",
    "    print(f\"Finished Creating Autocontainer\")\n",
    "\n",
    "input_dataset_uids = [dataset.uid]\n",
    "run_params = ModelTrainInput(\n",
    "    code_object_uid = autocontainer.uid,\n",
    "    input_dataset_uids = input_dataset_uids,\n",
    "    one_fl_client_per_dataset = False,\n",
    "    validation_dataset_uids = [],\n",
    "    validation_datasets_inference_suffix = \"_validation\",\n",
    "    timeout_seconds = 600,\n",
    "    config_fed_client = \"\",\n",
    "    config_fed_server = \"\",\n",
    "    secrets_fed_client = \"\",\n",
    "    secrets_fed_server = \"\",\n",
    "    sync = False\n",
    ")\n",
    "print(f\"Starting to run federated training of {autocontainer.name}\")\n",
    "model_train = session.code_object.train_model(run_params)\n",
    "train_result = model_train.wait_for_completion()\n",
    "print(f\"Finished training of {autocontainer.name} with result: {train_result}\")"
   ],
   "id": "87c26043285e50c",
   "outputs": [],
   "execution_count": null
  },
  {
   "metadata": {},
   "cell_type": "code",
   "source": "",
   "id": "32df11f0b5c4d65",
   "outputs": [],
   "execution_count": null
  }
 ],
 "metadata": {
  "kernelspec": {
   "display_name": "Python 3 (ipykernel)",
   "language": "python",
   "name": "python3"
  },
  "language_info": {
   "codemirror_mode": {
    "name": "ipython",
    "version": 2
   },
   "file_extension": ".py",
   "mimetype": "text/x-python",
   "name": "python",
   "nbconvert_exporter": "python",
   "pygments_lexer": "ipython2",
   "version": "2.7.6"
  }
 },
 "nbformat": 4,
 "nbformat_minor": 5
}
