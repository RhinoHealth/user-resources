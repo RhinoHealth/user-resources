{
 "cells": [
  {
   "cell_type": "markdown",
   "id": "8cec8749",
   "metadata": {},
   "source": [
    "# Notebook: Health System Data Extraction\n",
    "### Importing tabular data onto Rhino with SQL queries\n",
    "In this notebook, you'll use SQL to query from an external database (such as a health system's clinical data warehouse) and import the results of those queries onto the Rhino Federated Computing Platform.\n",
    "\n",
    "#### Import the Rhino Health Python library\n",
    "The code below imports various classes and functions from the `rhino_health` library, which is a custom library designed to interact with the Rhino Federated Computing Platform. More information about the SDK can be found on our <a href=\"https://rhinohealth.github.io/rhino_sdk_docs/html/autoapi/index.html\" target=\"_blank\">Official SDK Documentation</a> and on our <a href=\"https://pypi.org/project/rhino-health/\" target=\"_blank\">PyPI Repository Page</a>"
   ]
  },
  {
   "cell_type": "code",
   "execution_count": 1,
   "id": "bb085bd3-3cb2-49d6-b628-7f357fe1a1c7",
   "metadata": {},
   "outputs": [
    {
     "name": "stdout",
     "output_type": "stream",
     "text": [
      "Requirement already satisfied: rhino_health in /Library/Frameworks/Python.framework/Versions/3.11/lib/python3.11/site-packages (1.0.3)\n",
      "Collecting rhino_health\n",
      "  Downloading rhino_health-1.0.5-py3-none-any.whl.metadata (4.7 kB)\n",
      "Requirement already satisfied: arrow<2,>=1.2.1 in /Library/Frameworks/Python.framework/Versions/3.11/lib/python3.11/site-packages (from rhino_health) (1.2.3)\n",
      "Requirement already satisfied: backoff<2.3,>=2.1.1 in /Library/Frameworks/Python.framework/Versions/3.11/lib/python3.11/site-packages (from rhino_health) (2.2.1)\n",
      "Requirement already satisfied: funcy<3,>=1.16 in /Library/Frameworks/Python.framework/Versions/3.11/lib/python3.11/site-packages (from rhino_health) (1.18)\n",
      "Requirement already satisfied: pydantic<2.6,>=2.5 in /Library/Frameworks/Python.framework/Versions/3.11/lib/python3.11/site-packages (from rhino_health) (2.5.3)\n",
      "Requirement already satisfied: ratelimit<2.3,>=2.2.1 in /Library/Frameworks/Python.framework/Versions/3.11/lib/python3.11/site-packages (from rhino_health) (2.2.1)\n",
      "Requirement already satisfied: requests<2.32,>=2.28.0 in /Library/Frameworks/Python.framework/Versions/3.11/lib/python3.11/site-packages (from rhino_health) (2.31.0)\n",
      "Requirement already satisfied: typing-extensions>=4.8.0 in /Library/Frameworks/Python.framework/Versions/3.11/lib/python3.11/site-packages (from rhino_health) (4.10.0)\n",
      "Requirement already satisfied: python-dateutil>=2.7.0 in /Library/Frameworks/Python.framework/Versions/3.11/lib/python3.11/site-packages (from arrow<2,>=1.2.1->rhino_health) (2.8.2)\n",
      "Requirement already satisfied: annotated-types>=0.4.0 in /Library/Frameworks/Python.framework/Versions/3.11/lib/python3.11/site-packages (from pydantic<2.6,>=2.5->rhino_health) (0.6.0)\n",
      "Requirement already satisfied: pydantic-core==2.14.6 in /Library/Frameworks/Python.framework/Versions/3.11/lib/python3.11/site-packages (from pydantic<2.6,>=2.5->rhino_health) (2.14.6)\n",
      "Requirement already satisfied: charset-normalizer<4,>=2 in /Library/Frameworks/Python.framework/Versions/3.11/lib/python3.11/site-packages (from requests<2.32,>=2.28.0->rhino_health) (3.2.0)\n",
      "Requirement already satisfied: idna<4,>=2.5 in /Library/Frameworks/Python.framework/Versions/3.11/lib/python3.11/site-packages (from requests<2.32,>=2.28.0->rhino_health) (3.4)\n",
      "Requirement already satisfied: urllib3<3,>=1.21.1 in /Library/Frameworks/Python.framework/Versions/3.11/lib/python3.11/site-packages (from requests<2.32,>=2.28.0->rhino_health) (1.26.16)\n",
      "Requirement already satisfied: certifi>=2017.4.17 in /Library/Frameworks/Python.framework/Versions/3.11/lib/python3.11/site-packages (from requests<2.32,>=2.28.0->rhino_health) (2023.7.22)\n",
      "Requirement already satisfied: six>=1.5 in /Library/Frameworks/Python.framework/Versions/3.11/lib/python3.11/site-packages (from python-dateutil>=2.7.0->arrow<2,>=1.2.1->rhino_health) (1.16.0)\n",
      "Downloading rhino_health-1.0.5-py3-none-any.whl (93 kB)\n",
      "\u001b[2K   \u001b[90m━━━━━━━━━━━━━━━━━━━━━━━━━━━━━━━━━━━━━━━━\u001b[0m \u001b[32m93.4/93.4 kB\u001b[0m \u001b[31m1.5 MB/s\u001b[0m eta \u001b[36m0:00:00\u001b[0ma \u001b[36m0:00:01\u001b[0m\n",
      "\u001b[?25hInstalling collected packages: rhino_health\n",
      "  Attempting uninstall: rhino_health\n",
      "    Found existing installation: rhino_health 1.0.3\n",
      "    Uninstalling rhino_health-1.0.3:\n",
      "      Successfully uninstalled rhino_health-1.0.3\n",
      "Successfully installed rhino_health-1.0.5\n",
      "Note: you may need to restart the kernel to use updated packages.\n"
     ]
    }
   ],
   "source": [
    "pip install --upgrade rhino_health"
   ]
  },
  {
   "cell_type": "code",
   "execution_count": 9,
   "id": "f9e3e349",
   "metadata": {},
   "outputs": [],
   "source": [
    "import getpass\n",
    "from pprint import pprint\n",
    "import rhino_health as rh\n",
    "from rhino_health.lib.endpoints.dataset.dataset_dataclass import DatasetCreateInput\n",
    "from rhino_health.lib.endpoints.sql_query.sql_query_dataclass import (\n",
    "    SQLQueryImportInput,\n",
    "    SQLQueryInput,\n",
    "    SQLServerTypes,\n",
    "    ConnectionDetails,\n",
    ")"
   ]
  },
  {
   "cell_type": "markdown",
   "id": "3e04b454",
   "metadata": {},
   "source": [
    "### Authenticate to the Rhino FCP\n",
    "The `RhinoSession` class in the `rhino_health` library is a comprehensive interface for interacting with various endpoints in the Rhino Health ecosystem. It offers direct access to multiple specialized endpoints, including Code Objects, Datasets, Data Schemas, Code Runs, Projects, and Workgroups, facilitating a wide range of operations in healthcare data management and analysis. The class also supports features like two-factor authentication and user switching, enhancing security and flexibility in handling different user sessions and workflows within the Rhino Health platform."
   ]
  },
  {
   "cell_type": "code",
   "execution_count": 3,
   "id": "3600a62c-8df7-4f1a-aa28-bf7528caa3a4",
   "metadata": {},
   "outputs": [
    {
     "name": "stdin",
     "output_type": "stream",
     "text": [
      " ········\n"
     ]
    },
    {
     "name": "stdout",
     "output_type": "stream",
     "text": [
      "Logged In\n"
     ]
    }
   ],
   "source": [
    "my_username = \"adrish+2@rhinohealth.com\" # Replace this with the email you use to log into Rhino Health\n",
    "session = rh.login(username=my_username, password=getpass.getpass(), rhino_api_url='https://dev.rhinohealth.com/api/')  ## chnage the URL to match the Rhino instance\n",
    "print(\"Logged In\")"
   ]
  },
  {
   "cell_type": "markdown",
   "id": "101d31d9-b79f-4fa9-a9dd-1c8fe31a4cff",
   "metadata": {},
   "source": [
    "### Identify the desired project in the Rhino UI.\n",
    "Before completing this step using the Python SDK, create a project on the Rhino web platform. Once the project has been created, copy the UID from the project you just created in the UI by navigating to the homepage, pressing on the three-vertical dot button in your project's square, and then selecting the button Copy UID.\n",
    "\n",
    "![Copy Poject UID Screenshot](./img/copy_uid.png)"
   ]
  },
  {
   "cell_type": "code",
   "execution_count": 4,
   "id": "ae904603-854b-457b-9203-294a1abbb1d9",
   "metadata": {},
   "outputs": [
    {
     "name": "stdout",
     "output_type": "stream",
     "text": [
      "48cb366f-b05f-4ca2-8e1d-6dfc336cd344\n"
     ]
    }
   ],
   "source": [
    "project_uid = '99c775aa-b93d-4b5a-8ce3-b4bcf0250b37' # Replace with your Project's UID\n",
    "\n",
    "workgroup_uid = session.current_user.primary_workgroup.uid\n",
    "print(workgroup_uid)"
   ]
  },
  {
   "cell_type": "markdown",
   "id": "7324ef97",
   "metadata": {},
   "source": [
    "### Connection Setup\n",
    "The `rhino_health.lib.endpoints.sql_query.sql_query_dataclass` module in the Rhino Health library provides classes to handle SQL queries against external databases and import data into the Rhino Federated Computing Platform. It includes `SQLQueryInput` for specifying parameters of a SQL query, `SQLQueryImportInput` for importing a Dataset from an external SQL database query, and `SQLQuery`, a class representing an executed SQL query. Additional classes like `QueryResultStatus` and `SQLServerTypes` define the status of query results and supported SQL server types, respectively, while the `ConnectionDetails` class specifies connection details for an external SQL database.\n",
    "\n",
    "More information about Rhino's SQL classes can be found by reviewing our SDK documentation <a href=\"https://rhinohealth.github.io/rhino_sdk_docs/html/autoapi/rhino_health/lib/endpoints/sql_query/index.html\" target=\"_blank\">here</a>.\n",
    "\n",
    "##### A note about `server_type`:\n",
    "When specifying the connection details, ensure that you provide the server_type using the approved SQLServerTypes enum. This step ensures that your server is supported and compatible with the querying process."
   ]
  },
  {
   "cell_type": "code",
   "execution_count": 5,
   "id": "0da2aa6e",
   "metadata": {},
   "outputs": [
    {
     "name": "stdin",
     "output_type": "stream",
     "text": [
      " ········\n"
     ]
    }
   ],
   "source": [
    "sql_db_user = \"rhino\" # Replace this with your DB username (make sure the user has read-only permissions to the DB).\n",
    "external_server_url = \"ext-hospital-data.covi47dnmpiy.us-east-1.rds.amazonaws.com:5432\" # Replace this with url + port of the SQL DB you want to query (ie \"{url}:{port}\").\n",
    "db_name = \"hospital_data\" # Replace this with your DB name.\n",
    "\n",
    "connection_details = ConnectionDetails(\n",
    "    server_user=sql_db_user,\n",
    "    password=getpass.getpass(),    \n",
    "    server_type=SQLServerTypes.POSTGRESQL, # Replace POSTGRESQL with the relevant type of your sql server (See docs for all supported types).\n",
    "    server_url=external_server_url,\n",
    "    db_name=db_name\n",
    ")"
   ]
  },
  {
   "cell_type": "markdown",
   "id": "1136895c",
   "metadata": {},
   "source": [
    "### Writing SQL queries against the DB\n",
    "Using the `SQLQueryImportInput` function will allow us to query an external relational database and import the results of the query as a Dataset. A Dataset is a central concept on the Rhino platform; to learn more, please navigate to this <a target=\"_blank\" href=\"https://docs.rhinohealth.com/hc/en-us/articles/12384748397213-What-is-a-Cohort-\">link</a>.\n",
    "\n",
    "Executing the `SQLQueryImportInput` function requires a few arguments:\n",
    "- datasett_name (str): Name for the Dataset you are creating.\n",
    "- is_data_deidentified (bool): Indicates if the data in the query is deidentified for privacy reasons.\n",
    "- connection_details (ConnectionDetails): Details like URL, user, and password to connect to the SQL server.\n",
    "- data_schema_uid (Optional[str]): The unique identifier for the data schema in the context of the query.\n",
    "- timeout_seconds (int): Time limit in seconds for the query execution.\n",
    "- project_uid (str): Unique identifier for the project context of the query.\n",
    "- workgroup_uid (str): Unique identifier for the workgroup context of the query.\n",
    "- sql_query (str): The actual SQL query to be run.\n",
    "\n",
    "#### Table 1: Patient Admission Data\n",
    "Our first query will retrieve patient demographics and associated clinical codes from inpatient admissions for patients with chest x-rays (see the WHERE clause, where we identify a selection of chest x-rays in the MIMIC v4 database)."
   ]
  },
  {
   "cell_type": "code",
   "execution_count": 6,
   "id": "66339119-56f3-41ba-b022-2e4380076f61",
   "metadata": {},
   "outputs": [
    {
     "name": "stdout",
     "output_type": "stream",
     "text": [
      "Waiting for SQL query to complete (0 hours 0 minutes and a second)\n",
      "Waiting for SQL query to complete (0 hours 0 minutes and 12 seconds)\n",
      "Waiting for SQL query to complete (0 hours 0 minutes and 23 seconds)\n",
      "Run finished successfully\n"
     ]
    }
   ],
   "source": [
    "query_demo=\"\"\"\n",
    "SELECT distinct\n",
    "      pat.subject_id\n",
    "    , adm.hadm_id\n",
    "    , pat.anchor_age + (EXTRACT(YEAR FROM adm.admittime) - pat.anchor_year) AS age\n",
    "    , pat.gender\n",
    "    , adm.insurance\n",
    "    , adm.admission_type\n",
    "    ,adm.admission_location\n",
    "    ,adm.discharge_location\n",
    "    ,adm.language\n",
    "    ,adm.marital_status\n",
    "    , adm.race\n",
    "    , icd.icd_code as diagnosis_code\n",
    "    ,proc.icd_code as procedure_code\n",
    "FROM mimiciv_hosp.admissions adm\n",
    "LEFT JOIN mimiciv_hosp.patients pat\n",
    "ON pat.subject_id = adm.subject_id\n",
    "LEFT JOIN mimiciv_hosp.diagnoses_icd icd\n",
    "ON adm.subject_id = icd.subject_id\n",
    "AND adm.hadm_id = icd.hadm_id\n",
    "LEFT JOIN mimiciv_hosp.procedures_icd proc\n",
    "ON adm.subject_id = proc.subject_id\n",
    "AND adm.hadm_id = proc.hadm_id\n",
    "LEFT JOIN mimiciv_cxr.study_list study\n",
    "ON adm.subject_id =study.subject_id\n",
    "WHERE study.study_id in(55199984,58487107,50127595,53092856,56675999,50331333,58713162,54624197,55037150,56783987,57734186,51764355,55223142,58846671,\n",
    "51274834,57047258,56875381,51658914,51800155,51750028,53717084,59019496,59536212,50393027,55239920,55263578,56074305,50077246,52592881,53301121,54924087,\n",
    "55068499,54726934,51737379,58221226,55616331,53180166,59376223,53396044,58664976,53106744,56018087,59978743,54837632,58547191,51509541,58831216,59141448,\n",
    "55658939,54588572,57483156,53317659,56888594,53438164,50703768,59292343,50896309,51977596,55388853,51014962,50785186,59355587,57119564,59771012,53184881,\n",
    "56463743,51268111,52269885,53127212,53528101,55376584,56064916,56626758,57244947,58152399,58562238,56867934)\n",
    "\"\"\"\n",
    "import_run_params = SQLQueryImportInput(\n",
    "    session = session,\n",
    "    project = project_uid, # The project/workgroup will be used to validate permissions (including and k_anonymization value)\n",
    "    workgroup = workgroup_uid,\n",
    "    connection_details = connection_details,\n",
    "    dataset_name = 'mimic_ehr_demo_hco',\n",
    "    data_schema_uid = None, # Auto-Generating the Output Data Schema for the Dataset\n",
    "    timeout_seconds = 1200,\n",
    "    is_data_deidentified = True,\n",
    "    sql_query = query_demo\n",
    ")\n",
    "\n",
    "response = session.sql_query.import_dataset_from_sql_query(import_run_params)"
   ]
  },
  {
   "cell_type": "markdown",
   "id": "d80ae68c",
   "metadata": {},
   "source": [
    "#### Table 2: EHR Observations\n",
    "Our second query will retrieve observations from our clinical information system, including patient BMI, height, weight, and diastolic and systolic blood pressure."
   ]
  },
  {
   "cell_type": "code",
   "execution_count": 7,
   "id": "21d3f4eb-3ef9-4302-8bf3-34c5f7ece97a",
   "metadata": {},
   "outputs": [
    {
     "name": "stdout",
     "output_type": "stream",
     "text": [
      "Waiting for SQL query to complete (0 hours 0 minutes and a second)\n",
      "Waiting for SQL query to complete (0 hours 0 minutes and 12 seconds)\n",
      "Run finished successfully\n"
     ]
    }
   ],
   "source": [
    "query_obs = \"\"\"\n",
    "SELECT\n",
    "   omr.subject_id,\n",
    "   omr.chartdate,\n",
    "   omr.result_name,\n",
    "   max(omr.result_value) as result\n",
    "FROM mimiciv_hosp.omr omr\n",
    "LEFT JOIN mimiciv_cxr.study_list study\n",
    "ON omr.subject_id =study.subject_id\n",
    "WHERE study.study_id in (55199984,58487107,50127595,53092856,56675999,50331333,58713162,54624197,55037150,56783987,57734186,51764355,55223142,58846671,\n",
    "51274834,57047258,56875381,51658914,51800155,51750028,53717084,59019496,59536212,50393027,55239920,55263578,56074305,50077246,52592881,53301121,54924087,\n",
    "55068499,54726934,51737379,58221226,55616331,53180166,59376223,53396044,58664976,53106744,56018087,59978743,54837632,58547191,51509541,58831216,59141448,\n",
    "55658939,54588572,57483156,53317659,56888594,53438164,50703768,59292343,50896309,51977596,55388853,51014962,50785186,59355587,57119564,59771012,53184881,\n",
    "56463743,51268111,52269885,53127212,53528101,55376584,56064916,56626758,57244947,58152399,58562238,56867934)\n",
    "GROUP BY omr.subject_id, omr.chartdate, omr.result_name\n",
    "\"\"\"\n",
    "\n",
    "import_run_params = SQLQueryImportInput(\n",
    "    session = session,\n",
    "    project = project_uid, # The project/workgroup will be used to validate permissions (including and k_anonymization value)\n",
    "    workgroup = workgroup_uid,\n",
    "    connection_details = connection_details,\n",
    "    dataset_name = 'mimic_ehr_obs_hco',\n",
    "    data_schema_uid = None, # Auto-Generating the Output Data Schema for the Dataset\n",
    "    timeout_seconds = 1200,\n",
    "    is_data_deidentified = True,\n",
    "    sql_query = query_obs\n",
    ")\n",
    "\n",
    "response = session.sql_query.import_dataset_from_sql_query(import_run_params)"
   ]
  },
  {
   "cell_type": "markdown",
   "id": "98e754e6",
   "metadata": {},
   "source": [
    "### Images: Importing chest x-rays from a PACS system into my Rhino client\n",
    "Next, we'll import chest x-rays into our project so that we can conduct a computer vision experiment. \n",
    "\n",
    "**To enable a friction-less guided sandbox experience, Rhino staff have uploaded DICOM data into the project for you.** If you are interested in learning more about how data can be imported from your local computing environment into the Rhino Federated Computing Platform, please refer to this section of our documentation <a target=\"_blank\" href=\"https://docs.rhinohealth.com/hc/en-us/articles/12385912890653-Adding-Data-to-your-Rhino-Federated-Computing-Platform-Client\">here</a>.\n",
    "\n",
    "The data has been loaded in the `/rhino_data/dicom` path in the Rhino client. In addition, a file that provides metadata to associate the DICOM studies with the EHR data has been imported ('/rhino_data/hco_dataset.csv')."
   ]
  },
  {
   "cell_type": "code",
   "execution_count": 10,
   "id": "5f652fdc",
   "metadata": {},
   "outputs": [
    {
     "name": "stdout",
     "output_type": "stream",
     "text": [
      "Created new Dataset 'mimic_cxr_hco' with uid '5a0230a5-43e0-47c0-9495-8423c3c757fd'\n"
     ]
    }
   ],
   "source": [
    "# Replace with file locations if needed\n",
    "\n",
    "dicom_path = \"/rhino_data/dicom\"\n",
    "metadata_file = \"/rhino_data/hco_dataset.csv\"\n",
    "\n",
    "dataset_creation_params = DatasetCreateInput(\n",
    "    name=\"mimic_cxr_hco\",\n",
    "    description=\"mimic_cxr_hco\",\n",
    "    project_uid=project_uid, \n",
    "    workgroup_uid=workgroup_uid,\n",
    "    data_schema_uid = None,\n",
    "    image_filesystem_location=dicom_path,\n",
    "    csv_filesystem_location = metadata_file,\n",
    "    is_data_deidentified=True,\n",
    "    method=\"filesystem\",\n",
    ")\n",
    "\n",
    "hco_image_dataset = session.dataset.add_dataset(dataset_creation_params)\n",
    "print(f\"Created new Dataset '{hco_image_dataset.name}' with uid '{hco_image_dataset.uid}'\")"
   ]
  },
  {
   "cell_type": "markdown",
   "id": "1a47f554",
   "metadata": {},
   "source": [
    "### What you'll see in the Rhino UI:\n",
    "Once all three queries have been executed, you should see three Datasets in the user interface:\n",
    "![Mimic Datasets in the FCP](./img/mimic_datasets.png)"
   ]
  },
  {
   "cell_type": "markdown",
   "id": "ce69a362",
   "metadata": {},
   "source": [
    "### Where is my data in the Rhino client?  \n",
    "Once data is uploaded, it'll reside in your designated Rhino client. While the Rhino Federated Computing Platform eliminates the need for the user to know the path of the data (enabling users just to refer to 'Datasets' it'll reside in the `/rhino_data/image/dicom` folder. \n",
    "![Dataset Container Paths](./img/dataset_container_path.png)\n",
    "\n",
    "To learn more about working with DICOM data on the Rhino Federated Computing Platform, please refer to our documentation <a target=\"_blank\" href=\"https://docs.rhinohealth.com/hc/en-us/articles/13136536913693-Example-1-Defining-a-Cohort-with-DICOM-Data\">here</a>."
   ]
  }
 ],
 "metadata": {
  "kernelspec": {
   "display_name": "Python 3 (ipykernel)",
   "language": "python",
   "name": "python3"
  },
  "language_info": {
   "codemirror_mode": {
    "name": "ipython",
    "version": 3
   },
   "file_extension": ".py",
   "mimetype": "text/x-python",
   "name": "python",
   "nbconvert_exporter": "python",
   "pygments_lexer": "ipython3",
   "version": "3.11.4"
  }
 },
 "nbformat": 4,
 "nbformat_minor": 5
}
