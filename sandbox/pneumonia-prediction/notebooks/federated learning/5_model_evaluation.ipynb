{
 "cells": [
  {
   "cell_type": "markdown",
   "id": "e1711135-c0c6-47cd-9511-76ee8bdf35f2",
   "metadata": {},
   "source": [
    "# Notebook #4: Model Training on Federated Data\n",
    "\n",
    "#### Import the Rhino Health Python library & Authenticate to the Rhino Cloud\n",
    "We'll again import any necessary functions from the `rhino_health` library and authenticate to the Rhino Cloud. Please refer to Notebook #1 for an explanation of the `session` interface for interacting with various endpoints in the Rhino Health ecosystem. In addition, you can always find more information about the Rhino SDK on our <a target=\"_blank\" href=\"https://rhinohealth.github.io/rhino_sdk_docs/html/autoapi/index.html\">Official SDK Documentation</a> and on our <a target=\"_blank\" href=\"https://pypi.org/project/rhino-health/\">PyPI Repository Page</a>"
   ]
  },
  {
   "cell_type": "code",
   "execution_count": null,
   "id": "3d7fd74d-416e-41b1-8a08-2383beb05b34",
   "metadata": {},
   "outputs": [],
   "source": [
    "import pandas as pd\n",
    "import numpy as np\n",
    "import matplotlib.axes\n",
    "import matplotlib.figure\n",
    "import matplotlib.pyplot as plt\n",
    "from PIL import Image\n",
    "import os\n",
    "import sys\n",
    "import getpass\n",
    "import json\n",
    "import io\n",
    "import base64\n",
    "import rhino_health as rh\n",
    "from rhino_health.lib.metrics import RocAuc, RocAucWithCI\n",
    "\n",
    "my_username = \"FCP_LOGIN_EMAIL\" # Replace this with the email you use to log into Rhino Health\n",
    "session = rh.login(username=my_username, password=getpass.getpass())"
   ]
  },
  {
   "cell_type": "markdown",
   "id": "f455e007-81e4-4421-ae3d-126d147fca75",
   "metadata": {},
   "source": [
    "#### Load the Evaluation Results Generated in Notebook #4\n",
    "In the previous notebook, we passed a string to the `validation_dataset_inference_suffix` argument. This had the effect of assigning a name to the dataset that contains the results of our model. We'll retrieve that dataset now so that we can use the data to examine the results of our model validation.  "
   ]
  },
  {
   "cell_type": "code",
   "execution_count": null,
   "id": "8cb6d9e7-a0a7-4935-9920-a6ad217b7c4b",
   "metadata": {},
   "outputs": [],
   "source": [
    "project = session.project.get_project_by_name(\"YOUR_PROJECT_NAME\")  # Replace with your project name\n",
    "results_datasets = session.dataset.search_for_datasets_by_name('DATASET_SUFFIX') # Change it with your suffix\n",
    "[dataset.name for dataset in results_datasetes]"
   ]
  },
  {
   "cell_type": "markdown",
   "id": "31e2242f-4cbd-4361-a676-d2278246c839",
   "metadata": {},
   "source": [
    "This **Code Run** object encapsulates vital information pertaining to our specific model run within the Rhino Health FCP. Code Runs serve as the cornerstone of informed data analysis within Rhino Health FCP. By encapsulating run configurations, runtime insights, logs, and reporting capabilities, the Code Run object empowers you to derive meaningful insights, troubleshoot effectively, and collaborate seamlessly with others. It's your gateway to unlocking the potential of your model executions.\n",
    "\n"
   ]
  },
  {
   "cell_type": "markdown",
   "id": "c9d92da8-5bec-4b4d-97bf-75596e71940e",
   "metadata": {},
   "source": [
    "#### Generate a Receiver Operating Characteristic (ROC) curve\n",
    "An **ROC curve** (receiver operating characteristic curve) is a graph showing the performance of a classification model at all classification thresholds. An ROC curve plots true positive ratio vs. false positive ratio at different classification thresholds. Lowering the classification threshold classifies more items as positive, thus increasing both False Positives and True Positives. "
   ]
  },
  {
   "cell_type": "code",
   "execution_count": null,
   "id": "43f733fc-bf90-4945-ade5-63a9932f4a4d",
   "metadata": {},
   "outputs": [],
   "source": [
    "# function to plot ROC\n",
    "\n",
    "def plot_roc(results,datasets):\n",
    "    colors = plt.rcParams['axes.prop_cycle'].by_key()['color']\n",
    "    linestyle_cycle = ['-', '--']\n",
    "    fig, ax = plt.subplots(figsize=[6, 4], dpi=200)\n",
    "    linestyle = linestyle_cycle[0]\n",
    "    \n",
    "    for i,result in enumerate (results):\n",
    "        roc_metrics = result.output\n",
    "        color = colors[0]\n",
    "        ax.plot(roc_metrics['fpr'], roc_metrics['tpr'], color=colors[i], \n",
    "                linestyle=linestyle, label=datasets[i])\n",
    "        ax.legend(loc='lower right')\n",
    "\n",
    "    ax.title.set_text('ROC per Site')\n",
    "    ax.set_xlabel('1 - Specificity')\n",
    "    ax.set_ylabel('Sensitivity')\n",
    "    ax.grid(True)\n",
    "    ax.set_xlim([0, 1])\n",
    "    ax.set_ylim([0, 1])\n",
    "    fig.canvas.draw()\n",
    "    return fig"
   ]
  },
  {
   "cell_type": "code",
   "execution_count": null,
   "id": "0b5fe7df-cff1-4f4b-8d0f-e55c992ec4a2",
   "metadata": {},
   "outputs": [],
   "source": [
    "results = []\n",
    "datasets = []\n",
    "report_data = []\n",
    "report_data.append({\"type\": \"Title\", \"data\": \"ROC Analysis\"})\n",
    "\n",
    "for result in results_datasets:\n",
    "    dataset = session.dataset.get_dataset(result.uid)\n",
    "    datasets.append(dataset.name.split('-')[0])\n",
    "    metric_configuration = RocAuc(y_true_variable=\"Pneumonia\",\n",
    "                                  y_pred_variable=\"Model_Score\")\n",
    "    results.append(dataset.get_metric(metric_configuration))\n",
    "fig = plot_roc(results, datasets)\n",
    "image_to_store = Image.frombytes('RGB', fig.canvas.get_width_height(), fig.canvas.tostring_rgb())\n",
    "image_to_store.save(\"ROC_per_site.png\", format='png', optimize=True, quality=100)\n",
    "\n",
    "with open(\"ROC_per_site.png\", \"rb\") as temp_image:\n",
    "    base_64_image = base64.b64encode(temp_image.read()).decode(\"utf-8\")\n",
    "    report_data.append(\n",
    "              {\n",
    "                 \"type\": \"Image\",\n",
    "                 \"data\": {\n",
    "                     \"image_filename\": \"ROC per site\",\n",
    "                     \"image_base64\": base_64_image,\n",
    "                 },\n",
    "                 \"width\": 100\n",
    "              }\n",
    "    )"
   ]
  },
  {
   "cell_type": "markdown",
   "id": "b45b0e2e-7e55-4c53-b471-8b9c16a9d5d7",
   "metadata": {
    "jp-MarkdownHeadingCollapsed": true
   },
   "source": [
    "### Upload the visualizations to the Rhino Health Platform\n",
    "Users have the flexibility to generate reports related to the code run and make them accessible via the Code Run object. This feature aids in sharing insights and outcomes with collaborators or stakeholders.\n",
    "\n",
    "In the below code block we'll upload our ROC curve visualization to the cloud so that it can be viewed by our collaborators. "
   ]
  },
  {
   "cell_type": "code",
   "execution_count": null,
   "id": "f13b1b6c-58bd-454a-8a3d-efcadbdfd309",
   "metadata": {},
   "outputs": [],
   "source": [
    "code_run_uid = \"XXXXXXXXX-XXXX-XXXX-XXXX-XXXXXXXXXXXX\" # Paste the UID of the Code Run object for your NVF\n",
    "result = session.post(f\"code_runs/{code_run_uid}/set_report/\", data={\"report_data\": json.dumps(report_data)})"
   ]
  }
 ],
 "metadata": {
  "kernelspec": {
   "display_name": "Python 3 (ipykernel)",
   "language": "python",
   "name": "python3"
  },
  "language_info": {
   "codemirror_mode": {
    "name": "ipython",
    "version": 3
   },
   "file_extension": ".py",
   "mimetype": "text/x-python",
   "name": "python",
   "nbconvert_exporter": "python",
   "pygments_lexer": "ipython3",
   "version": "3.11.4"
  }
 },
 "nbformat": 4,
 "nbformat_minor": 5
}
