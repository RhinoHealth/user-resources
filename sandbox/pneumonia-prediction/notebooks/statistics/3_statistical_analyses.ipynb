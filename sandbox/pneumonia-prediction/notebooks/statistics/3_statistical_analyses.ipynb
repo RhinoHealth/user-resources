{
 "cells": [
  {
   "cell_type": "markdown",
   "id": "cb0d6d79",
   "metadata": {},
   "source": [
    "# Notebook #3: Exploratory Data Analyses, Statistical Testing, and Time Series Analysis\n",
    "The `rhino_health` Python library is a robust tool designed to support a wide array of statistical and epidemiological analyses over federated data sets, crucial in the realm of healthcare and medical research. In this notebook, we demonstrate the ability to perform analyses over multiple distributed datasets. More specifically, we'll perform an analysis of data related to pneumonia outcomes and perform both exploratory data analyses to support our machine learning project as well as hypothesis testing for a traditional biostatistics analysis.\n",
    "\n",
    "#### Import Rhino's Metrics Module\n",
    "\n",
    "The `rhino_health.lib.metrics` module in the Rhino Health library is a comprehensive suite designed for diverse statistical and epidemiological analyses of healthcare data. This module is divided into several submodules, each targeting specific types of metrics and analyses.\n",
    "\n",
    "In the following code block, we'll import some basic functions like Mean() and Count() and authenticate to the Rhino cloud using your specific credentials."
   ]
  },
  {
   "cell_type": "markdown",
   "id": "dcddb792-e7c4-4eba-9cbd-9a40c4f520db",
   "metadata": {},
   "source": [
    "### Install the Rhino Health Python SDK, Load All Necessary Libraries and Login to the Rhino FCP"
   ]
  },
  {
   "cell_type": "code",
   "execution_count": null,
   "id": "d8f71a19",
   "metadata": {},
   "outputs": [],
   "source": [
    "import getpass\n",
    "from pprint import pprint\n",
    "import rhino_health as rh\n",
    "\n",
    "from rhino_health.lib.metrics.basic import Sum, Count, Mean,StandardDeviation\n",
    "from rhino_health.lib.metrics.aggregate_metrics.aggregation_service import get_cloud_aggregated_metric_data"
   ]
  },
  {
   "cell_type": "code",
   "execution_count": null,
   "id": "08d793a0-a816-4648-9e38-e05aa0bfec8a",
   "metadata": {},
   "outputs": [],
   "source": [
    "my_username = \"FCP_LOGIN_EMAIL\" # Replace this with the email you use to log into Rhino Health\n",
    "session = rh.login(username=my_username, password=getpass.getpass())"
   ]
  },
  {
   "cell_type": "markdown",
   "id": "f11ba5c0",
   "metadata": {},
   "source": [
    "### Load the Datasets\n",
    "We'll use our SDK to identify the relevant Datasets that we'd like to perform exploratory analyses on. It is **critical to understand that the Datasets must have the same Data Schema in order to generate statistics on multiple Datasets simultaneously.**\n",
    "\n",
    "<Include screenshot of the data schema>"
   ]
  },
  {
   "cell_type": "code",
   "execution_count": null,
   "id": "12c7a83c",
   "metadata": {},
   "outputs": [],
   "source": [
    "#Replace with your Project and Dataset names. Raw data and harmonized data\n",
    "project = session.project.get_project_by_name(\"YOUR_PROJECT_NAME\")\n",
    "\n",
    "cxr_datasets = [\n",
    "    project.get_dataset_by_name(\"mimic_cxr_dev\"), # Replace Me\n",
    "    project.get_dataset_by_name(\"mimic_cxr_hco\"), # Replace Me\n",
    "] "
   ]
  },
  {
   "cell_type": "markdown",
   "id": "35a679bf",
   "metadata": {},
   "source": [
    "### An Introduction to Federated Metrics in the Rhino SDK. \n",
    "\n",
    "The Rhino Federated Computing Platform allows you to quickly and securely calculate metrics using federated computing across multiple sites. When creating a **Metric** object is necessary to specify a 1-tailed t-test, chi-square test, or arbitrary correlation statistic. Additionally, you can **configure** your Metric object with helper functions like grouping preferences and data filters.\n",
    "\n",
    "The Rhino SDK returns the results of an executed Federated Metric query in a **MetricResponse** object. The MetricResponse object is a Python class that includes the specific outcome values in the 'output' attribute, such as statistical measures, and details about the metric configuration ('metric_configuration_dict').\n",
    "\n",
    "### Exploratory Data Analysis\n",
    "\n",
    "In the rest of this notebook, we'll analyze the federated data that we've prepared in the preceding notebooks. The data will be aggregated across two sites.\n",
    "\n",
    "### Defining a simple metric without a filter:\n",
    "\n",
    "We'll define the simplest metric possible -  a simple count of the number of rows across both of our Datasets: "
   ]
  },
  {
   "cell_type": "code",
   "execution_count": null,
   "id": "bdcf4e68",
   "metadata": {},
   "outputs": [],
   "source": [
    "# Count the number of entries in the dataset\n",
    "pneumonia_count_response = session.project.aggregate_dataset_metric( \n",
    "    dataset_uids=[str(dataset.uid) for dataset in cxr_datasets], # list containing relevant Datasets\n",
    "    metric_configuration=Count(variable=\"Pneumonia\") # Metric configuration\n",
    ") \n",
    "\n",
    "pneumonia_count = pneumonia_count_response.output\n",
    "print(f\"Entries in Dataset: {pneumonia_count}\")"
   ]
  },
  {
   "cell_type": "markdown",
   "id": "f76ff3d9",
   "metadata": {},
   "source": [
    "### Adding a filter to our metric\n",
    "The `data_filters` parameter enables you to refine your analysis by setting conditions and filter the output by certain criteria. We'll now filter our `Count()` variable by a value; in this case, pneumona cases are identified by the `pneumonia` value of 1, and thus we'll add `pneumonia` as a `filter_column` and `1` as a `filter_value`."
   ]
  },
  {
   "cell_type": "code",
   "execution_count": null,
   "id": "b0748fc7",
   "metadata": {},
   "outputs": [],
   "source": [
    "# Count the number of people with pneumonia and the number without pneumonia\n",
    "pneumonia_count_configuration = Count(variable={\"data_column\": \"Pneumonia\", \n",
    "                                         \"filter_column\": \"Pneumonia\",  \n",
    "                                         \"filter_value\": 1})\n",
    "\n",
    "pneumonia_count_response = session.project.aggregate_dataset_metric(\n",
    "    dataset_uids=[str(dataset.uid) for dataset in cxr_datasets],\n",
    "    metric_configuration=pneumonia_count_configuration)\n",
    "                                         \n",
    "pneumonia_count = pneumonia_count_response.output\n",
    "\n",
    "print(f\"Pneumonia Cases in Dataset: {pneumonia_count}\")"
   ]
  },
  {
   "cell_type": "markdown",
   "id": "b37e0041-0aea-4729-a954-d75212f93de6",
   "metadata": {},
   "source": [
    "#### Adding a grouping mechanism to our metric\n",
    "In addition to the `data_filter parameter`, we can also add a `group_by` parameter allows you to organize metrics based on specific categorical variables. In this example, we'll calculate the mean age across our two Datasets using the gender column in our data."
   ]
  },
  {
   "cell_type": "code",
   "execution_count": null,
   "id": "dfd1b195-8e18-4ae1-8cc7-3c25c0f55a34",
   "metadata": {},
   "outputs": [],
   "source": [
    "# Get median age of the aggregated Datasets\n",
    "median_age_response = session.project.aggregate_dataset_metric(\n",
    "    dataset_uids=[str(dataset.uid) for dataset in cxr_datasets],\n",
    "    metric_configuration=Median(variable=\"age\",\n",
    "                                group_by=\"gender\"),\n",
    ")\n",
    "\n",
    "median_age = median_age_response.output[\"age\"]\n",
    "print(f\"Median Age: {median_age}\")"
   ]
  },
  {
   "cell_type": "markdown",
   "id": "c9e20814-1300-4600-889e-e65281d5b409",
   "metadata": {},
   "source": [
    "#### Contingency Tables (aka two-by-two tables)\n",
    "The `TwoByTwoTable` metric facilitates the creation of a two-by-two contingency table, enabling you to analyze the relationships between variables. Here is an example for generating a two by two table metric for the columns \"exposed\" and \"detected\" in the data:\n",
    "\n",
    "Lets examine the count of men and women with and without our outcome of interest (pneumonia). We can use Rhino's two-by-two table functions to generate simple contingency tables. \n",
    "\n",
    "The table results are also stored in a response object, that can be parsed into a pandas data frame in order to view the results as a table:"
   ]
  },
  {
   "cell_type": "code",
   "execution_count": null,
   "id": "ac5d0938-2884-4099-9291-32e0b63294a6",
   "metadata": {},
   "outputs": [],
   "source": [
    "from rhino_health.lib.metrics import Count, FilterType, Mean, StandardDeviation, RocAuc\n",
    "from rhino_health.lib.metrics.epidemiology.two_by_two_table_based_metrics import *\n",
    "\n",
    "# Calculate TBTT\n",
    "tbtt = TwoByTwoTable(\n",
    "            variable=\"subject_id\",\n",
    "        detected_column_name=\"gender\",\n",
    "    exposed_column_name=\"pneumonia\",\n",
    ")\n",
    "\n",
    "\n",
    "table_result = project.aggregate_dataset_metric([str(dataset.uid) for dataset in cxr_datasets], tbtt).output\n",
    "pd.DataFrame(table_result.as_table())"
   ]
  },
  {
   "cell_type": "markdown",
   "id": "7bbc7a1a-59be-44d4-be99-3c0c1e2b91cc",
   "metadata": {},
   "source": [
    "Interestingly, we can see that our Dataset is extremely skewed towards women with pneumonia. \n",
    "\n",
    "#### Odds Ratio:\n",
    "We can configure an odds ratio metric using the same configuration and execution pattern that we defined above for the median statistic. The Odds metric calculates the odds of an event occurring rather than not occuring, and can be generated like so: "
   ]
  },
  {
   "cell_type": "code",
   "execution_count": null,
   "id": "ed70f10e-6000-4ac4-931d-2862e6191c24",
   "metadata": {},
   "outputs": [],
   "source": [
    "odds_ratio_config = OddsRatio(\n",
    "    variable=\"subject_id\",\n",
    "    exposed_column_name=\"gender\",\n",
    "    detected_column_name=\"pneumonia\",\n",
    ")\n",
    "\n",
    "session.project.aggregate_dataset_metric([str(dataset.uid) for dataset in cxr_datasets], odds_ratio_config).output"
   ]
  },
  {
   "cell_type": "markdown",
   "id": "95823efa-563d-4e28-88d3-6f8ebaab1c8a",
   "metadata": {},
   "source": [
    "#### Prevalence & Incidence\n",
    "\n",
    "The Prevalence metric calculates the proportion of individuals who have or develop a specific condition over a specified time range, whereas the Incidence describes the occurrence of new cases over a period of time. In this example, the prevalence and incidence of pneumonia is calculated between the given specific time range. Note that the column representing the time data should contain time in UTC format."
   ]
  },
  {
   "cell_type": "code",
   "execution_count": null,
   "id": "7e4b7cb4-3936-4676-8050-3e34d66db07f",
   "metadata": {},
   "outputs": [],
   "source": [
    "from rhino_health.lib.metrics import Prevalence, Incidence \n",
    "\n",
    "prevalence_config = Prevalence(variable=\"id\", \n",
    "                               time_column_name=\"Time Pneumonia\", \n",
    "                               detected_column_name=\"Pneumonia\", \n",
    "                               start_time=\"2023-02-02T07:07:48Z\", \n",
    "                               end_time=\"2023-06-10T11:24:43Z\", ) \n",
    "prevalence_results = session.project.aggregate_dataset_metric(cxr_datasets, prevalence_config)\n",
    "\n",
    "\n",
    "incidence_config = Incidence( variable=\"id\", \n",
    "                             time_column_name=\"Time Pneumonia\", \n",
    "                             detected_column_name=\"Pneumonia\", \n",
    "                             start_time=\"2023-02-02T07:07:48Z\", \n",
    "                             end_time=\"2023-06-10T11:24:43Z\", ) \n",
    "incidence_results = session.project.aggregate_dataset_metric(cxr_datasets, incidence_config)"
   ]
  },
  {
   "cell_type": "markdown",
   "id": "43d57a45-8996-46dc-a70b-022b4740f221",
   "metadata": {},
   "source": [
    "## Statistical Testing\n",
    "\n",
    "#### Chi-Square Test\n",
    "\n",
    "The Chi-Square test is employed to assess the independence between two categorical variables. In this example, we examine the association between the occurrence of pneumonia and gender across different Datasets. The result includes the Chi-Square statistic, p-value, and degrees of freedom."
   ]
  },
  {
   "cell_type": "code",
   "execution_count": null,
   "id": "5a63c490-3a89-44ff-8699-37171c5693d0",
   "metadata": {},
   "outputs": [],
   "source": [
    "from rhino_health.lib.metrics.statistics_tests import ChiSquare\n",
    "\n",
    "chi_square_config = ChiSquare(variable=\"id\", variable_1=\"Pneumonia\", variable_2=\"Gender\")\n",
    "\n",
    "result = project.aggregate_dataset_metric(cxr_datasets, chi_square_config)"
   ]
  },
  {
   "cell_type": "markdown",
   "id": "fb4e101a-4d0b-4ab9-8606-425e63f540f0",
   "metadata": {},
   "source": [
    "#### T-Test\n",
    "\n",
    "The T-Test is utilized to determine if there is a significant difference between the means of two groups. The implemented method is the Welch test, that does not assume equality of variance. The result includes the T-Test statistic, p-value, and degrees of freedom."
   ]
  },
  {
   "cell_type": "code",
   "execution_count": null,
   "id": "ae832273-b8e8-435c-89f1-d59e0e878131",
   "metadata": {},
   "outputs": [],
   "source": [
    "from rhino_health.lib.metrics.statistics_tests import TTest\n",
    "\n",
    "t_test_config = TTest(numeric_variable=\"Height\", categorical_variable=\"Gender\")\n",
    "\n",
    "t_test_result = project.aggregate_dataset_metric(cxr_datasets, t_test_config)"
   ]
  },
  {
   "cell_type": "markdown",
   "id": "3315574c-c379-434f-8bb7-14abc1a8393f",
   "metadata": {},
   "source": [
    "#### One-Way ANOVA\n",
    "\n",
    "The One-Way ANOVA (Analysis of Variance) is applied to assess whether there are any statistically significant differences between the means of three or more independent groups. In this example, we examine the relationship between inflammation level and height. The result will contain the following calculated values: anova statistic value, p value, dfc, dfe, dft, MSC, MSE, SSC, SSE, SST. "
   ]
  },
  {
   "cell_type": "code",
   "execution_count": null,
   "id": "fa25e2dd-1f91-4c8c-a5bf-fc496b6d346a",
   "metadata": {},
   "outputs": [],
   "source": [
    "from rhino_health.lib.metrics.statistics_tests import OneWayANOVA\n",
    "\n",
    "anova_config = OneWayANOVA(variable=\"id\", numeric_variable=\"Height\", categorical_variable=\"Inflammation Level\")\n",
    "\n",
    "anova_result = project.aggregate_dataset_metric(cxr_datasets, anova_config)"
   ]
  },
  {
   "cell_type": "markdown",
   "id": "88747707-095f-448a-a0d2-7e0bdf40eb22",
   "metadata": {},
   "source": [
    "## Time Series Analysis\n",
    "The Rhino SDK also has the ability to perform Kaplan Meier analyses. The Kaplan-Meier Metric is a powerful tool for analyzing time-to-event data, such as patient survival rates.  The KaplanMeier() function returns the k-percentile of entries for a specified variable. \n",
    "\n",
    "For configuring the basic Kaplan-Meier metric, you can set up the metric and retrieve results as follows:"
   ]
  },
  {
   "cell_type": "code",
   "execution_count": null,
   "id": "1a461e37-03d9-4d66-a1df-3cd1577ca8be",
   "metadata": {},
   "outputs": [],
   "source": [
    "from rhino_health.lib.metrics import KaplanMeier\n",
    "\n",
    "# Set the time and event variables\n",
    "time_variable = \"time_column_name\"\n",
    "event_variable = \"event_column_name\"\n",
    "\n",
    "# Create a KaplanMeier instance\n",
    "metric_configuration = KaplanMeier(time_variable=time_variable, event_variable=event_variable)\n",
    "\n",
    "# Retrieve results for your Project and Datasets\n",
    "results = project.aggregate_dataset_metric(dataset_uids=[str(dataset.uid) for dataset in cxr_datasets], metric_configuration=metric_configuration)"
   ]
  },
  {
   "cell_type": "markdown",
   "id": "905e3a4c-cca5-46b9-962b-3b386837c7ec",
   "metadata": {},
   "source": [
    "#### Working with Kaplan-Meier Metric Results\n",
    "Extracting Time and Events Vector\n",
    "\n",
    "The Kaplan-Meier Metric in the Rhino Health Platform provides results that allow you to analyze time-to-event data, create survival models, and visualize Kaplan-Meier curves. \n",
    "\n",
    "The results of the Kaplan-Meier Metric are stored in a KaplanMeierMetricResponse object with an \"output\" attribute that contains time and event vectors. Access these vectors as follows:"
   ]
  },
  {
   "cell_type": "code",
   "execution_count": null,
   "id": "02c91ed7-f359-4e88-a899-ae87f0d5c891",
   "metadata": {},
   "outputs": [],
   "source": [
    "# Accessing the vectors using the names of the original time and event data columns\n",
    "# For non grouped results\n",
    "time_vector = results.output[\"time_column_name\"]\n",
    "event_vector = results.output[\"event_column_name\"]\n",
    "\n",
    "# For grouped results, where the group of interest is \"1\"\n",
    "time_vector_group_1 = results.output[\"1\"][\"time_column_name\"]\n",
    "event_vector_group_1 = results.output[\"1\"][\"event_column_name\"]"
   ]
  },
  {
   "cell_type": "markdown",
   "id": "379aaecb-31a5-42a7-85df-b7bad1fb23fb",
   "metadata": {},
   "source": [
    "By obtaining these vectors, you can proceed to create a survival model and gain more insights from your Kaplan-Meier data in any way desired. \n",
    "\n",
    "\n",
    "### Creating a Survival Model\n",
    "\n",
    "The Rhino Health Platform SDK provides a convenient way to obtain the survival model object, which allows you to explore detailed Kaplan-Meier analysis. The object is a SurvFuncRight object from the statsmodels library:m"
   ]
  },
  {
   "cell_type": "code",
   "execution_count": null,
   "id": "75186d13-fd19-4936-b6f5-87f0ababdd81",
   "metadata": {},
   "outputs": [],
   "source": [
    "# For non grouped results\n",
    "survival_model = results.surv_func_right_model()\n",
    "\n",
    "# For grouped results, get the survival model where the group of interest is \"1\"\n",
    "group = \"1\"\n",
    "survival_model = results.surv_func_right_model(group=group)\n",
    "\n",
    "# Access various properties of the survival model\n",
    "median_time = survival_model.quantile(0.5)  # Median survival time\n",
    "cumulative_hazard = survival_model.cumulative_hazard_at_times([100, 200, 300])  # Cumulative hazard at specific times\n",
    "print(survival_model.summary())"
   ]
  },
  {
   "cell_type": "markdown",
   "id": "e7db251d-8cc8-4462-906d-a09bc56e6331",
   "metadata": {},
   "source": [
    "Note that to use this feature, you need to have the statsmodels library installed in your Python environment. If you haven't installed it yet, you can do so using `pip`:"
   ]
  },
  {
   "cell_type": "code",
   "execution_count": null,
   "id": "a3da0efe-5435-4bfd-8868-fc0165bbdc6a",
   "metadata": {},
   "outputs": [],
   "source": [
    "pip install statsmodels"
   ]
  },
  {
   "cell_type": "markdown",
   "id": "9a6a6494-5af9-419e-b2c1-f0412e35e00a",
   "metadata": {},
   "source": [
    "### Plotting Kaplan-Meier Curves\n",
    "\n",
    "Visualizing Kaplan-Meier curves is a way to gain insights into your survival data. The Rhino Health Platform SDK KaplanMeierMetricResults object can be used to plot these curves. Using matplotlib.pyplot library is a convenient way for that:"
   ]
  },
  {
   "cell_type": "code",
   "execution_count": null,
   "id": "9a22df95-6149-499d-8cc4-51da38f2e82d",
   "metadata": {},
   "outputs": [],
   "source": [
    "import matplotlib.pyplot as plt\n",
    "\n",
    "# Accessing time and event vectors\n",
    "time_vector = results.output[\"time_column_name\"]\n",
    "event_vector = results.output[\"event_column_name\"]\n",
    "\n",
    "# Plot Kaplan-Meier survival curve\n",
    "plt.figure(figsize=(10, 6))\n",
    "plt.step(time_vector, event_vector, where='post', label=\"model 1\")\n",
    "plt.legend(loc=\"upper left\")\n",
    "plt.title(\"Kaplan-Meier Survival Curve\")\n",
    "plt.xlabel(\"Time\")\n",
    "plt.ylabel(\"Survival Probability\")\n",
    "plt.show()"
   ]
  },
  {
   "cell_type": "markdown",
   "id": "b8ec95c1-56d8-438f-a519-1d6954bd0a5f",
   "metadata": {},
   "source": [
    "#### Differential Privacy for Kaplan-Meier Metric\n",
    "\n",
    "Differential privacy is a technique used in the FCP to protect patient data by adding noise to query results. Like all FCP metrics, the Kaplan-Meier metric supports differential privacy, and you can configure the privacy enforcement level in your project settings. The default privacy level is \"Medium,\" but you can select from \"None,\" \"Low,\" \"Medium,\" or \"High\" according to your project's privacy requirements, whereas:\n",
    "\n",
    "None - No noise is added to any of the data.\n",
    "Low, Medium - Noise is partially added to the data. Times that less than k (anonymity threshold) events occur are aggregated and averaged across events occurring in adjacent times, and noise is then added to them.\n",
    "High - Noise is added to all of the time data.  \n",
    "\n",
    "To learn more about configuring differential privacy settings, please refer to the project settings documentation."
   ]
  }
 ],
 "metadata": {
  "kernelspec": {
   "display_name": "Python 3 (ipykernel)",
   "language": "python",
   "name": "python3"
  },
  "language_info": {
   "codemirror_mode": {
    "name": "ipython",
    "version": 3
   },
   "file_extension": ".py",
   "mimetype": "text/x-python",
   "name": "python",
   "nbconvert_exporter": "python",
   "pygments_lexer": "ipython3",
   "version": "3.11.4"
  }
 },
 "nbformat": 4,
 "nbformat_minor": 5
}
