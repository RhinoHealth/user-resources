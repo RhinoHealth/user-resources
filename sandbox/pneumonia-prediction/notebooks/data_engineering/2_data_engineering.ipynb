{
 "cells": [
  {
   "cell_type": "markdown",
   "id": "c69d61a4",
   "metadata": {},
   "source": [
    "# Notebook #2: Data Engineering\n",
    "### Transforming data across multiple nodes\n",
    "In this notebook, we'll convert chest X-rays from the DICOM format (a standard format for medical images in clinical information systems) to JPEG files. This is a critical step in most machine learning pipelines that include image classification, segmentation, or other computer vision tasks. Because in this example the data is distributed over multiple health systems and *will remain on the edge*, we'll have to send any code that converts DICOM to JPEG to each health system's server. .\n",
    "\n",
    "#### Import the Rhino Health Python library\n",
    "We'll again import any necessary functions from the `rhino_health` library and authenticate to the Rhino Cloud. Please refer to Notebook #1 for an explanation of the `session` interface for interacting with various endpoints in the Rhino Health ecosystem. In addition, you can always find more information about the Rhino SDK on our <a target=\"_blank\" href=\"https://rhinohealth.github.io/rhino_sdk_docs/html/autoapi/index.html\">Official SDK Documentation</a> and on our <a target=\"_blank\" href=\"https://pypi.org/project/rhino-health/\">PyPI Repository Page</a>"
   ]
  },
  {
   "cell_type": "code",
   "execution_count": 9,
   "id": "78fb9765-c937-4bcd-b970-311bae49e21a",
   "metadata": {},
   "outputs": [
    {
     "name": "stdout",
     "output_type": "stream",
     "text": [
      "Requirement already satisfied: pip in /Library/Frameworks/Python.framework/Versions/3.11/lib/python3.11/site-packages (24.0)\n",
      "Requirement already satisfied: rhino_health in /Library/Frameworks/Python.framework/Versions/3.11/lib/python3.11/site-packages (1.0.3)\n",
      "Requirement already satisfied: arrow<2,>=1.2.1 in /Library/Frameworks/Python.framework/Versions/3.11/lib/python3.11/site-packages (from rhino_health) (1.2.3)\n",
      "Requirement already satisfied: backoff<2.3,>=2.1.1 in /Library/Frameworks/Python.framework/Versions/3.11/lib/python3.11/site-packages (from rhino_health) (2.2.1)\n",
      "Requirement already satisfied: funcy<3,>=1.16 in /Library/Frameworks/Python.framework/Versions/3.11/lib/python3.11/site-packages (from rhino_health) (1.18)\n",
      "Requirement already satisfied: pydantic<2.6,>=2.5 in /Library/Frameworks/Python.framework/Versions/3.11/lib/python3.11/site-packages (from rhino_health) (2.5.3)\n",
      "Requirement already satisfied: ratelimit<2.3,>=2.2.1 in /Library/Frameworks/Python.framework/Versions/3.11/lib/python3.11/site-packages (from rhino_health) (2.2.1)\n",
      "Requirement already satisfied: requests<2.32,>=2.28.0 in /Library/Frameworks/Python.framework/Versions/3.11/lib/python3.11/site-packages (from rhino_health) (2.31.0)\n",
      "Requirement already satisfied: typing-extensions>=4.8.0 in /Library/Frameworks/Python.framework/Versions/3.11/lib/python3.11/site-packages (from rhino_health) (4.10.0)\n",
      "Requirement already satisfied: python-dateutil>=2.7.0 in /Library/Frameworks/Python.framework/Versions/3.11/lib/python3.11/site-packages (from arrow<2,>=1.2.1->rhino_health) (2.8.2)\n",
      "Requirement already satisfied: annotated-types>=0.4.0 in /Library/Frameworks/Python.framework/Versions/3.11/lib/python3.11/site-packages (from pydantic<2.6,>=2.5->rhino_health) (0.6.0)\n",
      "Requirement already satisfied: pydantic-core==2.14.6 in /Library/Frameworks/Python.framework/Versions/3.11/lib/python3.11/site-packages (from pydantic<2.6,>=2.5->rhino_health) (2.14.6)\n",
      "Requirement already satisfied: charset-normalizer<4,>=2 in /Library/Frameworks/Python.framework/Versions/3.11/lib/python3.11/site-packages (from requests<2.32,>=2.28.0->rhino_health) (3.2.0)\n",
      "Requirement already satisfied: idna<4,>=2.5 in /Library/Frameworks/Python.framework/Versions/3.11/lib/python3.11/site-packages (from requests<2.32,>=2.28.0->rhino_health) (3.4)\n",
      "Requirement already satisfied: urllib3<3,>=1.21.1 in /Library/Frameworks/Python.framework/Versions/3.11/lib/python3.11/site-packages (from requests<2.32,>=2.28.0->rhino_health) (1.26.16)\n",
      "Requirement already satisfied: certifi>=2017.4.17 in /Library/Frameworks/Python.framework/Versions/3.11/lib/python3.11/site-packages (from requests<2.32,>=2.28.0->rhino_health) (2023.7.22)\n",
      "Requirement already satisfied: six>=1.5 in /Library/Frameworks/Python.framework/Versions/3.11/lib/python3.11/site-packages (from python-dateutil>=2.7.0->arrow<2,>=1.2.1->rhino_health) (1.16.0)\n",
      "Note: you may need to restart the kernel to use updated packages.\n"
     ]
    }
   ],
   "source": [
    "pip install --upgrade pip rhino_health"
   ]
  },
  {
   "cell_type": "code",
   "execution_count": 67,
   "id": "1114292d",
   "metadata": {},
   "outputs": [],
   "source": [
    "import getpass\n",
    "import rhino_health as rh\n",
    "from rhino_health.lib.endpoints.code_object.code_object_dataclass import (\n",
    "    CodeObject,\n",
    "    CodeObjectCreateInput,\n",
    "    CodeTypes,\n",
    "    CodeObjectRunInput\n",
    ")"
   ]
  },
  {
   "cell_type": "code",
   "execution_count": 47,
   "id": "19491fd8-d145-41a9-96c1-d040409d29f0",
   "metadata": {},
   "outputs": [
    {
     "name": "stdin",
     "output_type": "stream",
     "text": [
      " ········\n"
     ]
    },
    {
     "name": "stdout",
     "output_type": "stream",
     "text": [
      "Logged In\n"
     ]
    }
   ],
   "source": [
    "my_username = \"adrish+1@rhinohealth.com\" # Replace this with the email you use to log into Rhino Health\n",
    "session = rh.login(username=my_username, password=getpass.getpass(), rhino_api_url='https://dev.rhinohealth.com/api/')  ## chnage the URL to match the Rhino instance\n",
    "print(\"Logged In\")"
   ]
  },
  {
   "cell_type": "markdown",
   "id": "c22aa633",
   "metadata": {},
   "source": [
    "#### Retrieve Project and Relevant Datasets\n",
    "In the previous notebook we interfaced with the `Project` dataclass by first retrieving the project's unique identifier from the Rhino web platform (via copy & paste). In contrast, in this notebook we'll accomplish this by using the `get_project_by_name()` function (but either way is fine!). \n",
    "\n",
    "Each instance of the `Project` class is associated with several helpful parameters, including `description` and `permissions` that can be accessed easily through the SDK. In this example, we'll use the `collaborating_workgroups` property to retreive and encode our workgroups, which we'll use later when we perform the DICOM to JPEG transformation on 'the edge'. "
   ]
  },
  {
   "cell_type": "code",
   "execution_count": 48,
   "id": "00cffc9f-2a49-464a-8380-02a6548df34d",
   "metadata": {},
   "outputs": [
    {
     "name": "stdout",
     "output_type": "stream",
     "text": [
      "942654f6-d292-4e53-bde1-406df31de2fd\n"
     ]
    }
   ],
   "source": [
    "project = session.project.get_project_by_name(\"Federated Modeling\")  # Replace with your project name\n",
    "project_uid = project.uid\n",
    "print(project_uid)"
   ]
  },
  {
   "cell_type": "code",
   "execution_count": 49,
   "id": "22db6132-3bdd-415b-b9d3-9828878f42f1",
   "metadata": {},
   "outputs": [],
   "source": [
    "cxr_schema = session.project.get_data_schema_by_name(\"mimic_cxr_dev schema\", project_uid=project_uid)"
   ]
  },
  {
   "cell_type": "code",
   "execution_count": 51,
   "id": "53617c2d-5069-4d37-8efd-949f2e3df198",
   "metadata": {},
   "outputs": [
    {
     "name": "stdout",
     "output_type": "stream",
     "text": [
      "309c9b54-3d41-435e-bc3c-1de8c794463a\n"
     ]
    }
   ],
   "source": [
    "cxr_schema_uid = cxr_schema.uid\n",
    "print(cxr_schema_uid)"
   ]
  },
  {
   "cell_type": "markdown",
   "id": "303b52e4-ca0c-4542-859e-3d1f3159b2bc",
   "metadata": {},
   "source": [
    "#### Retrieve chest X-ray data from both participating sites\n",
    "Now that we've identified both of the collaborating workgroups involved in our project, we can retrieve the identifiers for the datasets that each workgroup uploaded to their respective Rhino clients. In a later step, we'll use the dataset identifiers to execute the DICOM to JPEG transformation code on each respective dataset. "
   ]
  },
  {
   "cell_type": "code",
   "execution_count": 64,
   "id": "f3cf0ee9-cc66-48a9-a6c3-d38d461cede9",
   "metadata": {},
   "outputs": [
    {
     "name": "stdout",
     "output_type": "stream",
     "text": [
      "Loaded CXR datasets 'b3321c41-85f1-492b-b56f-a6fa99c5c79e', 'a34d3b8a-bdb8-48a4-8858-fdc79dcd65a6'\n"
     ]
    }
   ],
   "source": [
    "hco_cxr_dataset = project.get_dataset_by_name(\"mimic_cxr_hco\")\n",
    "aidev_cxr_dataset = project.get_dataset_by_name(\"mimic_cxr_dev\")\n",
    "hco_cxr_dataset_uid = hco_cxr_dataset.uid\n",
    "aidev_cxr_dataset_uid = aidev_cxr_dataset.uid\n",
    "print(f\"Loaded CXR datasets '{hco_cxr_dataset.uid}', '{aidev_cxr_dataset.uid}'\")"
   ]
  },
  {
   "cell_type": "markdown",
   "id": "62b431d5-e830-4ac4-8c4b-201499e11d88",
   "metadata": {},
   "source": [
    "#### Create a Code Object to transform x-rays from DICOM to JPEG\n",
    "In this step, we'll use a container to convert the DICOM files to JPEG images. This functionality, referred to in the Rhino-verse as **Generalized Compute (GC)**, represents a versatile and powerful way to execute pre-built container images within the FCP environment. This Code Object type enables you to run custom code, computations, or processes that are encapsulated within container images. With GC Code Objects, you can harness the full potential of distributed computing while tailoring your computations to suit your specific needs."
   ]
  },
  {
   "cell_type": "code",
   "execution_count": 94,
   "id": "7a0dd5e9-424e-4cda-83b5-542e442e1ad7",
   "metadata": {},
   "outputs": [],
   "source": [
    "python_code = \"\"\"\n",
    "import pandas as pd\n",
    "import os\n",
    "import pydicom\n",
    "import numpy as np\n",
    "from PIL import Image\n",
    "from sklearn.impute import SimpleImputer\n",
    "import glob\n",
    "\n",
    "\n",
    "def convert_dcm_image_to_jpg(name):\n",
    "\tdcm = pydicom.dcmread(name)\n",
    "\timg = dcm.pixel_array.astype(float)\n",
    "\trescaled_image = (np.maximum(img, 0) / img.max()) * 255  # float pixels\n",
    "\tfinal_image = np.uint8(rescaled_image)  # integers pixels\n",
    "\tfinal_image = Image.fromarray(final_image)\n",
    "\treturn final_image\n",
    "\n",
    "\n",
    "def dataset_dcm_to_jpg(dataset_df):\n",
    "\tinput_dir = '/input/dicom_data/'\n",
    "\toutput_dir = '/output/file_data/'\n",
    "\tdcm_list = glob.glob(input_dir + '/*/*.dcm')\n",
    "\n",
    "\tdataset_df['JPG_file'] = 'Nan'\n",
    "\tfor dcm_file in dcm_list:\n",
    "\t\timage = convert_dcm_image_to_jpg(dcm_file)\n",
    "\t\tjpg_file_name = dcm_file.split('/')[-1].split('.dcm')[0] + '.jpg'\n",
    "\t\tds = pydicom.dcmread(dcm_file)\n",
    "\t\tidx = dataset_df['Pneumonia'][dataset_df.SeriesUID == ds.SeriesInstanceUID].index[0]\n",
    "\t\tground_truth = '1' if dataset_df.loc[idx, 'Pneumonia'] else '0'\n",
    "\t\tclass_folder = output_dir + ground_truth\n",
    "\t\tif not os.path.exists(class_folder):\n",
    "\t\t\tos.makedirs(class_folder)\n",
    "\t\timage.save('/'.join([class_folder, jpg_file_name]))\n",
    "\t\tdataset_df.loc[idx, 'JPG file'] = '/'.join([ground_truth, jpg_file_name])\n",
    "\n",
    "\treturn dataset_df\n",
    "\n",
    "\n",
    "if __name__ == '__main__':\n",
    "\t# Read dataset from /input\n",
    "\tdataset = pd.read_csv('/input/dataset.csv')\n",
    "\n",
    "\t# Convert DICOM to JPG\n",
    "\tdataset = dataset_dcm_to_jpg(dataset)\n",
    "\n",
    "\t# Write dataset to /output\n",
    "\tdataset.to_csv('/output/dataset.csv', index=False)\n",
    " \"\"\""
   ]
  },
  {
   "cell_type": "code",
   "execution_count": 106,
   "id": "32a37efb-4f5f-4043-8b2d-ab976e6bc08a",
   "metadata": {},
   "outputs": [
    {
     "name": "stdout",
     "output_type": "stream",
     "text": [
      "Got Code Object 'DICOM to JPG Transformation Code' with uid 8c5828ac-422a-404f-8763-a131bf259bea\n"
     ]
    }
   ],
   "source": [
    "code_object_params = CodeObjectCreateInput(\n",
    "    name=\"DICOM to JPG Transformation Code\",\n",
    "    description=\"CXR JPG transformation the AI dev and Health System datasets\",\n",
    "    input_data_schema_uids = [cxr_schema_uid],\n",
    "    output_data_schema_uids = [None], # a schema will be automatically generated\n",
    "    project_uid = project_uid,\n",
    "    code_type = CodeTypes.PYTHON_CODE,\n",
    "    code_execution_mode = 'AUTO_CONTAINER_SNIPPET',\n",
    "    requirements_mode = 'PYTHON_PIP',\n",
    "    config = {\n",
    "\t\t   \"python_code\": python_code,\n",
    "           \"requirements\" : [\"pandas == 1.3.4\", \"numpy == 1.21.3\",\"sklearn==0.0\", \"sklearn-pandas==1.8.0\", \"scikit-learn==1.0.2\",\"pydicom==2.2.0\",\"Pillow==8.4.0\"],\n",
    "    }\n",
    ")\n",
    "\n",
    "data_code_object = session.code_object.create_code_object(code_object_params)\n",
    "print(f\"Got Code Object '{data_code_object.name}' with uid {data_code_object.uid}\")"
   ]
  },
  {
   "cell_type": "code",
   "execution_count": 104,
   "id": "0b77b18d-d607-4bc8-b9b3-26e410210d62",
   "metadata": {},
   "outputs": [],
   "source": [
    "# Reterive the code object - in case you already have code object created previously \n",
    "code_object = session.code_object.get_code_object_by_name(\"DICOM to JPG Transformation Code\", project_uid=project_uid)"
   ]
  },
  {
   "cell_type": "markdown",
   "id": "c4f36033-e597-4c9b-916b-89235af73ebd",
   "metadata": {},
   "source": [
    "#### Run the Code Object\n",
    "In this step, we'll execute the code object that we just defined. We'll pass the dataset identifiers for both the AI developer's data as well as the health system's data. 'Under the hood', the container image is transmitted to both sites and executed on the respective DICOM files. As defined in the Python code within the container, the newly generated JPEG files will be saved as another dataset (with the `_conv` suffix as defined in the function argument below."
   ]
  },
  {
   "cell_type": "code",
   "execution_count": 105,
   "id": "6626dd0a-228b-4c62-adff-12852c7a9276",
   "metadata": {
    "collapsed": true,
    "jupyter": {
     "outputs_hidden": true
    },
    "scrolled": true
   },
   "outputs": [
    {
     "name": "stdout",
     "output_type": "stream",
     "text": [
      "Waiting for code run to complete (0 hours 0 minutes and 2 seconds)\n",
      "Done\n",
      "Finished running DICOM to JPG Transformation Code4\n"
     ]
    },
    {
     "ename": "AttributeError",
     "evalue": "'CodeRun' object has no attribute 'result_info'",
     "output_type": "error",
     "traceback": [
      "\u001b[0;31m---------------------------------------------------------------------------\u001b[0m",
      "\u001b[0;31mAttributeError\u001b[0m                            Traceback (most recent call last)",
      "\u001b[0;32m/var/folders/44/cnt94dhd1j10_j9_jtlfnngh0000gn/T/ipykernel_84661/3158612031.py\u001b[0m in \u001b[0;36m<cell line: 0>\u001b[0;34m()\u001b[0m\n\u001b[1;32m      8\u001b[0m \u001b[0mrun_result\u001b[0m \u001b[0;34m=\u001b[0m \u001b[0mcode_run\u001b[0m\u001b[0;34m.\u001b[0m\u001b[0mwait_for_completion\u001b[0m\u001b[0;34m(\u001b[0m\u001b[0;34m)\u001b[0m\u001b[0;34m\u001b[0m\u001b[0;34m\u001b[0m\u001b[0m\n\u001b[1;32m      9\u001b[0m \u001b[0mprint\u001b[0m\u001b[0;34m(\u001b[0m\u001b[0;34mf\"Finished running {code_object.name}\"\u001b[0m\u001b[0;34m)\u001b[0m\u001b[0;34m\u001b[0m\u001b[0;34m\u001b[0m\u001b[0m\n\u001b[0;32m---> 10\u001b[0;31m \u001b[0mprint\u001b[0m\u001b[0;34m(\u001b[0m\u001b[0;34mf\"Result status is '{run_result.status.value}', errors={run_result.result_info.get('errors') if run_result.result_info else None}\"\u001b[0m\u001b[0;34m)\u001b[0m\u001b[0;34m\u001b[0m\u001b[0;34m\u001b[0m\u001b[0m\n\u001b[0m",
      "\u001b[0;32m/Library/Frameworks/Python.framework/Versions/3.11/lib/python3.11/site-packages/pydantic/main.py\u001b[0m in \u001b[0;36m__getattr__\u001b[0;34m(self, item)\u001b[0m\n\u001b[1;32m    759\u001b[0m                     \u001b[0;32melse\u001b[0m\u001b[0;34m:\u001b[0m\u001b[0;34m\u001b[0m\u001b[0;34m\u001b[0m\u001b[0m\n\u001b[1;32m    760\u001b[0m                         \u001b[0;31m# this is the current error\u001b[0m\u001b[0;34m\u001b[0m\u001b[0;34m\u001b[0m\u001b[0m\n\u001b[0;32m--> 761\u001b[0;31m                         \u001b[0;32mraise\u001b[0m \u001b[0mAttributeError\u001b[0m\u001b[0;34m(\u001b[0m\u001b[0;34mf'{type(self).__name__!r} object has no attribute {item!r}'\u001b[0m\u001b[0;34m)\u001b[0m\u001b[0;34m\u001b[0m\u001b[0;34m\u001b[0m\u001b[0m\n\u001b[0m\u001b[1;32m    762\u001b[0m \u001b[0;34m\u001b[0m\u001b[0m\n\u001b[1;32m    763\u001b[0m     \u001b[0;32mdef\u001b[0m \u001b[0m__setattr__\u001b[0m\u001b[0;34m(\u001b[0m\u001b[0mself\u001b[0m\u001b[0;34m,\u001b[0m \u001b[0mname\u001b[0m\u001b[0;34m:\u001b[0m \u001b[0mstr\u001b[0m\u001b[0;34m,\u001b[0m \u001b[0mvalue\u001b[0m\u001b[0;34m:\u001b[0m \u001b[0mAny\u001b[0m\u001b[0;34m)\u001b[0m \u001b[0;34m->\u001b[0m \u001b[0;32mNone\u001b[0m\u001b[0;34m:\u001b[0m\u001b[0;34m\u001b[0m\u001b[0;34m\u001b[0m\u001b[0m\n",
      "\u001b[0;31mAttributeError\u001b[0m: 'CodeRun' object has no attribute 'result_info'"
     ]
    }
   ],
   "source": [
    "code_object_params = CodeObjectRunInput(\n",
    "  code_object_uid = code_object.uid,\n",
    "  input_dataset_uids = [[aidev_cxr_dataset_uid],[hco_cxr_dataset_uid]],     \n",
    "  output_dataset_names_suffix = \"_conv\",\n",
    "  timeout_seconds = 600\n",
    ")\n",
    "code_run = session.code_object.run_code_object(code_object_params)\n",
    "run_result = code_run.wait_for_completion()\n",
    "print(f\"Finished running {code_object.name}\")\n",
    "print(f\"Result status is '{run_result.status.value}', errors={run_result.result_info.get('errors') if run_result.result_info else None}\")"
   ]
  },
  {
   "cell_type": "code",
   "execution_count": null,
   "id": "0deef416-59c0-4a50-8631-e36351a80ecb",
   "metadata": {},
   "outputs": [],
   "source": []
  }
 ],
 "metadata": {
  "kernelspec": {
   "display_name": "Python 3 (ipykernel)",
   "language": "python",
   "name": "python3"
  },
  "language_info": {
   "codemirror_mode": {
    "name": "ipython",
    "version": 3
   },
   "file_extension": ".py",
   "mimetype": "text/x-python",
   "name": "python",
   "nbconvert_exporter": "python",
   "pygments_lexer": "ipython3",
   "version": "3.11.4"
  }
 },
 "nbformat": 4,
 "nbformat_minor": 5
}
