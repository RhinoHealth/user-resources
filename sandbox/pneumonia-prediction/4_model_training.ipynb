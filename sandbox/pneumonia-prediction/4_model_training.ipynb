{
 "cells": [
  {
   "cell_type": "markdown",
   "id": "9d5ace37-8ae8-4bd8-a905-6713750d8129",
   "metadata": {},
   "source": [
    "# Notebook #4: Running Federated Training of the Pneumonia Model"
   ]
  },
  {
   "cell_type": "markdown",
   "id": "b9ef6e7a-63a6-4bbc-b134-ebbd60dfd550",
   "metadata": {},
   "source": [
    "### Install the Rhino Health Python SDK, Load All Necessary Libraries and Login to the Rhino FCP"
   ]
  },
  {
   "cell_type": "code",
   "execution_count": null,
   "id": "5f3890be-ff13-472e-901a-594fa99e9ddb",
   "metadata": {},
   "outputs": [],
   "source": [
    "import getpass\n",
    "import rhino_health as rh\n",
    "from rhino_health.lib.endpoints.aimodel.aimodel_dataclass import (\n",
    "    AIModelCreateInput,\n",
    "    ModelTypes,\n",
    "    AIModelRunInput,\n",
    "    AIModelMultiCohortInput,\n",
    "    AIModelTrainInput \n",
    ")"
   ]
  },
  {
   "cell_type": "code",
   "execution_count": null,
   "id": "863b04e3-ea1f-4edf-8e06-6721a591bcb2",
   "metadata": {},
   "outputs": [],
   "source": [
    "my_username = \"FCP_LOGIN_EMAIL\" # Replace this with the email you use to log into Rhino Health\n",
    "session = rh.login(username=my_username, password=getpass.getpass())"
   ]
  },
  {
   "cell_type": "markdown",
   "id": "f1b96218-22e0-40c0-98c9-b1a9b0e3a84a",
   "metadata": {},
   "source": [
    "### Retrieve Project and Cohort Information"
   ]
  },
  {
   "cell_type": "code",
   "execution_count": null,
   "id": "7fe89328-be4c-4b6d-8a20-d166d98b828c",
   "metadata": {},
   "outputs": [],
   "source": [
    "project = session.project.get_project_by_name(\"YOUR_PROJECT_NAME\")  # Replace with your project name"
   ]
  },
  {
   "cell_type": "code",
   "execution_count": null,
   "id": "cdf16109-f711-4ae8-82b8-a0140aa68aeb",
   "metadata": {},
   "outputs": [],
   "source": [
    "# Get the schema that was created after JPG conversion\n",
    "cxr_schema = project.get_data_schema_by_name('Auto-generated schema for mimic_cxr_hco_conv', project_uid=project.uid)\n",
    "cxr_schema_uid =cxr_schema.uid\n",
    "print(cxr_schema_uid)"
   ]
  },
  {
   "cell_type": "code",
   "execution_count": null,
   "id": "6d32168a-c05d-4e69-b199-1e13e2805067",
   "metadata": {},
   "outputs": [],
   "source": [
    "cohorts = project.cohorts\n",
    "hco_cxr_cohort = project.get_cohort_by_name(\"mimic_cxr_hco_conv\")\n",
    "aidev_cxr_cohort = project.get_cohort_by_name(\"mimic_cxr_dev_conv\")\n",
    "cxr_cohorts = [aidev_cxr_cohort.uid, hco_cxr_cohort.uid]\n",
    "print(f\"Loaded CXR cohorts '{hco_cxr_cohort.uid}', '{aidev_cxr_cohort.uid}'\")"
   ]
  },
  {
   "cell_type": "markdown",
   "id": "b01cdbbf-ef6a-4260-80ea-2cf93eedccc6",
   "metadata": {},
   "source": [
    "## Create the Train Test Split Model and then Run it Over both CXR Cohorts\n",
    "We will split both CXR Data Cohorts into two Cohorts one for training and the other testing\n",
    "### We will use a Pre-defined Container Image with our Model"
   ]
  },
  {
   "cell_type": "code",
   "execution_count": null,
   "id": "ce46343c-0f66-4fcb-83fe-95fda628b1ca",
   "metadata": {},
   "outputs": [],
   "source": [
    "train_split_image_uri = \"865551847959.dkr.ecr.us-east-1.amazonaws.com/workgroup-rhino-sandbox-decode-health:train-test-split-sb\""
   ]
  },
  {
   "cell_type": "code",
   "execution_count": null,
   "id": "dd94c56e-a079-42a4-aff2-29617489539c",
   "metadata": {},
   "outputs": [],
   "source": [
    "aimodel = AIModelCreateInput(\n",
    "    name=\"Train Test Split\",\n",
    "    description=\"Splitting data into train and test datasets per site\",\n",
    "    input_data_schema_uids=[cxr_schema_uid],\n",
    "    output_data_schema_uids=[None], # Auto-Generating the Output Data Schema for the Model\n",
    "    model_type=ModelTypes.GENERALIZED_COMPUTE,\n",
    "    project_uid = project.uid,\n",
    "    config={\"container_image_uri\": train_split_image_uri}\n",
    ")\n",
    "aimodel = session.aimodel.create_aimodel(aimodel)\n",
    "print(f\"Got aimodel '{aimodel.name}' with uid {aimodel.uid}\")\n",
    "\n",
    "run_params = AIModelMultiCohortInput(\n",
    "    aimodel_uid= aimodel.uid,\n",
    "    input_cohort_uids=[aidev_cxr_cohort.uid, hco_cxr_cohort.uid],\n",
    "    output_cohort_naming_templates= ['{{ input_cohort_names.0 }} - Train', '{{ input_cohort_names.0 }} - Test'],\n",
    "    timeout_seconds=600,\n",
    "    sync=False,\n",
    ")\n",
    "\n",
    "print(f\"Starting to run {aimodel.name}\")\n",
    "model_run = session.aimodel.run_aimodel(run_params)\n",
    "run_result = model_run.wait_for_completion()\n",
    "print(f\"Finished running {aimodel.name}\")\n",
    "print(f\"Result status is '{train_result.status.value}', errors={train_result.result_info.get('errors') if train_result.result_info else None}\")"
   ]
  },
  {
   "cell_type": "markdown",
   "id": "6252401a-b01a-4a31-aa9c-23a835f25dc7",
   "metadata": {},
   "source": [
    "## Create and Run the Federated Model Training and Validation Across Both of Our Two Sites\n",
    "We will utilize NVFlare to train our pneumonia predicition model using our local training Cohort and the remote Health System training Cohort.  The model will then be validated again the local testing Cohort and the remote Health System testing Cohort.\n",
    "### We will use a Pre-defined Container Image with our Model"
   ]
  },
  {
   "cell_type": "code",
   "execution_count": null,
   "id": "7484e178-ef9d-4f3b-a68f-184d55c05940",
   "metadata": {},
   "outputs": [],
   "source": [
    "model_train_image_uri = \"865551847959.dkr.ecr.us-east-1.amazonaws.com/workgroup-rhino-sandbox-decode-health:prediction-model-sb-22\""
   ]
  },
  {
   "cell_type": "markdown",
   "id": "4edcbf4b-6f97-4720-bd3e-e6c9b8025680",
   "metadata": {},
   "source": [
    "### Search for our Newly Split Local and Remote Cohorts "
   ]
  },
  {
   "cell_type": "code",
   "execution_count": null,
   "id": "c0b5ee5f-0e1d-4c80-ba46-f362672f81a1",
   "metadata": {},
   "outputs": [],
   "source": [
    "input_training_cohorts = session.cohort.search_for_cohorts_by_name('Train')\n",
    "input_validation_cohorts =  session.cohort.search_for_cohorts_by_name('Test')\n",
    "print(\"Found training cohorts:\")\n",
    "print([x.name for x in input_training_cohorts])\n",
    "print(\"Found validation cohorts:\")\n",
    "print([x.name for x in input_validation_cohorts])"
   ]
  },
  {
   "cell_type": "markdown",
   "id": "e8ca1627-7d0b-4ffa-bb6c-6698dcc3a960",
   "metadata": {},
   "source": [
    "### Create the Pneumonia Prediciton Model"
   ]
  },
  {
   "cell_type": "code",
   "execution_count": null,
   "id": "b1efeda7-cb4c-446f-ac95-19c5de6ed5fc",
   "metadata": {},
   "outputs": [],
   "source": [
    "aimodel = AIModelCreateInput(\n",
    "    name=\"Pneumonia Prediction Model Training\",\n",
    "    description=\"Pneumonia Prediction Model Training\",\n",
    "    input_data_schema_uids=[cxr_schema_uid],\n",
    "    output_data_schema_uids=[None], # Auto-Generating the Output Data Schema for the Model\n",
    "    project_uid= project.uid,\n",
    "    model_type=ModelTypes.NVIDIA_FLARE_V2_2,\n",
    "    config={\"container_image_uri\": model_train_image_uri}\n",
    ")\n",
    "\n",
    "aimodel = session.aimodel.create_aimodel(aimodel)\n",
    "print(f\"Got aimodel '{aimodel.name}' with uid {aimodel.uid}\")"
   ]
  },
  {
   "cell_type": "markdown",
   "id": "5d1b79e0-84bb-42b5-9729-1adc3d124ea8",
   "metadata": {},
   "source": [
    "### Run the Pneumonia Prediciton Model Training with Validation"
   ]
  },
  {
   "cell_type": "code",
   "execution_count": null,
   "id": "c92c2b1d-e98d-4b48-8c2c-07852b5e1c6d",
   "metadata": {},
   "outputs": [],
   "source": [
    "run_params = AIModelTrainInput(\n",
    "    aimodel_uid=aimodel.uid,\n",
    "    input_cohort_uids=[x.uid for x in input_training_cohorts], \n",
    "    one_fl_client_per_cohort=True ,        \n",
    "    validation_cohort_uids=[x.uid for x in input_validation_cohorts], \n",
    "    validation_cohorts_inference_suffix=\" - Pneumonia training results\",\n",
    "    timeout_seconds=600,\n",
    "    config_fed_server=\"\",\n",
    "    config_fed_client=\"\",\n",
    "    secrets_fed_client=\"\",\n",
    "    secrets_fed_server=\"\",\n",
    "    sync=False,\n",
    ")\n",
    "\n",
    "print(f\"Starting to run federated training of {aimodel.name}\")\n",
    "model_train = session.aimodel.train_aimodel(run_params)\n",
    "train_result = model_train.wait_for_completion()\n",
    "print(f\"Finished running {aimodel.name}\")\n",
    "print(f\"Result status is '{train_result.status.value}', errors={train_result.result_info.get('errors') if train_result.result_info else None}\")"
   ]
  }
 ],
 "metadata": {
  "kernelspec": {
   "display_name": "Python 3 (ipykernel)",
   "language": "python",
   "name": "python3"
  },
  "language_info": {
   "codemirror_mode": {
    "name": "ipython",
    "version": 3
   },
   "file_extension": ".py",
   "mimetype": "text/x-python",
   "name": "python",
   "nbconvert_exporter": "python",
   "pygments_lexer": "ipython3"
  }
 },
 "nbformat": 4,
 "nbformat_minor": 5
}
