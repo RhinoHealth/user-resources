{
 "cells": [
  {
   "cell_type": "markdown",
   "id": "c69d61a4",
   "metadata": {},
   "source": [
    "# Notebook #2: Federated Data Engineering\n",
    "In this notebook, we'll convert CXR DICOM to JPG files and apply the conversion code to multiple sites."
   ]
  },
  {
   "cell_type": "markdown",
   "id": "5224695d-b02b-41ea-a5d6-ad71c4799ac8",
   "metadata": {},
   "source": [
    "### Install the Rhino Health Python SDK, Load All Necessary Libraries and Login to the Rhino FCP"
   ]
  },
  {
   "cell_type": "code",
   "execution_count": null,
   "id": "52c80562-63c0-4d01-a650-34094fd2b333",
   "metadata": {},
   "outputs": [],
   "source": [
    "pip install --upgrade rhino_health"
   ]
  },
  {
   "cell_type": "code",
   "execution_count": null,
   "id": "1114292d",
   "metadata": {},
   "outputs": [],
   "source": [
    "import getpass\n",
    "import rhino_health as rh\n",
    "from rhino_health.lib.endpoints.aimodel.aimodel_dataclass import (\n",
    "    AIModel,\n",
    "    AIModelCreateInput,\n",
    "    AIModelRunInput,\n",
    "    ModelTypes,\n",
    "    CodeRunType\n",
    ")"
   ]
  },
  {
   "cell_type": "code",
   "execution_count": null,
   "id": "7084c9f3-cac9-4b22-8da3-1415d51a7d16",
   "metadata": {},
   "outputs": [],
   "source": [
    "my_username = \"FCP_LOGIN_EMAIL\" # Replace this with the email you use to log into Rhino Health\n",
    "session = rh.login(username=my_username, password=getpass.getpass())"
   ]
  },
  {
   "cell_type": "markdown",
   "id": "c22aa633",
   "metadata": {},
   "source": [
    "### Retrieve Project and Cohort Information"
   ]
  },
  {
   "cell_type": "code",
   "execution_count": null,
   "id": "00cffc9f-2a49-464a-8380-02a6548df34d",
   "metadata": {},
   "outputs": [],
   "source": [
    "project = session.project.get_project_by_name(\"YOUR_PROJECT_NAME\")  # Replace with your project name\n",
    "dataschema = project.data_schemas[0]\n",
    "print(f\"Loaded dataschema '{dataschema.name}' with uid '{dataschema.uid}'\")"
   ]
  },
  {
   "cell_type": "code",
   "execution_count": null,
   "id": "b756f753-7b98-40fd-9f2b-0a505fe64b6b",
   "metadata": {},
   "outputs": [],
   "source": [
    "cxr_schema = project.get_data_schema_by_name('Auto-generated schema for mimic_cxr_dev', project_uid=project.uid)\n",
    "cxr_schema_uid =cxr_schema.uid"
   ]
  },
  {
   "cell_type": "code",
   "execution_count": null,
   "id": "7153dd89-65cb-4234-9995-7bf72c29c5f4",
   "metadata": {},
   "outputs": [],
   "source": [
    "collaborators = project.collaborating_workgroups\n",
    "workgroups_by_name = {x.name: x for x in collaborators}\n",
    "workgroups_by_uid = {x.uid: x for x in collaborators}\n",
    "hco_workgroup = workgroups_by_name[\"Health System - Sandbox\"]\n",
    "aidev_workgroup = workgroups_by_name[\"Decode Health - Sandbox\"]\n",
    "\n",
    "print(f\"Found workgroups '{aidev_workgroup.name}' and collaborators '{hco_workgroup.name}'\")"
   ]
  },
  {
   "cell_type": "markdown",
   "id": "303b52e4-ca0c-4542-859e-3d1f3159b2bc",
   "metadata": {},
   "source": [
    "### Get the CXR Cohorts From Both Sites"
   ]
  },
  {
   "cell_type": "code",
   "execution_count": null,
   "id": "f3cf0ee9-cc66-48a9-a6c3-d38d461cede9",
   "metadata": {},
   "outputs": [],
   "source": [
    "cohorts = project.cohorts\n",
    "cohorts_by_workgroup = {workgroups_by_uid[x.workgroup_uid].name: x for x in cohorts}\n",
    "hco_cxr_cohort = project.get_cohort_by_name(\"mimic_cxr_hco\")\n",
    "aidev_cxr_cohort = project.get_cohort_by_name(\"mimic_cxr_dev\")\n",
    "hco_cxr_cohort_uid = hco_cxr_cohort.uid\n",
    "aidev_cxr_cohort_uid = aidev_cxr_cohort.uid\n",
    "print(f\"Loaded CXR cohorts '{hco_cxr_cohort.uid}', '{aidev_cxr_cohort.uid}'\")"
   ]
  },
  {
   "cell_type": "markdown",
   "id": "11f28226-17a6-4f80-9d9e-bf18ebaa6ef5",
   "metadata": {},
   "source": [
    "### We will use a Pre-defined Container Image with our Model"
   ]
  },
  {
   "cell_type": "code",
   "execution_count": null,
   "id": "451d6751-e4aa-46b3-aa72-aff8471bc09e",
   "metadata": {},
   "outputs": [],
   "source": [
    "cxr_image_uri= \"865551847959.dkr.ecr.us-east-1.amazonaws.com/workgroup-rhino-sandbox-decode-health:data-prep-sb-1\""
   ]
  },
  {
   "cell_type": "markdown",
   "id": "62b431d5-e830-4ac4-8c4b-201499e11d88",
   "metadata": {},
   "source": [
    "### Define the Generalized Compute Model that will Convert DICOM Images to JPG Files"
   ]
  },
  {
   "cell_type": "code",
   "execution_count": null,
   "id": "32a37efb-4f5f-4043-8b2d-ab976e6bc08a",
   "metadata": {},
   "outputs": [],
   "source": [
    "compute_params = AIModelCreateInput(\n",
    "    name=\"DICOM to JPG Transformation Code\",\n",
    "    description=\"CXR JPG transformation the AI dev and Health System datasets\",\n",
    "    input_data_schema_uids = [cxr_schema_uid],\n",
    "    output_data_schema_uids = [None], # Auto-Generating the Output Data Schema for the Model\n",
    "    project_uid = project.uid,\n",
    "    model_type = ModelTypes.GENERALIZED_COMPUTE,    \n",
    "    config={\"container_image_uri\": cxr_image_uri}\n",
    ")\n",
    "\n",
    "compute_model = session.aimodel.create_aimodel(compute_params)\n",
    "print(f\"Got aimodel '{compute_model.name}' with uid {compute_model.uid}\")"
   ]
  },
  {
   "cell_type": "markdown",
   "id": "c4f36033-e597-4c9b-916b-89235af73ebd",
   "metadata": {},
   "source": [
    "### Run the Model Defined in the Previous Cell"
   ]
  },
  {
   "cell_type": "code",
   "execution_count": null,
   "id": "6626dd0a-228b-4c62-adff-12852c7a9276",
   "metadata": {},
   "outputs": [],
   "source": [
    "run_params = AIModelRunInput(\n",
    "  aimodel_uid = compute_model.uid,\n",
    "  input_cohort_uids = [aidev_cxr_cohort_uid,hco_cxr_cohort_uid],     \n",
    "  output_cohort_names_suffix = \"_conv\",\n",
    "  timeout_seconds = 600\n",
    ")\n",
    "model_run = session.aimodel.run_aimodel(run_params)\n",
    "run_result = model_run.wait_for_completion()\n",
    "print(f\"Finished running {compute_model.name}\")\n",
    "print(f\"Result status is '{run_result.status.value}', errors={run_result.result_info.get('errors') if run_result.result_info else None}\")"
   ]
  }
 ],
 "metadata": {
  "kernelspec": {
   "display_name": "Python 3 (ipykernel)",
   "language": "python",
   "name": "python3"
  },
  "language_info": {
   "codemirror_mode": {
    "name": "ipython",
    "version": 3
   },
   "file_extension": ".py",
   "mimetype": "text/x-python",
   "name": "python",
   "nbconvert_exporter": "python",
   "pygments_lexer": "ipython3"
  }
 },
 "nbformat": 4,
 "nbformat_minor": 5
}
