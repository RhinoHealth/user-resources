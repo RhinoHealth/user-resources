{
 "cells": [
  {
   "cell_type": "markdown",
   "metadata": {},
   "source": [
    "# Tutorial 1: Pneumonia Model - ROC Analysis\n",
    "\n",
    "## 1. Load All Necessary Libraries\n",
    "### Ensure that you are running this notebook in the correct kernel.\n",
    "### If needed, install the required libraries by uncommenting the following lines:\n"
   ]
  },
  {
   "cell_type": "markdown",
   "metadata": {},
   "source": [
    "You can verify your version by running: \n"
   ]
  },
  {
   "cell_type": "code",
   "execution_count": null,
   "metadata": {},
   "outputs": [],
   "source": [
    "#!pip show rhino_health"
   ]
  },
  {
   "cell_type": "markdown",
   "metadata": {},
   "source": [
    "For installation:\n"
   ]
  },
  {
   "cell_type": "code",
   "execution_count": null,
   "metadata": {},
   "outputs": [],
   "source": [
    " #!pip install pandas numpy matplotlib rhino_health"
   ]
  },
  {
   "cell_type": "code",
   "execution_count": null,
   "metadata": {},
   "outputs": [],
   "source": [
    "import pandas as pd\n",
    "import numpy as np\n",
    "import matplotlib.axes\n",
    "import matplotlib.figure\n",
    "import matplotlib.pyplot as plt\n",
    "from PIL import Image\n",
    "import os\n",
    "import sys\n",
    "from getpass import getpass\n",
    "import json\n",
    "import io\n",
    "import base64\n",
    "import rhino_health as rh\n",
    "from rhino_health.lib.metrics import RocAuc, RocAucWithCI"
   ]
  },
  {
   "cell_type": "markdown",
   "metadata": {},
   "source": [
    "### 1.1 Logging into the Rhino Health Platform\n",
    "\n",
    "**Replace the values with the following variables:**\n",
    "\n",
    "1. **my_username** – Your Rhino Health Platform username.\n",
    "2. **password** – Your Rhino Health Platform password."
   ]
  },
  {
   "cell_type": "code",
   "execution_count": null,
   "metadata": {},
   "outputs": [],
   "source": [
    "my_username = 'xxxxxxxxxxx@rhinohealth.com'                                             # username = 'xxxxxxxxxxx@rhinohealth.com'\n",
    "\n",
    "print(\"Logging In\")\n",
    "session = rh.login(username=my_username, password=getpass())\n",
    "print(\"Logged In\")"
   ]
  },
  {
   "cell_type": "markdown",
   "metadata": {},
   "source": [
    "### 1.2 Load the results dataset from the project \n",
    "Start by getting your results dataset uid from the UI and pasting it below"
   ]
  },
  {
   "cell_type": "code",
   "execution_count": null,
   "metadata": {},
   "outputs": [],
   "source": [
    "site1_results_dataset = xxxxxxxx-xxxx-xxxx-xxxxxxxxxxxx # Replace with your dataset UID here as string\n",
    "dataset = session.dataset.get_dataset(site1_results_dataset)\n",
    "print(f\"Loaded dataset '{dataset.name}'\")"
   ]
  },
  {
   "cell_type": "markdown",
   "metadata": {},
   "source": [
    "### 1.3     Calculate ROC (underlying results data stays on-prem)"
   ]
  },
  {
   "cell_type": "code",
   "execution_count": null,
   "metadata": {},
   "outputs": [],
   "source": [
    "metric_configuration = RocAuc(y_true_variable=\"Pneumonia\", y_pred_variable=\"Model Score\")\n",
    "results = dataset.get_metric(metric_configuration)"
   ]
  },
  {
   "cell_type": "markdown",
   "metadata": {},
   "source": [
    "### 1.4     Plot the ROC with your favorite plotting tool"
   ]
  },
  {
   "cell_type": "code",
   "execution_count": null,
   "metadata": {},
   "outputs": [],
   "source": [
    "# Step 1: Plot your ROC curve (this part you already had)\n",
    "roc_metrics = results.output\n",
    "\n",
    "colors = plt.rcParams['axes.prop_cycle'].by_key()['color']\n",
    "linestyle_cycle = ['-', '--']\n",
    "fig, ax = plt.subplots(figsize=[6, 4], dpi=200)\n",
    "\n",
    "color = colors[0]\n",
    "linestyle = linestyle_cycle[0]\n",
    "\n",
    "ax.plot(roc_metrics['fpr'], roc_metrics['tpr'], color=color, linestyle=linestyle)\n",
    "ax.title.set_text('Overall ROC')\n",
    "ax.set_xlabel('1 - Specificity')\n",
    "ax.set_ylabel('Sensitivity')\n",
    "ax.grid(True)\n",
    "ax.set_xlim([0, 1])\n",
    "ax.set_ylim([0, 1])\n",
    "\n",
    "# Step 2: Render to canvas and capture image (this is the new part)\n",
    "fig.canvas.draw()\n",
    "\n",
    "buf = io.BytesIO()\n",
    "fig.savefig(buf, format='png', dpi=200)\n",
    "buf.seek(0)\n",
    "\n",
    "# Step 3: Convert to PIL Image and save\n",
    "image_to_store = Image.open(buf)\n",
    "image_to_store.save(\"Overall_ROC.png\", format='png', optimize=True, quality=100)\n",
    "\n",
    "buf.close()"
   ]
  },
  {
   "cell_type": "markdown",
   "metadata": {},
   "source": [
    "### 1.5 Calculate and plot ROC with a Confidence Interval"
   ]
  },
  {
   "cell_type": "code",
   "execution_count": null,
   "metadata": {},
   "outputs": [],
   "source": [
    "metric_configuration = RocAucWithCI(\n",
    "   timeout_seconds = 30.0,\n",
    "    y_true_variable=\"Pneumonia\",\n",
    "    y_pred_variable=\"Model Score\",\n",
    "    confidence_interval=95\n",
    ")\n",
    "results = dataset.get_metric(metric_configuration)"
   ]
  },
  {
   "cell_type": "code",
   "execution_count": null,
   "metadata": {},
   "outputs": [],
   "source": [
    "roc_metrics = results.output\n",
    "\n",
    "colors = plt.rcParams['axes.prop_cycle'].by_key()['color']\n",
    "linestyle_cycle = ['-', '--']\n",
    "fig, ax = plt.subplots(figsize=[6, 4], dpi=200)\n",
    "\n",
    "color = colors[0]\n",
    "linestyle = linestyle_cycle[0]\n",
    "tpr_ci = roc_metrics['tpr_ci']\n",
    "\n",
    "# Plot the ROC curve and confidence interval\n",
    "ax.fill_between(roc_metrics['fpr'], tpr_ci[0], tpr_ci[1], alpha=0.33, label='_nolegend_', color=color)\n",
    "ax.plot(roc_metrics['fpr'], roc_metrics['tpr'], color=color, linestyle=linestyle)\n",
    "ax.title.set_text('Overall ROC with Confidence Interval')\n",
    "ax.set_xlabel('1 - Specificity')\n",
    "ax.set_ylabel('Sensitivity')\n",
    "ax.grid(True)\n",
    "ax.set_xlim([0, 1])\n",
    "ax.set_ylim([0, 1])\n",
    "\n",
    "# Render the plot and save to image (this is the replacement for tostring_rgb)\n",
    "buf = io.BytesIO()\n",
    "fig.savefig(buf, format='png', dpi=200)\n",
    "buf.seek(0)\n",
    "\n",
    "# Load the image into PIL and save to file\n",
    "image_to_store = Image.open(buf)\n",
    "image_to_store.save(\"Overall_ROC_CI.png\", format='png', optimize=True, quality=100)\n",
    "\n",
    "# Cleanup\n",
    "buf.close()"
   ]
  },
  {
   "cell_type": "markdown",
   "metadata": {},
   "source": [
    "### 1.6 Calculate and plot ROC grouped by Gender"
   ]
  },
  {
   "cell_type": "code",
   "execution_count": null,
   "metadata": {},
   "outputs": [],
   "source": [
    "metric_configuration = RocAuc(y_true_variable=\"Pneumonia\", y_pred_variable=\"Model Score\", group_by={'groupings': ['Gender']})\n",
    "results = dataset.get_metric(metric_configuration)"
   ]
  },
  {
   "cell_type": "code",
   "execution_count": null,
   "metadata": {},
   "outputs": [],
   "source": [
    "for group in results.output.keys():\n",
    "    roc_metrics = results.output[group]\n",
    "    \n",
    "    colors = plt.rcParams['axes.prop_cycle'].by_key()['color']\n",
    "    linestyle_cycle = ['-', '--']\n",
    "    fig, ax = plt.subplots(figsize=[6, 4], dpi=200)\n",
    "    \n",
    "    color = colors[0]\n",
    "    linestyle = linestyle_cycle[0]\n",
    "    \n",
    "    ax.plot(roc_metrics['fpr'], roc_metrics['tpr'], color=color, linestyle=linestyle)\n",
    "    ax.title.set_text(group)\n",
    "    ax.set_xlabel('1 - Specificity')\n",
    "    ax.set_ylabel('Sensitivity')\n",
    "    ax.grid(True)\n",
    "    ax.set_xlim([0, 1])\n",
    "    ax.set_ylim([0, 1])\n",
    "    \n",
    "    # Draw the canvas (this is still needed)\n",
    "    fig.canvas.draw()\n",
    "\n",
    "    # Replace the broken frombytes/tostring_rgb with a clean savefig to buffer\n",
    "    buf = io.BytesIO()\n",
    "    fig.savefig(buf, format='png', dpi=200)\n",
    "    buf.seek(0)\n",
    "\n",
    "    # Convert to PIL Image and save to file\n",
    "    image_to_store = Image.open(buf)\n",
    "    image_to_store.save(f\"Gender_ROC_{group}.png\", format='png', optimize=True, quality=100)\n",
    "\n",
    "    buf.close()"
   ]
  },
  {
   "cell_type": "markdown",
   "metadata": {},
   "source": [
    "### 1.7 Plot the ROC by Gender on a single chart"
   ]
  },
  {
   "cell_type": "code",
   "execution_count": null,
   "metadata": {},
   "outputs": [],
   "source": [
    "colors = plt.rcParams['axes.prop_cycle'].by_key()['color']\n",
    "linestyle_cycle = ['-', '--']\n",
    "fig, ax = plt.subplots(figsize=[6, 4], dpi=200)\n",
    "\n",
    "linestyle = linestyle_cycle[0]\n",
    "for group, color in zip(results.output.keys(), colors):\n",
    "    roc_metrics = results.output[group]\n",
    "    ax.plot(roc_metrics['fpr'], roc_metrics['tpr'], color=color, linestyle=linestyle, label=group)\n",
    "\n",
    "ax.legend(loc='lower right')\n",
    "ax.title.set_text('ROC by Gender')\n",
    "ax.set_xlabel('1 - Specificity')\n",
    "ax.set_ylabel('Sensitivity')\n",
    "ax.grid(True)\n",
    "ax.set_xlim([0, 1])\n",
    "ax.set_ylim([0, 1])\n",
    "\n",
    "# Render and save (this replaces the broken tostring_rgb())\n",
    "buf = io.BytesIO()\n",
    "fig.savefig(buf, format='png', dpi=200)\n",
    "buf.seek(0)\n",
    "\n",
    "image_to_store = Image.open(buf)\n",
    "image_to_store.save(\"Gender_ROC.png\", format='png', optimize=True, quality=100)\n",
    "\n",
    "buf.close()"
   ]
  },
  {
   "cell_type": "markdown",
   "metadata": {},
   "source": [
    "### 1.8 Upload the visualizations to the Rhino Health Platform"
   ]
  },
  {
   "cell_type": "code",
   "execution_count": null,
   "metadata": {},
   "outputs": [],
   "source": [
    "code_result_uid = \"xxxxxxxx-xxxx-xxxx-xxxxxxxxxxxx\" # Paste the UID of the code run object for your NVFlare code object - look for the (V) icon"
   ]
  },
  {
   "cell_type": "code",
   "execution_count": null,
   "metadata": {},
   "outputs": [],
   "source": [
    "print(\"Sending visualizations to the Cloud\")\n",
    "\n",
    "def add_images_to_report(report_data, image_files):\n",
    "    for image_file in image_files:\n",
    "        with open(image_file, \"rb\") as temp_image:\n",
    "            base_64_image = base64.b64encode(temp_image.read()).decode(\"utf-8\")\n",
    "            report_data.append(\n",
    "              {\n",
    "                 \"type\": \"Image\",\n",
    "                 \"data\": {\n",
    "                     \"image_filename\": image_file,\n",
    "                     \"image_base64\": base_64_image,\n",
    "                 },\n",
    "                 \"width\": 100 / len(image_files)\n",
    "              }\n",
    "           )\n",
    "\n",
    "roc_image_files = ('Overall_ROC.png', 'Overall_ROC_CI.png')\n",
    "gender_image_files = ('Gender_ROC_M.png', 'Gender_ROC_F.png', 'Gender_ROC.png')\n",
    "\n",
    "report_data = []\n",
    "report_data.append({\"type\": \"Title\", \"data\": \"Overall ROC\"})\n",
    "add_images_to_report(report_data, roc_image_files)\n",
    "report_data.append({\"type\": \"Title\", \"data\": \"ROC by Gender\"})\n",
    "add_images_to_report(report_data, gender_image_files)\n",
    "    \n",
    "\n",
    "result = session.post(f\"code_runs/{code_result_uid}/set_report/\", \n",
    "                      data={\"report_data\": json.dumps(report_data)})\n",
    "print('Done')"
   ]
  }
 ],
 "metadata": {
  "colab": {
   "provenance": []
  },
  "kernelspec": {
   "display_name": "Python 3.11",
   "language": "python",
   "name": "python3.11"
  },
  "language_info": {
   "codemirror_mode": {
    "name": "ipython",
    "version": 3
   },
   "file_extension": ".py",
   "mimetype": "text/x-python",
   "name": "python",
   "nbconvert_exporter": "python",
   "pygments_lexer": "ipython3",
   "version": "3.11.6"
  }
 },
 "nbformat": 4,
 "nbformat_minor": 4
}
