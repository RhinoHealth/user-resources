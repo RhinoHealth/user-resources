{
 "cells": [
  {
   "cell_type": "code",
   "execution_count": null,
   "id": "3896d083-58e0-4662-ad83-28d31139afe3",
   "metadata": {},
   "outputs": [],
   "source": [
    "import pandas as pd\n",
    "from sklearn.metrics import roc_curve\n",
    "import matplotlib.pyplot as plt"
   ]
  },
  {
   "cell_type": "code",
   "execution_count": null,
   "id": "d3985f26",
   "metadata": {},
   "outputs": [],
   "source": [
    "centralized_preds = pd.read_csv(\"./output/centralized_predictions.csv\")\n",
    "A_preds = pd.read_csv(\"./output/A_predictions.csv\")\n",
    "B_preds = pd.read_csv(\"./output/B_predictions.csv\")\n",
    "federated_preds = pd.read_csv(\"./output/federated_predictions.csv\")"
   ]
  },
  {
   "cell_type": "code",
   "execution_count": null,
   "id": "a11ca9e6",
   "metadata": {},
   "outputs": [],
   "source": [
    "centralized_roc = roc_curve(centralized_preds.loan_status,centralized_preds.scores)\n",
    "A_roc = roc_curve(A_preds.loan_status,A_preds.scores)\n",
    "B_roc = roc_curve(B_preds.loan_status,B_preds.scores)\n",
    "federated_roc = roc_curve(federated_preds.loan_status,federated_preds.scores)"
   ]
  },
  {
   "cell_type": "code",
   "execution_count": null,
   "id": "ff781e8e",
   "metadata": {},
   "outputs": [],
   "source": [
    "plt.plot(centralized_roc[0],centralized_roc[1])\n",
    "plt.plot(federated_roc[0],federated_roc[1])\n",
    "plt.plot(A_roc[0],A_roc[1])\n",
    "plt.plot(B_roc[0],B_roc[1])\n",
    "plt.xlabel(\"False Positive Rate\")\n",
    "plt.ylabel(\"True Positive Rate\")\n",
    "\n",
    "plt.legend(\n",
    "    [\n",
    "        \"Central Model\",\n",
    "        \"Federated Model\",\n",
    "        \"Model A\",\n",
    "        \"Model B\"\n",
    "    ]\n",
    ")"
   ]
  },
  {
   "cell_type": "code",
   "execution_count": null,
   "id": "2e758552",
   "metadata": {},
   "outputs": [],
   "source": []
  }
 ],
 "metadata": {
  "kernelspec": {
   "display_name": "xgboost_e2e",
   "language": "python",
   "name": "python3"
  },
  "language_info": {
   "codemirror_mode": {
    "name": "ipython",
    "version": 3
   },
   "file_extension": ".py",
   "mimetype": "text/x-python",
   "name": "python",
   "nbconvert_exporter": "python",
   "pygments_lexer": "ipython3",
   "version": "3.10.12"
  }
 },
 "nbformat": 4,
 "nbformat_minor": 5
}
