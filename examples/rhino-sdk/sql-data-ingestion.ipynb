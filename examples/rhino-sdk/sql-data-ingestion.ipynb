{
 "cells": [
  {
   "cell_type": "markdown",
   "id": "8cec8749",
   "metadata": {},
   "source": [
    "# Running On-Prem SQL DB Queries via FCP\n",
    "Demonstrate how to get aggregate info or import datasets from queries run on SQL databases that are located on-prem\n",
    "\n",
    "#### Prerequisites \n",
    "1. Have a SQL DB that is open to connections from a Rhino Client, with access credentials for read-only access to this DB\n",
    "2. Have a project where you are either part of the project's lead workgroup and the DB is within your site, or where there is a collaborator in the project that has the DB at their site\n",
    "3. Ensure the required site-level permissions for SQL querying (Import and export datasets, View dataset analytics) are enabled for the site that has the DB"
   ]
  },
  {
   "cell_type": "markdown",
   "id": "ecf52591",
   "metadata": {},
   "source": [
    "### 1. Initialization and Login"
   ]
  },
  {
   "cell_type": "code",
   "execution_count": 7,
   "id": "f9e3e349",
   "metadata": {},
   "outputs": [],
   "source": [
    "from getpass import getpass\n",
    "from pprint import pprint\n",
    "\n",
    "import rhino_health as rh\n",
    "from rhino_health.lib.endpoints.sql_query.sql_query_dataclass import (\n",
    "    SQLQueryImportInput,\n",
    "    SQLQueryInput,\n",
    "    SQLServerTypes,\n",
    "    ConnectionDetails,\n",
    ")\n",
    "from rhino_health.lib.constants import ApiEnvironment\n",
    "\n",
    "from rhino_health.lib.metrics import Count, FilterType, Mean, StandardDeviation\n"
   ]
  },
  {
   "cell_type": "code",
   "execution_count": 8,
   "id": "3b107de9",
   "metadata": {},
   "outputs": [
    {
     "name": "stdout",
     "output_type": "stream",
     "text": [
      "Logging In\n",
      "Logged In\n"
     ]
    }
   ],
   "source": [
    "print(\"Logging In\")\n",
    "my_username = \"daniel.david@rhinohealth.com\" # Replace this with the email you use to log into Rhino Health\n",
    "session = rh.login(username=my_username, password=getpass(),rhino_api_url= ApiEnvironment.STAGING_AWS_URL)\n",
    "print(\"Logged In\")"
   ]
  },
  {
   "cell_type": "markdown",
   "id": "7324ef97",
   "metadata": {},
   "source": [
    "### 2. Connection Setup"
   ]
  },
  {
   "cell_type": "markdown",
   "id": "9a5403d3",
   "metadata": {},
   "source": [
    "When specifying the connection details, ensure that you provide the server_type using the approved SQLServerTypes enum. This step ensures that your server is supported and compatible with the querying process."
   ]
  },
  {
   "cell_type": "code",
   "execution_count": null,
   "id": "0da2aa6e",
   "metadata": {},
   "outputs": [],
   "source": [
    "sql_db_user = \"\" # Replace this with your DB username (make sure the user has read-only permissions to the DB).\n",
    "sql_db_password = \"\" # Replace this with your DB password. For better security, consider using an environment variable, e.g. - os.getenv(\"DB_PASSWORD\")., or using getpass.getpass() to type in the password\n",
    "external_server_url = \"\" # Replace this with url + port of the SQL DB you want to query (ie \"{url}:{port}\").\n",
    "db_name = \"\" # Replace this with your DB name.\n",
    "\n",
    "connection_details = ConnectionDetails(\n",
    "    server_user=sql_db_user,\n",
    "    password=sql_db_password,    \n",
    "    server_type=SQLServerTypes.POSTGRESQL, # Replace POSTGRESQL with the relevant type of your sql server (See docs for all supported types).\n",
    "    server_url=external_server_url,\n",
    "    db_name=db_name\n",
    ")"
   ]
  },
  {
   "cell_type": "markdown",
   "id": "b07dd468",
   "metadata": {},
   "source": [
    "#### Collect all necessary parameter for queries:\n",
    "\n",
    "Note - You can copy your project UID from the projects page in the Rhino Health dashboard (GUI) under the 3-dot menu"
   ]
  },
  {
   "cell_type": "code",
   "execution_count": null,
   "id": "7f4fe260",
   "metadata": {},
   "outputs": [],
   "source": [
    "project_uid = session.project.get_project_by_name('Your project name').uid\n",
    "# Set the workgroup_uid to the workgroup the DB belongs to.\n",
    "workgroup_uid = session.project.get_collaborating_workgroups(project_uid)[0].uid"
   ]
  },
  {
   "cell_type": "markdown",
   "id": "1136895c",
   "metadata": {},
   "source": [
    "### 3. Running exploratory queries:\n",
    "You can run SQL queries on the remote DB and receive aggregate statistics on the results of the query.\n",
    "\n",
    "This involves two inputs:\n",
    "1. Define the query you want to run (note that the RHP does not limit the SQL code that is run - always connect with a DB user that has read-only permissions)\n",
    "2. Define the metrics you would like to calculate on the query results (using metrics in from rhino_health.lib.metrics)\n"
   ]
  },
  {
   "cell_type": "code",
   "execution_count": null,
   "id": "c2ce6d34",
   "metadata": {},
   "outputs": [],
   "source": [
    "starting_query = \"\" # Replace with query you want to run, e.g. \"SELECT * FROM <your_table> WHERE <condition>\"\n",
    "metric_definitions = [] # Define a list of metrics, e.g. [Mean(variable=\"Height\")] (see documentation on how to define metrics in the RHP SDK)"
   ]
  },
  {
   "cell_type": "markdown",
   "id": "0280ebe8",
   "metadata": {},
   "source": [
    "#### Define the query run parameters"
   ]
  },
  {
   "cell_type": "code",
   "execution_count": null,
   "id": "65f21884",
   "metadata": {},
   "outputs": [],
   "source": [
    "query_run_params = SQLQueryInput(\n",
    "    session=session,\n",
    "    project=project_uid, # The project/workgroup will be used to validate permissions (including and k_anonymization value)\n",
    "    workgroup=workgroup_uid,\n",
    "    connection_details=connection_details,\n",
    "    sql_query=starting_query,\n",
    "    timeout_seconds=600,\n",
    "    metric_definitions=metric_definitions\n",
    ")"
   ]
  },
  {
   "cell_type": "markdown",
   "id": "e871ff49",
   "metadata": {},
   "source": [
    "#### Run the query"
   ]
  },
  {
   "cell_type": "code",
   "execution_count": null,
   "id": "cb94d339",
   "metadata": {},
   "outputs": [],
   "source": [
    "# Run the query on your SQL DB and get the metric results\n",
    "response = session.sql_query.run_sql_query(query_run_params)"
   ]
  },
  {
   "cell_type": "code",
   "execution_count": null,
   "id": "eb60e164",
   "metadata": {},
   "outputs": [],
   "source": [
    "pprint(f\"The result of running the metric on the query: {response.dict()}\")"
   ]
  },
  {
   "cell_type": "markdown",
   "id": "0911a459",
   "metadata": {},
   "source": [
    "### 4. Import query results as a dataset in the Rhino Health Platform\n",
    "You can run SQL queries on the remote DB and then have the results of the query stored on the Rhino Client as a dataset, available for further processing, analysis, etc.\n",
    "\n",
    "This involves two inputs:\n",
    "1. The query you want to run (note that the RHP does not limit the SQL code that is run - always connect with a DB user that has read-only permissions)\n",
    "2. Data needed for the dataset creation (e.g. dataset name)"
   ]
  },
  {
   "cell_type": "code",
   "execution_count": null,
   "id": "4be2349b",
   "metadata": {},
   "outputs": [],
   "source": [
    "query = \"\" # Replace with query you want to run to generate the data for the dataset, e.g. \"SELECT * FROM <your_table> WHERE <condition>\"\n",
    "dataset_name = \"my_dataset\" # Define dataset name \n",
    "is_data_deidentified = False # True/False - whether the data queried is deidentifed \n",
    "\n",
    "# If you want the schema to be automatically generated, leave data_schema_uid as None\n",
    "dataschemas = session.project.get_data_schemas(project_uid)\n",
    "dataschema = data_schemas[0] # Choose relevant dataschema\n",
    "print(f\"Loaded dataschema '{dataschema.name}' with uid '{dataschema.uid}'\")"
   ]
  },
  {
   "cell_type": "markdown",
   "id": "3e347416",
   "metadata": {},
   "source": [
    "#### Define the dataset import parameters"
   ]
  },
  {
   "cell_type": "code",
   "execution_count": null,
   "id": "eda875d4",
   "metadata": {},
   "outputs": [],
   "source": [
    "import_run_params = SQLQueryImportInput(\n",
    "    session=session,\n",
    "    project=project_uid, # The project/workgroup will be used to validate permissions (including and k_anonymization value)\n",
    "    workgroup=workgroup_uid,\n",
    "    connection_details=connection_details,\n",
    "    dataset_name=dataset_name,\n",
    "    data_schema_uid=dataschema.uid,\n",
    "    timeout_seconds=600,\n",
    "    is_data_deidentified=is_data_deidentified,\n",
    "    sql_query=query,\n",
    ")"
   ]
  },
  {
   "cell_type": "markdown",
   "id": "f9e229ad",
   "metadata": {},
   "source": [
    "#### Trigger the query and dataset import"
   ]
  },
  {
   "cell_type": "code",
   "execution_count": null,
   "id": "f0413022",
   "metadata": {},
   "outputs": [],
   "source": [
    "# Run the query on your SQL DB and import the results as a dataset\n",
    "response = session.sql_query.import_dataset_from_sql_query(import_run_params)"
   ]
  },
  {
   "cell_type": "code",
   "execution_count": null,
   "id": "dd77e247",
   "metadata": {},
   "outputs": [],
   "source": [
    "pprint(f\"The result of importing the dataset: {response.dict()}\")"
   ]
  }
 ],
 "metadata": {
  "kernelspec": {
   "display_name": "Python 3",
   "language": "python",
   "name": "python3"
  },
  "language_info": {
   "codemirror_mode": {
    "name": "ipython",
    "version": 3
   },
   "file_extension": ".py",
   "mimetype": "text/x-python",
   "name": "python",
   "nbconvert_exporter": "python",
   "pygments_lexer": "ipython3",
   "version": "3.11.6"
  }
 },
 "nbformat": 4,
 "nbformat_minor": 5
}
