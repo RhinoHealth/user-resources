{
 "cells": [
  {
   "cell_type": "markdown",
   "metadata": {},
   "source": [
    "# Pneumonia Model - Results Analysis with FCP\n",
    "Demonstrate usage of the Rhino Health Python SDK for analyzing code runs using federated analytics\n",
    "\n",
    "#### Prerequisites \n",
    "1. Run training and validation of a pneumonia detection model (e.g. from Tutorial 1)\n",
    "2. Have an output dataset from the model validation with 'Pneumonia' and 'ModelScore' fields\n",
    "3. Have a code run to which you can upload the model performance analysis report"
   ]
  },
  {
   "cell_type": "markdown",
   "metadata": {},
   "source": [
    "### Initialization and Login"
   ]
  },
  {
   "cell_type": "code",
   "execution_count": 1,
   "metadata": {},
   "outputs": [],
   "source": [
    "import pandas as pd\n",
    "import numpy as np\n",
    "import matplotlib.axes\n",
    "import matplotlib.figure\n",
    "import matplotlib.pyplot as plt\n",
    "from PIL import Image\n",
    "import os\n",
    "import sys\n",
    "import base64\n",
    "import json\n",
    "from getpass import getpass\n",
    "import rhino_health\n",
    "from rhino_health.lib.metrics import RocAuc, RocAucWithCI"
   ]
  },
  {
   "cell_type": "code",
   "execution_count": 4,
   "metadata": {},
   "outputs": [
    {
     "name": "stdout",
     "output_type": "stream",
     "text": [
      "Logging In\n",
      "Logged In\n"
     ]
    }
   ],
   "source": [
    "print(\"Logging In\")\n",
    "my_username = \"daniel.david@rhinohealth.com\" # Replace this with the email you use to log into Rhino Health\n",
    "rhino_url = 'https://staging.rhinofcp.com/api/'\n",
    "session = rhino_health.login(username=my_username, password=getpass(), rhino_api_url= rhino_url)\n",
    "print(\"Logged In\")\n",
    "\n",
    "# print(\"Logging In\")\n",
    "# my_username = \"my_email@example.com\" # Replace this with the email you use to log into Rhino Health\n",
    "# session = rhino_health.login(username=my_username, password=getpass.getpass(), rhino_api_url= rhino_url)\n",
    "# print(\"Logged In\")"
   ]
  },
  {
   "cell_type": "markdown",
   "metadata": {},
   "source": [
    "### Load the results dataset from the project "
   ]
  },
  {
   "cell_type": "code",
   "execution_count": null,
   "metadata": {},
   "outputs": [
    {
     "name": "stdout",
     "output_type": "stream",
     "text": [
      "Loaded dataset 'Site 1 Dataset_complete_results'\n"
     ]
    }
   ],
   "source": [
    "site1_results_dataset = '11cdf070-9597-4ec1-be1d-4fa8e7a4622c' # Replace dataset UID\n",
    "dataset = session.dataset.get_dataset(site1_results_dataset)\n",
    "print(f\"Loaded dataset '{dataset.name}'\")\n",
    "\n",
    "# site1_results_dataset = 'XXXXXXXX-XXXX-XXXX-XXXX-XXXXXXXXXXXX' # Replace dataset UID\n",
    "# dataset = session.dataset.get_dataset(site1_results_dataset)\n",
    "# print(f\"Loaded dataset '{dataset.name}'\")"
   ]
  },
  {
   "cell_type": "markdown",
   "metadata": {},
   "source": [
    "### Calculate ROC (underlying results data stays on-prem)"
   ]
  },
  {
   "cell_type": "code",
   "execution_count": 6,
   "metadata": {},
   "outputs": [
    {
     "name": "stdout",
     "output_type": "stream",
     "text": [
      "Exception: Failed to make request\n",
      "Status is 500, Trace Id: 0421mqgwwr, Errors: Error getting dataset metrics: Could not load schema field for SeriesUID, Content is b'{\"errors\":[{\"title\":\"Internal Error\",\"message\":\"Error getting dataset metrics: Could not load schema field for SeriesUID\",\"extra_info\":{}}]}'\n",
      "\n"
     ]
    }
   ],
   "source": [
    "metric_configuration = RocAuc(y_true_variable=\"Pneumonia\", y_pred_variable=\"ModelScore\")\n",
    "results = dataset.get_metric(metric_configuration)"
   ]
  },
  {
   "cell_type": "markdown",
   "metadata": {},
   "source": [
    "### Plot the ROC with your favorite plotting tool"
   ]
  },
  {
   "cell_type": "code",
   "execution_count": null,
   "metadata": {},
   "outputs": [],
   "source": [
    "roc_metrics = results.output\n",
    "\n",
    "colors = plt.rcParams['axes.prop_cycle'].by_key()['color']\n",
    "linestyle_cycle = ['-', '--']\n",
    "fig, ax = plt.subplots(figsize=[6, 4], dpi=200)\n",
    "color = colors[0]\n",
    "linestyle = linestyle_cycle[0]\n",
    "ax.plot(roc_metrics['fpr'], roc_metrics['tpr'], color=color, linestyle=linestyle)\n",
    "ax.title.set_text('Overall ROC')\n",
    "ax.set_xlabel('1 - Specificity')\n",
    "ax.set_ylabel('Sensitivity')\n",
    "ax.grid(True)\n",
    "ax.set_xlim([0, 1])\n",
    "ax.set_ylim([0, 1])\n",
    "\n",
    "fig.canvas.draw()\n",
    "image_to_store = Image.frombytes('RGB', fig.canvas.get_width_height(), fig.canvas.tostring_rgb())\n",
    "image_to_store.save(\"Overall_ROC.png\", format='png', optimize=True, quality=100)"
   ]
  },
  {
   "cell_type": "markdown",
   "metadata": {},
   "source": [
    "### Calculate and plot ROC with a Confidence Interval"
   ]
  },
  {
   "cell_type": "code",
   "execution_count": null,
   "metadata": {},
   "outputs": [],
   "source": [
    "metric_configuration = RocAucWithCI(\n",
    "   timeout_seconds = 30.0,\n",
    "    y_true_variable=\"Pneumonia\",\n",
    "    y_pred_variable=\"ModelScore\",\n",
    "    confidence_interval=95\n",
    ")\n",
    "results = dataset.get_metric(metric_configuration)"
   ]
  },
  {
   "cell_type": "code",
   "execution_count": null,
   "metadata": {},
   "outputs": [],
   "source": [
    "roc_metrics = results.output\n",
    "\n",
    "colors = plt.rcParams['axes.prop_cycle'].by_key()['color']\n",
    "linestyle_cycle = ['-', '--']\n",
    "fig, ax = plt.subplots(figsize=[6, 4], dpi=200)\n",
    "color = colors[0]\n",
    "linestyle = linestyle_cycle[0]\n",
    "tpr_ci = roc_metrics['tpr_ci']\n",
    "ax.fill_between(roc_metrics['fpr'], tpr_ci[0], tpr_ci[1], alpha=0.33, label='_nolegend_', color=color)\n",
    "ax.plot(roc_metrics['fpr'], roc_metrics['tpr'], color=color, linestyle=linestyle)\n",
    "ax.title.set_text('Overall ROC with Confidence Interval')\n",
    "ax.set_xlabel('1 - Specificity')\n",
    "ax.set_ylabel('Sensitivity')\n",
    "ax.grid(True)\n",
    "ax.set_xlim([0, 1])\n",
    "ax.set_ylim([0, 1])\n",
    "fig.canvas.draw()\n",
    "image_to_store = Image.frombytes('RGB', \n",
    "fig.canvas.get_width_height(),fig.canvas.tostring_rgb())\n",
    "image_to_store.save(\"Overall_ROC_CI.png\", format='png', optimize=True, quality=100)"
   ]
  },
  {
   "cell_type": "markdown",
   "metadata": {},
   "source": [
    "### Calculate and plot ROC grouped by Gender"
   ]
  },
  {
   "cell_type": "code",
   "execution_count": null,
   "metadata": {},
   "outputs": [],
   "source": [
    "metric_configuration = RocAuc(y_true_variable=\"Pneumonia\",\n",
    "                              y_pred_variable=\"ModelScore\",\n",
    "                             group_by = { 'groupings': ['Gender']})\n",
    "results = dataset.get_metric(metric_configuration)"
   ]
  },
  {
   "cell_type": "code",
   "execution_count": null,
   "metadata": {},
   "outputs": [],
   "source": [
    "for group in results.output.keys():\n",
    "    roc_metrics= results.output[group]\n",
    "    colors = plt.rcParams['axes.prop_cycle'].by_key()['color']\n",
    "    linestyle_cycle = ['-', '--']\n",
    "    fig, ax = plt.subplots(figsize=[6, 4], dpi=200)\n",
    "    color = colors[0]\n",
    "    linestyle = linestyle_cycle[0]\n",
    "    ax.plot(roc_metrics['fpr'], roc_metrics['tpr'], color=color, linestyle=linestyle)\n",
    "    ax.title.set_text(group)\n",
    "    ax.set_xlabel('1 - Specificity')\n",
    "    ax.set_ylabel('Sensitivity')\n",
    "    ax.grid(True)\n",
    "    ax.set_xlim([0, 1])\n",
    "    ax.set_ylim([0, 1])\n",
    "    fig.canvas.draw()\n",
    "    image_to_store = Image.frombytes('RGB', fig.canvas.get_width_height(),fig.canvas.tostring_rgb())\n",
    "    image_to_store.save(f\"Gender_ROC_{group}.png\", format='png', optimize=True, quality=100)\n"
   ]
  },
  {
   "cell_type": "markdown",
   "metadata": {},
   "source": [
    "### Plot the ROC by Gender on a single chart"
   ]
  },
  {
   "cell_type": "code",
   "execution_count": null,
   "metadata": {},
   "outputs": [],
   "source": [
    "colors = plt.rcParams['axes.prop_cycle'].by_key()['color']\n",
    "linestyle_cycle = ['-', '--']\n",
    "fig, ax =plt.subplots(figsize=[6, 4], dpi=200)\n",
    "\n",
    "linestyle = linestyle_cycle[0]\n",
    "for group,color in zip(results.output.keys(),colors):\n",
    "    roc_metrics= results.output[group]\n",
    "    ax.plot(roc_metrics['fpr'], roc_metrics['tpr'], color=color, linestyle=linestyle,label = group)\n",
    "    ax.legend(loc='lower right')\n",
    "ax.title.set_text('ROC by Gender')\n",
    "ax.set_xlabel('1 - Specificity')\n",
    "ax.set_ylabel('Sensitivity')\n",
    "ax.grid(True)\n",
    "ax.set_xlim([0, 1])\n",
    "ax.set_ylim([0, 1])\n",
    "\n",
    "fig.canvas.draw()\n",
    "image_to_store = Image.frombytes('RGB', fig.canvas.get_width_height(),fig.canvas.tostring_rgb())\n",
    "image_to_store.save(\"Gender_ROC.png\", format='png', optimize=True, quality=100)\n"
   ]
  },
  {
   "cell_type": "markdown",
   "metadata": {},
   "source": [
    "### Upload the visualizations to FCP"
   ]
  },
  {
   "cell_type": "code",
   "execution_count": null,
   "metadata": {},
   "outputs": [],
   "source": [
    "print(\"Sending visualizations to the Cloud\")\n",
    "code_result_uid = \"XXXXXXXX-XXXX-XXXX-XXXX-XXXXXXXXXXXX\"  # Replace code runs UID\n",
    "\n",
    "def add_images_to_report(report_data, image_files):\n",
    "    for image_file in image_files:\n",
    "        with open(image_file, \"rb\") as temp_image:\n",
    "            base_64_image = base64.b64encode(temp_image.read()).decode(\"utf-8\")\n",
    "            report_data.append(\n",
    "              {\n",
    "                 \"type\": \"Image\",\n",
    "                 \"data\": {\n",
    "                     \"image_filename\": image_file,\n",
    "                     \"image_base64\": base_64_image,\n",
    "                 },\n",
    "                 \"width\": 100 / len(image_files)\n",
    "              }\n",
    "           )\n",
    "\n",
    "roc_image_files = ('Overall_ROC.png', 'Overall_ROC_CI.png')\n",
    "gender_image_files = ('Gender_ROC_M.png', 'Gender_ROC_F.png', 'Gender_ROC.png')\n",
    "\n",
    "report_data = []\n",
    "report_data.append({\"type\": \"Title\", \"data\": \"Overall ROC\"})\n",
    "add_images_to_report(report_data, roc_image_files)\n",
    "report_data.append({\"type\": \"Title\", \"data\": \"ROC by Gender\"})\n",
    "add_images_to_report(report_data, gender_image_files)\n",
    "    \n",
    "\n",
    "result = session.post(f\"code_runs/{code_result_uid}/set_report/\", \n",
    "                      data={\"report_data\": json.dumps(report_data)})\n",
    "print('Done')"
   ]
  }
 ],
 "metadata": {
  "kernelspec": {
   "display_name": "Python 3",
   "language": "python",
   "name": "python3"
  },
  "language_info": {
   "codemirror_mode": {
    "name": "ipython",
    "version": 3
   },
   "file_extension": ".py",
   "mimetype": "text/x-python",
   "name": "python",
   "nbconvert_exporter": "python",
   "pygments_lexer": "ipython3",
   "version": "3.11.6"
  }
 },
 "nbformat": 4,
 "nbformat_minor": 2
}
