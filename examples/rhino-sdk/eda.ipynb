{
 "cells": [
  {
   "cell_type": "markdown",
   "id": "6af60b41",
   "metadata": {},
   "source": [
    "# Performing Exploratory Data Analysis (EDA) with FCP\n",
    "Demonstrate usage of the Rhino Health Python SDK for performing EDA using federated analytics\n",
    "\n",
    "#### Prerequisites \n",
    "1. Have two datasets imported in FCP with Height, Weight, and Gender fields (e.g. from Tutorial 1)"
   ]
  },
  {
   "cell_type": "markdown",
   "id": "a89e5973",
   "metadata": {},
   "source": [
    "### Initialization and Login"
   ]
  },
  {
   "cell_type": "code",
   "execution_count": null,
   "id": "fda5b9b2",
   "metadata": {},
   "outputs": [],
   "source": [
    "from getpass import getpass\n",
    "import rhino_health as rh"
   ]
  },
  {
   "cell_type": "code",
   "execution_count": null,
   "id": "3b107de9",
   "metadata": {},
   "outputs": [],
   "source": [
    "print(\"Logging In\")\n",
    "my_username = \"my_email@example.com\" # Replace this with the email you use to log into Rhino Health\n",
    "session = rhino_health.login(username=my_username, password=getpass())\n",
    "print(\"Logged In\")"
   ]
  },
  {
   "cell_type": "markdown",
   "id": "8081822f",
   "metadata": {},
   "source": [
    "### Run this cell to list all of the projects in your environment:"
   ]
  },
  {
   "cell_type": "code",
   "execution_count": null,
   "id": "3e5a1af0",
   "metadata": {},
   "outputs": [],
   "source": [
    "projects = session.project.search_for_projects_by_name(name=\"\")\n",
    "for p in projects:\n",
    "    print(p.name)"
   ]
  },
  {
   "cell_type": "markdown",
   "id": "c10c0fea",
   "metadata": {},
   "source": [
    "### Load the Project you would like to calculate the metric for by placing the Project's name below\n",
    "Replace `PROJECT_NAME` with the name of your project"
   ]
  },
  {
   "cell_type": "code",
   "execution_count": null,
   "id": "b91bff14",
   "metadata": {},
   "outputs": [],
   "source": [
    "project = session.project.get_project_by_name(\"PROJECT_NAME\")\n",
    "if not project:\n",
    "        raise ValueError(\"Project not found.\")\n",
    "\n",
    "print(\"Selected project name:\", project.name)"
   ]
  },
  {
   "cell_type": "markdown",
   "id": "d689f6df",
   "metadata": {},
   "source": [
    "### List your available datasets in your project and then load those you would like to calculate federated percentiles"
   ]
  },
  {
   "cell_type": "markdown",
   "id": "97663b1a",
   "metadata": {},
   "source": [
    "Run this cell to list all of your available datasets in your project"
   ]
  },
  {
   "cell_type": "code",
   "execution_count": null,
   "id": "d32c6d82",
   "metadata": {},
   "outputs": [],
   "source": [
    "all_datasets = session.dataset.search_for_datasets_by_name(name=\"\")\n",
    "project_datasets = [d for d in all_datasets if d.project and d.project.uid == project.uid]\n",
    "\n",
    "print(f\"\\nDatasets in project '{project.name}':\")\n",
    "for d in project_datasets:\n",
    "    print(f\"- {d.name} : {d.uid}\")"
   ]
  },
  {
   "cell_type": "code",
   "execution_count": null,
   "id": "c809e88c",
   "metadata": {},
   "outputs": [],
   "source": [
    "FIRST_TEST_DATASET_UID = \"XXXXXXXX-XXXX-XXXX-XXXX-XXXXXXXXXXXX\"   # Replace this with the ID of the first test dataset\n",
    "SECOND_TEST_DATASET_UID = \"XXXXXXXX-XXXX-XXXX-XXXX-XXXXXXXXXXXX\"   # Replace this with the ID of the second test dataset\n",
    "first_dataset = session.dataset.get_dataset(FIRST_TEST_DATASET_UID)\n",
    "second_dataset = session.dataset.get_dataset(SECOND_TEST_DATASET_UID)\n",
    "all_datasets = [first_dataset.uid, second_dataset.uid]"
   ]
  },
  {
   "cell_type": "markdown",
   "id": "0417132b",
   "metadata": {},
   "source": [
    "### Calculate Metrics Per Site\n",
    "All calculations are performed on-prem - only aggregate data returned to the notebook"
   ]
  },
  {
   "cell_type": "code",
   "execution_count": null,
   "id": "ae4fe67d",
   "metadata": {},
   "outputs": [],
   "source": [
    "from rhino_health.lib.metrics import Count, FilterType, Mean, StandardDeviation"
   ]
  },
  {
   "cell_type": "code",
   "execution_count": null,
   "id": "0da2aa6e",
   "metadata": {},
   "outputs": [],
   "source": [
    "print(\"Simple counts per site\")\n",
    "\n",
    "count_verification = Count(variable=\"Height\")\n",
    "individual_results = {\n",
    "    \"site1\": session.dataset.get_dataset_metric(first_dataset.uid, count_verification).output,\n",
    "    \"site2\": session.dataset.get_dataset_metric(second_dataset.uid, count_verification).output,\n",
    "}\n",
    "\n",
    "print(f\"{individual_results}\")"
   ]
  },
  {
   "cell_type": "code",
   "execution_count": null,
   "id": "8e4c0e87",
   "metadata": {},
   "outputs": [],
   "source": [
    "print(\"Simple mean per site\")\n",
    "\n",
    "mean_verification = Mean(\n",
    "    variable=\"Height\"\n",
    ")\n",
    "individual_results = {\n",
    "    \"site1\": session.dataset.get_dataset_metric(first_dataset.uid, mean_verification).output,\n",
    "    \"site2\": session.dataset.get_dataset_metric(second_dataset.uid, mean_verification).output,\n",
    "}\n",
    "\n",
    "print(f\"{individual_results}\")"
   ]
  },
  {
   "cell_type": "code",
   "execution_count": null,
   "id": "42203be0",
   "metadata": {},
   "outputs": [],
   "source": [
    "print(\"Filtered Height mean per site\")\n",
    "\n",
    "mean_verification = Mean(\n",
    "    variable={\n",
    "        \"data_column\": \"Height\",\n",
    "        \"filter_column\": \"Gender\",\n",
    "        \"filter_value\": \"M\"\n",
    "    }\n",
    ")\n",
    "individual_results = {\n",
    "    \"site1\": session.dataset.get_dataset_metric(first_dataset.uid, mean_verification).output,\n",
    "    \"site2\": session.dataset.get_dataset_metric(second_dataset.uid, mean_verification).output,\n",
    "}\n",
    "\n",
    "print(f\"{individual_results}\")"
   ]
  },
  {
   "cell_type": "code",
   "execution_count": null,
   "id": "5a5a1784",
   "metadata": {},
   "outputs": [],
   "source": [
    "mean_verification = Mean(\n",
    "    variable=\"Height\",\n",
    "    group_by={\"groupings\": [\"Gender\"]},\n",
    ")\n",
    "individual_results = {\n",
    "    \"site1\": session.dataset.get_dataset_metric(first_dataset.uid, mean_verification).output,\n",
    "    \"site2\": session.dataset.get_dataset_metric(second_dataset.uid, mean_verification).output,\n",
    "}\n",
    "\n",
    "print(f\"{individual_results}\")\n"
   ]
  },
  {
   "cell_type": "markdown",
   "id": "998199d4",
   "metadata": {},
   "source": [
    "### Calculate Aggregated Metrics Across Multiple Sites\n",
    "Similarly - all calculations are performed on-prem - only aggregate data returned to the notebook.\n",
    "\n",
    "This ensures data privacy is preserved at each site while enabling secure federated analysis.\n"
   ]
  },
  {
   "cell_type": "markdown",
   "id": "1523904e",
   "metadata": {},
   "source": [
    "#### Aggregate Grouped Height Mean"
   ]
  },
  {
   "cell_type": "code",
   "execution_count": null,
   "id": "abca0901",
   "metadata": {},
   "outputs": [],
   "source": [
    "print(\"Aggregate Grouped Height Mean:\")\n",
    "\n",
    "mean_verification = Mean(\n",
    "    variable=\"Height\",\n",
    "    group_by={\"groupings\": [\"Gender\"]}\n",
    ")\n",
    "\n",
    "grouped_results = session.project.aggregate_dataset_metric(\n",
    "    dataset_uids=[str(first_dataset.uid), str(second_dataset.uid)],\n",
    "    metric_configuration=mean_verification\n",
    ")\n",
    "\n",
    "print(f\"{grouped_results.output}\")"
   ]
  },
  {
   "cell_type": "markdown",
   "id": "8c447e40",
   "metadata": {},
   "source": [
    "#### Complex Aggregation (Filter + Grouping)"
   ]
  },
  {
   "cell_type": "code",
   "execution_count": null,
   "id": "daf5cc04",
   "metadata": {},
   "outputs": [],
   "source": [
    "print(\"Complex Aggregation (Filtered and Grouped):\")\n",
    "\n",
    "configuration = Mean(\n",
    "    variable={\n",
    "        \"data_column\": \"Height\",\n",
    "        \"filter_column\": \"Weight\",\n",
    "        \"filter_value\": 70,\n",
    "        \"filter_type\": FilterType.GREATER_THAN_EQUAL,\n",
    "    },\n",
    "    group_by={\"groupings\": [\"Gender\"]}\n",
    ")\n",
    "\n",
    "grouped_results = session.project.aggregate_dataset_metric(\n",
    "    dataset_uids=[str(first_dataset.uid), str(second_dataset.uid)],\n",
    "    metric_configuration=configuration\n",
    ")\n",
    "\n",
    "print(f\"{grouped_results.output}\")"
   ]
  },
  {
   "cell_type": "markdown",
   "id": "ecff141d",
   "metadata": {},
   "source": [
    "#### Complex Aggregation with Complex Filtering"
   ]
  },
  {
   "cell_type": "code",
   "execution_count": null,
   "id": "75ac907d",
   "metadata": {},
   "outputs": [],
   "source": [
    "print(\"Complex Aggregation with Complex Filtering:\")\n",
    "\n",
    "configuration = Mean(\n",
    "    variable={\n",
    "        \"data_column\": \"Height\",\n",
    "        \"filter_column\": \"Weight\",\n",
    "        \"filter_value\": {\n",
    "            \"lower\": {\"filter_value\": 70, \"filter_type\": FilterType.GREATER_THAN_EQUAL},\n",
    "            \"upper\": {\"filter_value\": 100, \"filter_type\": FilterType.LESS_THAN_EQUAL},\n",
    "        },\n",
    "        \"filter_type\": FilterType.BETWEEN,\n",
    "    },\n",
    "    group_by={\"groupings\": [\"Gender\"]}\n",
    ")\n",
    "\n",
    "grouped_results = session.project.aggregate_dataset_metric(\n",
    "    dataset_uids=[str(first_dataset.uid), str(second_dataset.uid)],\n",
    "    metric_configuration=configuration\n",
    ")\n",
    "\n",
    "print(f\"{grouped_results.output}\")"
   ]
  },
  {
   "cell_type": "markdown",
   "id": "80fef651",
   "metadata": {},
   "source": [
    "#### Standard Deviation of Height (Per Site, Not Federated)"
   ]
  },
  {
   "cell_type": "code",
   "execution_count": null,
   "id": "1e9f2c18",
   "metadata": {},
   "outputs": [],
   "source": [
    "print(\"Standard Deviation of Height (per site, not aggregated):\")\n",
    "\n",
    "configuration = StandardDeviation(variable=\"Height\")\n",
    "\n",
    "individual_results = {\n",
    "    \"site1\": session.dataset.get_dataset_metric(first_dataset.uid, configuration).output,\n",
    "    \"site2\": session.dataset.get_dataset_metric(second_dataset.uid, configuration).output,\n",
    "}\n",
    "\n",
    "print(f\"{individual_results}\")"
   ]
  }
 ],
 "metadata": {
  "kernelspec": {
   "display_name": "Python 3",
   "language": "python",
   "name": "python3"
  },
  "language_info": {
   "codemirror_mode": {
    "name": "ipython",
    "version": 3
   },
   "file_extension": ".py",
   "mimetype": "text/x-python",
   "name": "python",
   "nbconvert_exporter": "python",
   "pygments_lexer": "ipython3",
   "version": "3.11.6"
  }
 },
 "nbformat": 4,
 "nbformat_minor": 5
}
