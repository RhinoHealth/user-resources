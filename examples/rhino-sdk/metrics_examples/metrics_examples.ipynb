{
 "cells": [
  {
   "cell_type": "markdown",
   "id": "6eb8e5ca",
   "metadata": {},
   "source": [
    "# Example: Metrics calculations using the rhino_health SDK\n",
    "\n",
    "### Load all necessary libraries, including 'rhino_health'"
   ]
  },
  {
   "cell_type": "code",
   "execution_count": 21,
   "id": "ca8789ad-2371-4614-ace0-01a6d4343b48",
   "metadata": {},
   "outputs": [],
   "source": [
    "from getpass import getpass\n",
    "import rhino_health as rh\n",
    "import pandas as pd\n",
    "from rhino_health.lib.metrics import *\n",
    "from rhino_health.lib.metrics.epidemiology.two_by_two_table_based_metrics import *\n",
    "from rhino_health.lib.metrics.statistics_tests import ChiSquare, TTest, OneWayANOVA"
   ]
  },
  {
   "cell_type": "code",
   "execution_count": 22,
   "id": "60fac8e5",
   "metadata": {},
   "outputs": [
    {
     "name": "stdout",
     "output_type": "stream",
     "text": [
      "Requirement already satisfied: rhino_health in /Users/danieldavid/.pyenv/versions/3.11.6/lib/python3.11/site-packages (1.5.0)\n",
      "Requirement already satisfied: arrow<2,>=1.2.1 in /Users/danieldavid/.pyenv/versions/3.11.6/lib/python3.11/site-packages (from rhino_health) (1.3.0)\n",
      "Requirement already satisfied: backoff<2.3,>=2.1.1 in /Users/danieldavid/.pyenv/versions/3.11.6/lib/python3.11/site-packages (from rhino_health) (2.2.1)\n",
      "Requirement already satisfied: funcy<3,>=1.16 in /Users/danieldavid/.pyenv/versions/3.11.6/lib/python3.11/site-packages (from rhino_health) (2.0)\n",
      "Requirement already satisfied: pydantic<2.6,>=2.5 in /Users/danieldavid/.pyenv/versions/3.11.6/lib/python3.11/site-packages (from rhino_health) (2.5.3)\n",
      "Requirement already satisfied: ratelimit<2.3,>=2.2.1 in /Users/danieldavid/.pyenv/versions/3.11.6/lib/python3.11/site-packages (from rhino_health) (2.2.1)\n",
      "Requirement already satisfied: requests<2.33,>=2.28 in /Users/danieldavid/.pyenv/versions/3.11.6/lib/python3.11/site-packages (from rhino_health) (2.32.3)\n",
      "Requirement already satisfied: typing-extensions>=4.8.0 in /Users/danieldavid/.pyenv/versions/3.11.6/lib/python3.11/site-packages (from rhino_health) (4.12.2)\n",
      "Requirement already satisfied: python-dateutil>=2.7.0 in /Users/danieldavid/.pyenv/versions/3.11.6/lib/python3.11/site-packages (from arrow<2,>=1.2.1->rhino_health) (2.9.0.post0)\n",
      "Requirement already satisfied: types-python-dateutil>=2.8.10 in /Users/danieldavid/.pyenv/versions/3.11.6/lib/python3.11/site-packages (from arrow<2,>=1.2.1->rhino_health) (2.9.0.20241206)\n",
      "Requirement already satisfied: annotated-types>=0.4.0 in /Users/danieldavid/.pyenv/versions/3.11.6/lib/python3.11/site-packages (from pydantic<2.6,>=2.5->rhino_health) (0.7.0)\n",
      "Requirement already satisfied: pydantic-core==2.14.6 in /Users/danieldavid/.pyenv/versions/3.11.6/lib/python3.11/site-packages (from pydantic<2.6,>=2.5->rhino_health) (2.14.6)\n",
      "Requirement already satisfied: charset-normalizer<4,>=2 in /Users/danieldavid/.pyenv/versions/3.11.6/lib/python3.11/site-packages (from requests<2.33,>=2.28->rhino_health) (3.4.1)\n",
      "Requirement already satisfied: idna<4,>=2.5 in /Users/danieldavid/.pyenv/versions/3.11.6/lib/python3.11/site-packages (from requests<2.33,>=2.28->rhino_health) (3.10)\n",
      "Requirement already satisfied: urllib3<3,>=1.21.1 in /Users/danieldavid/.pyenv/versions/3.11.6/lib/python3.11/site-packages (from requests<2.33,>=2.28->rhino_health) (1.26.20)\n",
      "Requirement already satisfied: certifi>=2017.4.17 in /Users/danieldavid/.pyenv/versions/3.11.6/lib/python3.11/site-packages (from requests<2.33,>=2.28->rhino_health) (2025.1.31)\n",
      "Requirement already satisfied: six>=1.5 in /Users/danieldavid/.pyenv/versions/3.11.6/lib/python3.11/site-packages (from python-dateutil>=2.7.0->arrow<2,>=1.2.1->rhino_health) (1.17.0)\n"
     ]
    }
   ],
   "source": [
    "! pip install --upgrade rhino_health"
   ]
  },
  {
   "cell_type": "markdown",
   "id": "7f06db3e",
   "metadata": {},
   "source": [
    "### Log in to the Rhino Health Platform\n",
    "\n",
    "**Note: Replace \"USERNAME\" with your Rhino Health username.**\n"
   ]
  },
  {
   "cell_type": "code",
   "execution_count": 23,
   "id": "2f5e9e37-084b-489f-a1c0-92d4974897c2",
   "metadata": {},
   "outputs": [
    {
     "name": "stdout",
     "output_type": "stream",
     "text": [
      "Logging In\n",
      "Logged In\n"
     ]
    }
   ],
   "source": [
    "my_username = \"daniel.david@rhinohealth.com\" # Replace this with the email you use to log into Rhino Health\n",
    "staging_url='https://staging.rhinofcp.com/api/'\n",
    "\n",
    "print(\"Logging In\")\n",
    "session = rh.login(username=my_username, password=getpass(), rhino_api_url= staging_url)\n",
    "print(\"Logged In\")\n",
    "\n",
    "# my_username = \"my_email@example.com\" # Replace this with the email you use to log into Rhino Health\n",
    "\n",
    "# print(\"Logging In\")\n",
    "# session = rh.login(username=my_username, password=getpass())\n",
    "# print(\"Logged In\")"
   ]
  },
  {
   "cell_type": "markdown",
   "id": "e465c1e8",
   "metadata": {},
   "source": [
    "### Run this cell to list all of the projects in your environment:"
   ]
  },
  {
   "cell_type": "code",
   "execution_count": 24,
   "id": "aa704f4a",
   "metadata": {},
   "outputs": [
    {
     "name": "stdout",
     "output_type": "stream",
     "text": [
      "metrics_examples\n",
      "cox_test\n",
      "Pre-approved Code Project\n",
      "test_dcm2png\n",
      "Incremental\n",
      "Tutorial 2 GCP\n",
      "Tutorial 1 GCP\n",
      "Test Noy\n",
      "Validation Project\n",
      "Tal Test\n",
      "Yuval Test HC\n",
      "Yuval Test\n",
      "Test IC\n"
     ]
    }
   ],
   "source": [
    "projects = session.project.search_for_projects_by_name(name=\"\")\n",
    "for p in projects:\n",
    "    print(p.name)"
   ]
  },
  {
   "cell_type": "markdown",
   "id": "ef9cf810",
   "metadata": {},
   "source": [
    "### Load the Project you would like to calculate metrics for by placing the Project's name below\n",
    "Replace `PROJECT_NAME` with the name of your project"
   ]
  },
  {
   "cell_type": "code",
   "execution_count": 25,
   "id": "92dc2634-f9ff-4789-80b3-f2abdb1342a9",
   "metadata": {},
   "outputs": [
    {
     "name": "stdout",
     "output_type": "stream",
     "text": [
      "Selected project name: metrics_examples\n"
     ]
    }
   ],
   "source": [
    "project = session.project.get_project_by_name(\"metrics_examples\")\n",
    "if not project:\n",
    "        raise ValueError(\"Project not found.\")\n",
    "\n",
    "print(\"Selected project name:\", project.name)\n",
    "\n",
    "# project = session.project.get_project_by_name(\"PROJECT_NAME\")\n",
    "# if not project:\n",
    "#         raise ValueError(\"Project not found.\")\n",
    "\n",
    "# print(\"Selected project name:\", project.name)"
   ]
  },
  {
   "cell_type": "markdown",
   "id": "b88c701e",
   "metadata": {},
   "source": [
    "### List your available datasets in your project and then load those you would like to calculate federated percentiles"
   ]
  },
  {
   "cell_type": "markdown",
   "id": "1131dd2e",
   "metadata": {},
   "source": [
    "Run this cell to list all of your available datasets in your project"
   ]
  },
  {
   "cell_type": "code",
   "execution_count": 26,
   "id": "a31f763b",
   "metadata": {},
   "outputs": [
    {
     "name": "stdout",
     "output_type": "stream",
     "text": [
      "\n",
      "Datasets in project 'metrics_examples':\n",
      "- input_1\n",
      "- input_2\n"
     ]
    }
   ],
   "source": [
    "all_datasets = session.dataset.search_for_datasets_by_name(name=\"\")\n",
    "project_datasets = [d for d in all_datasets if d.project and d.project.uid == project.uid]\n",
    "\n",
    "print(f\"\\nDatasets in project '{project.name}':\")\n",
    "for d in project_datasets:\n",
    "    print(f\"- {d.name}\")"
   ]
  },
  {
   "cell_type": "markdown",
   "id": "f3d20b5f",
   "metadata": {},
   "source": [
    "Load the datasets you would like to calculate metrics for by placing the datasets names below,\n",
    "Replace `DATASET_1` & `DATASET_2` with the name of your datasets"
   ]
  },
  {
   "cell_type": "code",
   "execution_count": 34,
   "id": "efe242a3-1b33-4a68-ab23-7304cb472618",
   "metadata": {},
   "outputs": [],
   "source": [
    "# dataset_uids = [\n",
    "#     project.get_dataset_by_name(\"input_1\"),\n",
    "#     project.get_dataset_by_name(\"input_2\"),\n",
    "# ]\n",
    "\n",
    "dataset_uids = [\n",
    "    str(project.get_dataset_by_name(\"input_1\").uid),\n",
    "    str(project.get_dataset_by_name(\"input_2\").uid),\n",
    "]"
   ]
  },
  {
   "cell_type": "markdown",
   "id": "cc98ac48ef0e4a94",
   "metadata": {},
   "source": [
    "The datasets should be in the following format:"
   ]
  },
  {
   "cell_type": "code",
   "execution_count": 27,
   "id": "ddd585974ace2353",
   "metadata": {},
   "outputs": [
    {
     "data": {
      "text/html": [
       "<div>\n",
       "<style scoped>\n",
       "    .dataframe tbody tr th:only-of-type {\n",
       "        vertical-align: middle;\n",
       "    }\n",
       "\n",
       "    .dataframe tbody tr th {\n",
       "        vertical-align: top;\n",
       "    }\n",
       "\n",
       "    .dataframe thead th {\n",
       "        text-align: right;\n",
       "    }\n",
       "</style>\n",
       "<table border=\"1\" class=\"dataframe\">\n",
       "  <thead>\n",
       "    <tr style=\"text-align: right;\">\n",
       "      <th></th>\n",
       "      <th>Weight</th>\n",
       "      <th>Pneumonia</th>\n",
       "      <th>Smoking</th>\n",
       "      <th>Inflammation Level</th>\n",
       "      <th>Spo2 Level</th>\n",
       "    </tr>\n",
       "  </thead>\n",
       "  <tbody>\n",
       "    <tr>\n",
       "      <th>0</th>\n",
       "      <td>84.0</td>\n",
       "      <td>True</td>\n",
       "      <td>False</td>\n",
       "      <td>Low</td>\n",
       "      <td>0.300</td>\n",
       "    </tr>\n",
       "    <tr>\n",
       "      <th>1</th>\n",
       "      <td>97.0</td>\n",
       "      <td>True</td>\n",
       "      <td>True</td>\n",
       "      <td>Medium</td>\n",
       "      <td>0.510</td>\n",
       "    </tr>\n",
       "    <tr>\n",
       "      <th>2</th>\n",
       "      <td>91.0</td>\n",
       "      <td>True</td>\n",
       "      <td>False</td>\n",
       "      <td>Medium</td>\n",
       "      <td>0.120</td>\n",
       "    </tr>\n",
       "    <tr>\n",
       "      <th>3</th>\n",
       "      <td>90.0</td>\n",
       "      <td>True</td>\n",
       "      <td>False</td>\n",
       "      <td>High</td>\n",
       "      <td>0.030</td>\n",
       "    </tr>\n",
       "    <tr>\n",
       "      <th>4</th>\n",
       "      <td>124.0</td>\n",
       "      <td>False</td>\n",
       "      <td>True</td>\n",
       "      <td>High</td>\n",
       "      <td>0.413</td>\n",
       "    </tr>\n",
       "    <tr>\n",
       "      <th>5</th>\n",
       "      <td>97.0</td>\n",
       "      <td>True</td>\n",
       "      <td>True</td>\n",
       "      <td>High</td>\n",
       "      <td>0.300</td>\n",
       "    </tr>\n",
       "  </tbody>\n",
       "</table>\n",
       "</div>"
      ],
      "text/plain": [
       "   Weight  Pneumonia  Smoking Inflammation Level  Spo2 Level\n",
       "0    84.0       True    False                Low       0.300\n",
       "1    97.0       True     True             Medium       0.510\n",
       "2    91.0       True    False             Medium       0.120\n",
       "3    90.0       True    False               High       0.030\n",
       "4   124.0      False     True               High       0.413\n",
       "5    97.0       True     True               High       0.300"
      ]
     },
     "execution_count": 27,
     "metadata": {},
     "output_type": "execute_result"
    }
   ],
   "source": [
    "pd.DataFrame({\n",
    "    'Weight': [84.0, 97.0, 91.0, 90.0, 124.0, 97.0],\n",
    "    'Pneumonia': [True, True, True, True, False, True],\n",
    "    'Smoking': [False, True, False, False, True, True],\n",
    "    'Inflammation Level': ['Low', 'Medium', 'Medium', 'High', 'High', 'High'],\n",
    "    'Spo2 Level': [0.3, 0.51, 0.12, 0.03, 0.413, 0.3]\n",
    "})"
   ]
  },
  {
   "cell_type": "code",
   "execution_count": null,
   "id": "4442d112",
   "metadata": {},
   "outputs": [
    {
     "name": "stdout",
     "output_type": "stream",
     "text": [
      "Exception: Failed to make request\n",
      "Status is 500, Trace Id: 0421c7sdy4, Errors: No active version exists for Dataset sample_input1, Content is b'{\"errors\":[{\"title\":\"Internal server error\",\"message\":\"No active version exists for Dataset sample_input1\",\"extra_info\":{}}]}'\n",
      "\n"
     ]
    }
   ],
   "source": [
    "# for uid in dataset_uids:\n",
    "#     ds = session.dataset.get_dataset(uid)\n",
    "#     print(f\"\\nSchema for dataset '{ds.name}':\")\n",
    "#     print(ds.schema)\n"
   ]
  },
  {
   "cell_type": "markdown",
   "id": "d600a353",
   "metadata": {},
   "source": [
    "### Calculate the Mean weight for the two Datasets."
   ]
  },
  {
   "cell_type": "code",
   "execution_count": 35,
   "id": "dc62405c-beeb-4345-88e0-43499639a765",
   "metadata": {},
   "outputs": [
    {
     "data": {
      "text/plain": [
       "MetricResponse(output={'mean': 96.92727272727272}, metric_configuration_dict={'metric': 'mean', 'arguments': '{\"data_filters\":[],\"count_variable_name\":\"variable\",\"variable\":\"Weight\"}'}, dataset_uids=['90c9d01d-9e74-423a-893c-2bc3b6ec2b21', 'aca46c02-cbc2-412f-9b51-b81e29f89a58'], session=<rhino_health.lib.rhino_session.RhinoSession object at 0x1244b86d0>)"
      ]
     },
     "execution_count": 35,
     "metadata": {},
     "output_type": "execute_result"
    }
   ],
   "source": [
    "mean_config = Mean(variable=\"Weight\") \n",
    "session.project.aggregate_dataset_metric(dataset_uids, mean_config)\n"
   ]
  },
  {
   "cell_type": "markdown",
   "id": "101c1fa1",
   "metadata": {},
   "source": [
    "### Get the two by two table for detected and exposed values."
   ]
  },
  {
   "cell_type": "code",
   "execution_count": 36,
   "id": "3d690758fe486f7f",
   "metadata": {},
   "outputs": [
    {
     "data": {
      "text/html": [
       "<div>\n",
       "<style scoped>\n",
       "    .dataframe tbody tr th:only-of-type {\n",
       "        vertical-align: middle;\n",
       "    }\n",
       "\n",
       "    .dataframe tbody tr th {\n",
       "        vertical-align: top;\n",
       "    }\n",
       "\n",
       "    .dataframe thead th {\n",
       "        text-align: right;\n",
       "    }\n",
       "</style>\n",
       "<table border=\"1\" class=\"dataframe\">\n",
       "  <thead>\n",
       "    <tr style=\"text-align: right;\">\n",
       "      <th></th>\n",
       "      <th>True</th>\n",
       "      <th>False</th>\n",
       "    </tr>\n",
       "  </thead>\n",
       "  <tbody>\n",
       "    <tr>\n",
       "      <th>True</th>\n",
       "      <td>18</td>\n",
       "      <td>5</td>\n",
       "    </tr>\n",
       "    <tr>\n",
       "      <th>False</th>\n",
       "      <td>19</td>\n",
       "      <td>5</td>\n",
       "    </tr>\n",
       "  </tbody>\n",
       "</table>\n",
       "</div>"
      ],
      "text/plain": [
       "       True  False\n",
       "True     18      5\n",
       "False    19      5"
      ]
     },
     "execution_count": 36,
     "metadata": {},
     "output_type": "execute_result"
    }
   ],
   "source": [
    "tbtt = TwoByTwoTable(\n",
    "                    variable=\"id\",\n",
    "                    detected_column_name=\"Pneumonia\",\n",
    "                    exposed_column_name=\"Smoking\",\n",
    ")\n",
    "table = session.project.aggregate_dataset_metric(dataset_uids, tbtt)\n",
    "pd.DataFrame(table.as_table())"
   ]
  },
  {
   "cell_type": "markdown",
   "id": "f85b3c3d86630cef",
   "metadata": {},
   "source": [
    "### Calculate the Odds Ratio between the \"Pneumonia\" feature and the \"Smoking\" feature for the two Datasets."
   ]
  },
  {
   "cell_type": "code",
   "execution_count": 37,
   "id": "be83fb91e2690da6",
   "metadata": {},
   "outputs": [
    {
     "name": "stderr",
     "output_type": "stream",
     "text": [
      "/Users/danieldavid/.pyenv/versions/3.11.6/lib/python3.11/site-packages/pydantic/main.py:164: RuntimeWarning: The field `variable` is deprecated, please use only the fields `detected_column_name` and `exposed_column_name`.\n",
      "  __pydantic_self__.__pydantic_validator__.validate_python(data, self_instance=__pydantic_self__)\n"
     ]
    },
    {
     "data": {
      "text/plain": [
       "MetricResponse(output={'odds_ratio': 0.9473684210526315}, metric_configuration_dict={'metric': 'odds_ratio', 'arguments': '{\"data_filters\":[],\"count_variable_name\":\"variable\",\"variable\":\"id\",\"detected_column_name\":\"Pneumonia\",\"exposed_column_name\":\"Smoking\"}'}, dataset_uids=['90c9d01d-9e74-423a-893c-2bc3b6ec2b21', 'aca46c02-cbc2-412f-9b51-b81e29f89a58'], session=<rhino_health.lib.rhino_session.RhinoSession object at 0x1244b86d0>)"
      ]
     },
     "execution_count": 37,
     "metadata": {},
     "output_type": "execute_result"
    }
   ],
   "source": [
    "odds_ratio = OddsRatio(\n",
    "                variable=\"id\",\n",
    "                detected_column_name=\"Pneumonia\",\n",
    "                exposed_column_name=\"Smoking\",\n",
    ")\n",
    "\n",
    "session.project.aggregate_dataset_metric(dataset_uids, odds_ratio)"
   ]
  },
  {
   "cell_type": "markdown",
   "id": "a402498a23ebc560",
   "metadata": {},
   "source": [
    "### Calculate Chi Square test statistic between the \"Pneumonia\" feature and the \"Smoking\" feature for the two Datasets."
   ]
  },
  {
   "cell_type": "code",
   "execution_count": 38,
   "id": "600b5b1ea11b36b6",
   "metadata": {},
   "outputs": [
    {
     "data": {
      "text/plain": [
       "MetricResponse(output={'chi_square': {'statistic': 0.00575303564433998, 'p_value': 0.9998841449487383, 'dof': 1}}, metric_configuration_dict={'metric': 'chi_square', 'arguments': '{\"data_filters\":[],\"count_variable_name\":\"variable\",\"variable\":\"id\",\"variable_1\":\"Pneumonia\",\"variable_2\":\"Smoking\"}'}, dataset_uids=['90c9d01d-9e74-423a-893c-2bc3b6ec2b21', 'aca46c02-cbc2-412f-9b51-b81e29f89a58'], session=<rhino_health.lib.rhino_session.RhinoSession object at 0x1244b86d0>)"
      ]
     },
     "execution_count": 38,
     "metadata": {},
     "output_type": "execute_result"
    }
   ],
   "source": [
    "chi_square = ChiSquare(\n",
    "            variable=\"id\",\n",
    "            variable_1=\"Pneumonia\",\n",
    "            variable_2=\"Smoking\"\n",
    ")\n",
    "session.project.aggregate_dataset_metric(dataset_uids, chi_square)"
   ]
  },
  {
   "cell_type": "markdown",
   "id": "8621f288c7e0852c",
   "metadata": {},
   "source": [
    "### Calculate T-Test between the \"Pneumonia\" feature and the \"Spo2 Level\" feature for the two Datasets."
   ]
  },
  {
   "cell_type": "code",
   "execution_count": 39,
   "id": "c2f72ac513957cd7",
   "metadata": {},
   "outputs": [
    {
     "data": {
      "text/plain": [
       "MetricResponse(output={'t_test': {'statistic': -1.8543214061737123, 'p_value': 0.07486568059681697, 'dof': 26.47342509623292}}, metric_configuration_dict={'metric': 't_test', 'arguments': '{\"data_filters\":[],\"count_variable_name\":\"variable\",\"numeric_variable\":\"Spo2 Level\",\"categorical_variable\":\"Pneumonia\"}'}, dataset_uids=['90c9d01d-9e74-423a-893c-2bc3b6ec2b21', 'aca46c02-cbc2-412f-9b51-b81e29f89a58'], session=<rhino_health.lib.rhino_session.RhinoSession object at 0x1244b86d0>)"
      ]
     },
     "execution_count": 39,
     "metadata": {},
     "output_type": "execute_result"
    }
   ],
   "source": [
    "t_test = TTest(numeric_variable=\"Spo2 Level\", categorical_variable=\"Pneumonia\")\n",
    "session.project.aggregate_dataset_metric(dataset_uids, t_test)"
   ]
  },
  {
   "cell_type": "markdown",
   "id": "687f9d603fea0bf0",
   "metadata": {},
   "source": [
    "### Calculate One Way ANOVA between the \"Inflammation Level\" feature and the \"Spo2 Level\" feature for the two Datasets."
   ]
  },
  {
   "cell_type": "code",
   "execution_count": 41,
   "id": "471560f693dab33b",
   "metadata": {},
   "outputs": [
    {
     "name": "stdout",
     "output_type": "stream",
     "text": [
      "\n",
      "ANOVA result: output={'one_way_ANOVA': {'statistic': 1.343284460075524, 'p_value': 0.26989159024739706, 'sst': 1.487793927272727, 'sse': 1.4147035688259109, 'ssc': 0.07309035844681656, 'msc': 0.03654517922340828, 'mse': 0.027205837862036748, 'dfc': 2, 'dfe': 52, 'dft': 54}} metric_configuration_dict={'metric': 'one_way_ANOVA', 'arguments': '{\"data_filters\":[],\"count_variable_name\":\"variable\",\"variable\":\"id\",\"numeric_variable\":\"Spo2 Level\",\"categorical_variable\":\"Inflammation Level\"}'} dataset_uids=['90c9d01d-9e74-423a-893c-2bc3b6ec2b21', 'aca46c02-cbc2-412f-9b51-b81e29f89a58'] session=<rhino_health.lib.rhino_session.RhinoSession object at 0x1244b86d0>\n"
     ]
    }
   ],
   "source": [
    "anova_config = OneWayANOVA(\n",
    "            variable=\"id\",\n",
    "            numeric_variable=\"Spo2 Level\",\n",
    "            categorical_variable=\"Inflammation Level\",\n",
    "        )\n",
    "\n",
    "result = project.aggregate_dataset_metric(dataset_uids, anova_config)\n",
    "\n",
    "print(f\"\\nANOVA result: {result}\")"
   ]
  }
 ],
 "metadata": {
  "kernelspec": {
   "display_name": "Python 3",
   "language": "python",
   "name": "python3"
  },
  "language_info": {
   "codemirror_mode": {
    "name": "ipython",
    "version": 3
   },
   "file_extension": ".py",
   "mimetype": "text/x-python",
   "name": "python",
   "nbconvert_exporter": "python",
   "pygments_lexer": "ipython3",
   "version": "3.11.6"
  }
 },
 "nbformat": 4,
 "nbformat_minor": 5
}
