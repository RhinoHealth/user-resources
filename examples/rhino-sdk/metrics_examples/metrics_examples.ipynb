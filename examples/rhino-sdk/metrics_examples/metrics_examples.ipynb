{
 "cells": [
  {
   "cell_type": "markdown",
   "id": "6eb8e5ca",
   "metadata": {},
   "source": [
    "# Example: Metrics calculations using the rhino_health SDK\n",
    "\n",
    "### Load all necessary libraries, including 'rhino_health'"
   ]
  },
  {
   "cell_type": "code",
   "execution_count": null,
   "id": "ca8789ad-2371-4614-ace0-01a6d4343b48",
   "metadata": {},
   "outputs": [],
   "source": [
    "from getpass import getpass\n",
    "import rhino_health\n",
    "import pandas as pd\n",
    "from rhino_health.lib.metrics import *\n",
    "from rhino_health.lib.metrics.epidemiology.two_by_two_table_based_metrics import *\n",
    "from rhino_health.lib.metrics.statistics_tests import ChiSquare, TTest, OneWayANOVA"
   ]
  },
  {
   "cell_type": "markdown",
   "id": "7f06db3e",
   "metadata": {},
   "source": [
    "### Log in to the Rhino Health Platform\n",
    "\n",
    "**Note: Replace \"USERNAME\" with your Rhino Health username.**\n"
   ]
  },
  {
   "cell_type": "code",
   "execution_count": null,
   "id": "2f5e9e37-084b-489f-a1c0-92d4974897c2",
   "metadata": {},
   "outputs": [],
   "source": [
    "my_username = \"my_email@example.com\" # Replace this with the email you use to log into Rhino Health\n",
    "\n",
    "print(\"Logging In\")\n",
    "session = rhino_health.login(username=my_username, password=getpass())\n",
    "print(\"Logged In\")"
   ]
  },
  {
   "cell_type": "markdown",
   "id": "ef9cf810",
   "metadata": {},
   "source": [
    "### Load the Project you would like to calculate metrics for by placing the Project's name below\n",
    "Replace `PROJECT_NAME` with the name of your project"
   ]
  },
  {
   "cell_type": "code",
   "execution_count": null,
   "id": "92dc2634-f9ff-4789-80b3-f2abdb1342a9",
   "metadata": {},
   "outputs": [],
   "source": [
    "project = session.project.get_project_by_name(\"PROJECT_NAME\")"
   ]
  },
  {
   "cell_type": "markdown",
   "id": "f3d20b5f",
   "metadata": {},
   "source": [
    "Load the datasets you would like to calculate metrics for by placing the datasets names below,\n",
    "Replace `DATASET_1` & `DATASET_2` with the name of your datasets"
   ]
  },
  {
   "cell_type": "code",
   "execution_count": null,
   "id": "efe242a3-1b33-4a68-ab23-7304cb472618",
   "metadata": {},
   "outputs": [],
   "source": [
    "dataset_uids = [\n",
    "    project.get_dataset_by_name(\"DATASET_1\"),\n",
    "    project.get_dataset_by_name(\"DATASET_2\"),\n",
    "]"
   ]
  },
  {
   "cell_type": "markdown",
   "id": "cc98ac48ef0e4a94",
   "metadata": {},
   "source": [
    "The datasets should be in the following format:"
   ]
  },
  {
   "cell_type": "code",
   "execution_count": null,
   "id": "ddd585974ace2353",
   "metadata": {},
   "outputs": [],
   "source": [
    "pd.DataFrame({\n",
    "    'Weight': [84.0, 97.0, 91.0, 90.0, 124.0, 97.0],\n",
    "    'Pneumonia': [True, True, True, True, False, True],\n",
    "    'Smoking': [False, True, False, False, True, True],\n",
    "    'Inflammation Level': ['Low', 'Medium', 'Medium', 'High', 'High', 'High'],\n",
    "    'Spo2 Level': [0.3, 0.51, 0.12, 0.03, 0.413, 0.3]\n",
    "})"
   ]
  },
  {
   "cell_type": "markdown",
   "id": "d600a353",
   "metadata": {},
   "source": [
    "### Calculate the Mean weight for the two Datasets."
   ]
  },
  {
   "cell_type": "code",
   "execution_count": null,
   "id": "dc62405c-beeb-4345-88e0-43499639a765",
   "metadata": {},
   "outputs": [],
   "source": [
    "mean_config = Mean(variable=\"Weight\")\n",
    "session.project.aggregate_dataset_metric(dataset_uids, mean_config)"
   ]
  },
  {
   "cell_type": "markdown",
   "id": "101c1fa1",
   "metadata": {},
   "source": [
    "### Get the two by two table for detected and exposed values."
   ]
  },
  {
   "cell_type": "code",
   "execution_count": null,
   "id": "3d690758fe486f7f",
   "metadata": {},
   "outputs": [],
   "source": [
    "tbtt = TwoByTwoTable(\n",
    "                    variable=\"id\",\n",
    "                    detected_column_name=\"Pneumonia\",\n",
    "                    exposed_column_name=\"Smoking\",\n",
    ")\n",
    "table = session.project.aggregate_dataset_metric(dataset_uids, tbtt)\n",
    "pd.DataFrame(table.as_table())"
   ]
  },
  {
   "cell_type": "markdown",
   "id": "f85b3c3d86630cef",
   "metadata": {},
   "source": [
    "### Calculate the Odds Ratio between the \"Pneumonia\" feature and the \"Smoking\" feature for the two Datasets."
   ]
  },
  {
   "cell_type": "code",
   "execution_count": null,
   "id": "be83fb91e2690da6",
   "metadata": {},
   "outputs": [],
   "source": [
    "odds_ratio = OddsRatio(\n",
    "                variable=\"id\",\n",
    "                detected_column_name=\"Pneumonia\",\n",
    "                exposed_column_name=\"Smoking\",\n",
    ")\n",
    "\n",
    "session.project.aggregate_dataset_metric(dataset_uids, odds_ratio)"
   ]
  },
  {
   "cell_type": "markdown",
   "id": "a402498a23ebc560",
   "metadata": {},
   "source": [
    "### Calculate Chi Square test statistic between the \"Pneumonia\" feature and the \"Smoking\" feature for the two Datasets."
   ]
  },
  {
   "cell_type": "code",
   "execution_count": null,
   "id": "600b5b1ea11b36b6",
   "metadata": {},
   "outputs": [],
   "source": [
    "chi_square = ChiSquare(\n",
    "            variable=\"id\",\n",
    "            variable_1=\"Pneumonia\",\n",
    "            variable_2=\"Smoking\"\n",
    ")\n",
    "session.project.aggregate_dataset_metric(dataset_uids, chi_square)"
   ]
  },
  {
   "cell_type": "markdown",
   "id": "8621f288c7e0852c",
   "metadata": {},
   "source": [
    "### Calculate T-Test between the \"Pneumonia\" feature and the \"Spo2 Level\" feature for the two Datasets."
   ]
  },
  {
   "cell_type": "code",
   "execution_count": null,
   "id": "c2f72ac513957cd7",
   "metadata": {},
   "outputs": [],
   "source": [
    "t_test = TTest(numeric_variable=\"Spo2 Level\", categorical_variable=\"Pneumonia\")\n",
    "session.project.aggregate_dataset_metric(dataset_uids, t_test)"
   ]
  },
  {
   "cell_type": "markdown",
   "id": "687f9d603fea0bf0",
   "metadata": {},
   "source": [
    "### Calculate One Way ANOVA between the \"Inflammation Level\" feature and the \"Spo2 Level\" feature for the two Datasets."
   ]
  },
  {
   "cell_type": "code",
   "execution_count": null,
   "id": "471560f693dab33b",
   "metadata": {},
   "outputs": [],
   "source": [
    "anova_config = OneWayANOVA(\n",
    "            variable=\"id\",\n",
    "            numeric_variable=\"Spo2 Level\",\n",
    "            categorical_variable=\"Inflammation Level\",\n",
    "        )\n",
    "\n",
    "result = project.aggregate_dataset_metric(dataset_uids, anova_config)"
   ]
  }
 ],
 "metadata": {
  "kernelspec": {
   "display_name": "Python 3 (ipykernel)",
   "language": "python",
   "name": "python3"
  },
  "language_info": {
   "codemirror_mode": {
    "name": "ipython",
    "version": 3
   },
   "file_extension": ".py",
   "mimetype": "text/x-python",
   "name": "python",
   "nbconvert_exporter": "python",
   "pygments_lexer": "ipython3"
  }
 },
 "nbformat": 4,
 "nbformat_minor": 5
}
