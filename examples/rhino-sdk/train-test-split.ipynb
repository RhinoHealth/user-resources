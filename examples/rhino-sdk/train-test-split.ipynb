{
 "cells": [
  {
   "cell_type": "markdown",
   "id": "ff601119",
   "metadata": {},
   "source": [
    "# Train Test Split with FCP\n",
    "Demonstrate running multi-dataset Generalized Compute with the Rhino Health Python SDK\n",
    "\n",
    "#### Prerequisites \n",
    "1. Have an input dataset in FCP\n",
    "2. Have a container image pushed to your ECR repo with the train test split code (the code is available in the examples under generalized-compute/train-test-split)"
   ]
  },
  {
   "cell_type": "markdown",
   "id": "3fe62ec1",
   "metadata": {},
   "source": [
    "### Initialization and Login"
   ]
  },
  {
   "cell_type": "code",
   "execution_count": 1,
   "id": "72456829",
   "metadata": {},
   "outputs": [],
   "source": [
    "from getpass import getpass\n",
    "import rhino_health as rh\n",
    "from rhino_health.lib.endpoints.code_object.code_object_dataclass import (\n",
    "    CodeObjectCreateInput,\n",
    "    CodeTypes,\n",
    "    CodeObjectRunInput,\n",
    ")"
   ]
  },
  {
   "cell_type": "code",
   "execution_count": 5,
   "id": "868bb484",
   "metadata": {},
   "outputs": [
    {
     "name": "stdout",
     "output_type": "stream",
     "text": [
      "Logging In\n",
      "Logged In\n"
     ]
    }
   ],
   "source": [
    "print(\"Logging In\")\n",
    "my_username = \"daniel.david@rhinohealth.com\" # Replace this with the email you use to log into Rhino Health\n",
    "rhino_url = 'https://staging.rhinohealth.com/api/'\n",
    "my_workgroup_ecr_repo = \"rhino-gc-workgroup-rhino-health-staging\"  # Replace this with your workgroup's ECR repo\n",
    "my_image_name = \"train-test-split-dd-v3\"  # The name (tag) of the container image you pushed to your ECR repo\n",
    "ecr_base_uri = rh.lib.constants.ECRService.PROD_URL\n",
    "session = rh.login(username=my_username, password=getpass(), rhino_api_url=rhino_url)\n",
    "print(\"Logged In\")\n",
    "\n",
    "# print(\"Logging In\")\n",
    "# my_username = \"my_email@example.com\" # Replace this with the email you use to log into Rhino Health\n",
    "# my_workgroup_ecr_repo = \"rhino-gc-workgroup-XXXXXXXXXXXXXX\"  # Replace this with your workgroup's ECR repo\n",
    "# my_image_name = \"train-test-split\"  # The name (tag) of the container image you pushed to your ECR repo\n",
    "# ecr_base_uri = rh.lib.constants.ECRService.PROD_URL\n",
    "# session = rh.login(username=my_username, password=getpass.getpass())\n",
    "# print(\"Logged In\")"
   ]
  },
  {
   "cell_type": "markdown",
   "id": "fbc49abb",
   "metadata": {},
   "source": [
    "### Create the Code object"
   ]
  },
  {
   "cell_type": "code",
   "execution_count": 6,
   "id": "29c22802",
   "metadata": {},
   "outputs": [
    {
     "data": {
      "text/plain": [
       "CodeObject(session=<rhino_health.lib.rhino_session.RhinoSession object at 0x1074ba9d0>, creator_uid='3c465cd8-a25d-43b2-949c-4db81cf6dcd8', created_at='2025-04-18T16:12:54.893034Z', name='Train Test Split', description='Train Test Split', input_data_schema_uids=<property object at 0x108ea98a0>, output_data_schema_uids=<property object at 0x108ea97b0>, inputs_config=[CodeObjectInputConfig(data_schema_uid='c185a489-1a3f-4184-b195-ee25bfacb2fb', is_optional=False, is_multiple=False)], outputs_config=[CodeObjectOutputConfig(data_schema_uid='c185a489-1a3f-4184-b195-ee25bfacb2fb', is_optional=False, is_multiple=False), CodeObjectOutputConfig(data_schema_uid='c185a489-1a3f-4184-b195-ee25bfacb2fb', is_optional=False, is_multiple=False)], project_uid='a1e2d73b-6858-4853-8a8c-30b126fb49f0', code_type='Generalized Compute', base_version_uid='f5fa388f-18eb-4898-a6a0-3504c2d90b60', config={'code_location': 'single_non_binary_file', 'code_execution_mode': 'snippet', 'container_base_type': 'python_cuda_version', 'container_image_uri': '913123821419.dkr.ecr.us-east-1.amazonaws.com/rhino-gc-workgroup-rhino-health-staging:train-test-split-dd-v3'}, uid='435d528c-7717-49bc-b150-ea5c0e4d058c', version=1, build_status=<CodeObjectBuildStatus.COMPLETE: 'Complete'>, build_errors=None)"
      ]
     },
     "execution_count": 6,
     "metadata": {},
     "output_type": "execute_result"
    }
   ],
   "source": [
    "project_uid = \"a1e2d73b-6858-4853-8a8c-30b126fb49f0\"  # Replace with project UID\n",
    "data_schema_uid = \"c185a489-1a3f-4184-b195-ee25bfacb2fb\"  # Replace with data schema UID\n",
    "\n",
    "creation_params = CodeObjectCreateInput(\n",
    "    name=\"Train Test Split\",\n",
    "    description=\"Train Test Split\",\n",
    "    code_type=CodeTypes.GENERALIZED_COMPUTE,\n",
    "    config={\"container_image_uri\": f\"{ecr_base_uri}/{my_workgroup_ecr_repo}:{my_image_name}\"},\n",
    "    project_uid=project_uid,\n",
    "    input_data_schema_uids=[data_schema_uid],\n",
    "    output_data_schema_uids=[data_schema_uid, data_schema_uid],\n",
    ")\n",
    "code = session.code_object.create_code_object(creation_params)\n",
    "code\n",
    "\n",
    "# project_uid = \"XXXXXXXX-XXXX-XXXX-XXXX-XXXXXXXXXXXX\"  # Replace with project UID\n",
    "# data_schema_uid = \"XXXXXXXX-XXXX-XXXX-XXXX-XXXXXXXXXXXX\"  # Replace with data schema UID\n",
    "\n",
    "# creation_params = CodeObjectCreateInput(\n",
    "#     name=\"Train Test Split\",\n",
    "#     description=\"Train Test Split\",\n",
    "#     code_type=CodeTypes.GENERALIZED_COMPUTE,\n",
    "#     config={\"container_image_uri\": f\"{ecr_base_uri}/{my_workgroup_ecr_repo}:{my_image_name}\"},\n",
    "#     project_uid=project_uid,\n",
    "#     input_data_schema_uids=[data_schema_uid],\n",
    "#     output_data_schema_uids=[data_schema_uid, data_schema_uid],\n",
    "# )\n",
    "# code = session.code_object.create_code_object(creation_params)\n",
    "# code"
   ]
  },
  {
   "cell_type": "code",
   "execution_count": 10,
   "id": "ceeec81e",
   "metadata": {},
   "outputs": [
    {
     "data": {
      "text/plain": [
       "['__abstractmethods__',\n",
       " '__annotations__',\n",
       " '__class__',\n",
       " '__class_getitem__',\n",
       " '__class_vars__',\n",
       " '__copy__',\n",
       " '__deepcopy__',\n",
       " '__delattr__',\n",
       " '__dict__',\n",
       " '__dir__',\n",
       " '__doc__',\n",
       " '__eq__',\n",
       " '__fields__',\n",
       " '__fields_set__',\n",
       " '__format__',\n",
       " '__ge__',\n",
       " '__get_pydantic_core_schema__',\n",
       " '__get_pydantic_json_schema__',\n",
       " '__getattr__',\n",
       " '__getattribute__',\n",
       " '__getstate__',\n",
       " '__gt__',\n",
       " '__hash__',\n",
       " '__hidden__',\n",
       " '__init__',\n",
       " '__init_subclass__',\n",
       " '__iter__',\n",
       " '__le__',\n",
       " '__lt__',\n",
       " '__module__',\n",
       " '__ne__',\n",
       " '__new__',\n",
       " '__pretty__',\n",
       " '__private_attributes__',\n",
       " '__pydantic_complete__',\n",
       " '__pydantic_core_schema__',\n",
       " '__pydantic_custom_init__',\n",
       " '__pydantic_decorators__',\n",
       " '__pydantic_extra__',\n",
       " '__pydantic_fields_set__',\n",
       " '__pydantic_generic_metadata__',\n",
       " '__pydantic_init_subclass__',\n",
       " '__pydantic_parent_namespace__',\n",
       " '__pydantic_post_init__',\n",
       " '__pydantic_private__',\n",
       " '__pydantic_root_model__',\n",
       " '__pydantic_serializer__',\n",
       " '__pydantic_validator__',\n",
       " '__reduce__',\n",
       " '__reduce_ex__',\n",
       " '__repr__',\n",
       " '__repr_args__',\n",
       " '__repr_name__',\n",
       " '__repr_str__',\n",
       " '__rich_repr__',\n",
       " '__setattr__',\n",
       " '__setstate__',\n",
       " '__signature__',\n",
       " '__sizeof__',\n",
       " '__slots__',\n",
       " '__str__',\n",
       " '__subclasshook__',\n",
       " '__weakref__',\n",
       " '_abc_impl',\n",
       " '_add_field',\n",
       " '_add_model_property',\n",
       " '_calculate_keys',\n",
       " '_check_frozen',\n",
       " '_code_object',\n",
       " '_copy_and_set_values',\n",
       " '_creator',\n",
       " '_get_value',\n",
       " '_handle_aliases',\n",
       " '_handle_hidden',\n",
       " '_handle_models',\n",
       " '_handle_uids',\n",
       " '_is_v2_uid_field',\n",
       " '_iter',\n",
       " '_process_finished',\n",
       " '_wait_for_completion',\n",
       " 'action_type',\n",
       " 'code_object',\n",
       " 'code_object_name',\n",
       " 'code_object_uid',\n",
       " 'construct',\n",
       " 'copy',\n",
       " 'created_at',\n",
       " 'creator',\n",
       " 'creator_name',\n",
       " 'creator_uid',\n",
       " 'dict',\n",
       " 'end_time',\n",
       " 'errors',\n",
       " 'from_orm',\n",
       " 'input_dataset_uids',\n",
       " 'input_datasets',\n",
       " 'json',\n",
       " 'model_computed_fields',\n",
       " 'model_config',\n",
       " 'model_construct',\n",
       " 'model_copy',\n",
       " 'model_dump',\n",
       " 'model_dump_json',\n",
       " 'model_extra',\n",
       " 'model_fields',\n",
       " 'model_fields_set',\n",
       " 'model_json_schema',\n",
       " 'model_parametrized_name',\n",
       " 'model_post_init',\n",
       " 'model_rebuild',\n",
       " 'model_validate',\n",
       " 'model_validate_json',\n",
       " 'model_validate_strings',\n",
       " 'output_dataset_uids',\n",
       " 'output_datasets',\n",
       " 'parse_file',\n",
       " 'parse_obj',\n",
       " 'parse_raw',\n",
       " 'parsed_response',\n",
       " 'paths_to_model_params',\n",
       " 'raw_response',\n",
       " 'report_images',\n",
       " 'results_report',\n",
       " 'save_model_params',\n",
       " 'schema',\n",
       " 'schema_json',\n",
       " 'session',\n",
       " 'start_time',\n",
       " 'status',\n",
       " 'to_dict',\n",
       " 'uid',\n",
       " 'update_forward_refs',\n",
       " 'validate',\n",
       " 'wait_for_completion',\n",
       " 'warnings']"
      ]
     },
     "execution_count": 10,
     "metadata": {},
     "output_type": "execute_result"
    }
   ],
   "source": [
    "dir(run_result)\n"
   ]
  },
  {
   "cell_type": "markdown",
   "id": "dec87462",
   "metadata": {},
   "source": [
    "### Run the code on the input dataset and print the results"
   ]
  },
  {
   "cell_type": "code",
   "execution_count": 13,
   "id": "8100b5c4",
   "metadata": {},
   "outputs": [
    {
     "name": "stdout",
     "output_type": "stream",
     "text": [
      "Starting to run train_test_split\n",
      "Waiting for code run to complete (0 hours 0 minutes and 0 seconds)\n",
      "Done.\n",
      "Finished running train_test_split\n",
      "Result status is 'Failed'\n"
     ]
    }
   ],
   "source": [
    "input_dataset_uid = \"f67b05af-5ccd-45b8-993b-d6dc38030940\"  # Replace with dataset UID\n",
    "run_params = CodeObjectRunInput(\n",
    "    code_object_uid= code.uid,\n",
    "    input_dataset_uids=[[input_dataset_uid]],\n",
    "    output_dataset_naming_templates=['{{ input_dataset_names.0 }} - Train', '{{ input_dataset_names.0 }} - Test'],\n",
    "    timeout_seconds=300,\n",
    ")\n",
    "print(\"Starting to run train_test_split\")\n",
    "code_run = session.code_object.run_code_object(run_params)\n",
    "run_result = code_run.wait_for_completion()\n",
    "print(\"Finished running train_test_split\")\n",
    "print(f\"Result status is '{run_result.status.value}'\")\n",
    "\n",
    "# input_dataset_uid = \"XXXXXXXX-XXXX-XXXX-XXXX-XXXXXXXXXXXX\"  # Replace with dataset UID\n",
    "# run_params = CodeObjectRunInput(\n",
    "#     code_object_uid= code.uid,\n",
    "#     input_dataset_uids=[[input_dataset_uid]],\n",
    "#     output_dataset_naming_templates=['{{ input_dataset_names.0 }} - Train', '{{ input_dataset_names.0 }} - Test'],\n",
    "#     timeout_seconds=300,\n",
    "# )\n",
    "# print(\"Starting to run train_test_split\")\n",
    "# code_run = session.code_object.run_code_object(run_params)\n",
    "# run_result = code_run.wait_for_completion()\n",
    "# print(\"Finished running train_test_split\")\n",
    "# print(f\"Result status is '{run_result.status.value}', errors={run_result.results_info.get('errors') if run_result.results_info else None}\")\n"
   ]
  }
 ],
 "metadata": {
  "kernelspec": {
   "display_name": "Python 3",
   "language": "python",
   "name": "python3"
  },
  "language_info": {
   "codemirror_mode": {
    "name": "ipython",
    "version": 3
   },
   "file_extension": ".py",
   "mimetype": "text/x-python",
   "name": "python",
   "nbconvert_exporter": "python",
   "pygments_lexer": "ipython3",
   "version": "3.11.6"
  }
 },
 "nbformat": 4,
 "nbformat_minor": 5
}
