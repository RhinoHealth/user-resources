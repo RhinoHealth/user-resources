{
 "cells": [
  {
   "cell_type": "markdown",
   "id": "6eb8e5ca",
   "metadata": {},
   "source": [
    "# Example: Federated Percentiles with Differential Privacy\n",
    "\n",
    "### Load all necessary libraries, including 'rhino_health'"
   ]
  },
  {
   "cell_type": "code",
   "execution_count": null,
   "id": "ca8789ad-2371-4614-ace0-01a6d4343b48",
   "metadata": {},
   "outputs": [],
   "source": [
    "from getpass import getpass\n",
    "\n",
    "import rhino_health\n",
    "from rhino_health.lib.metrics import Percentile"
   ]
  },
  {
   "cell_type": "markdown",
   "id": "0e8bbbd8",
   "metadata": {},
   "source": [
    "### Log in to the Rhino Health Platform\n",
    "\n",
    "**Note: Replace \"USERNAME\" with your Rhino Health username.**\n"
   ]
  },
  {
   "cell_type": "code",
   "execution_count": null,
   "id": "2f5e9e37-084b-489f-a1c0-92d4974897c2",
   "metadata": {},
   "outputs": [],
   "source": [
    "my_username = \"my_email@example.com\" # Replace this with the email you use to log into Rhino Health\n",
    "\n",
    "print(\"Logging In\")\n",
    "session = rhino_health.login(username=my_username, password=getpass())\n",
    "print(\"Logged In\")"
   ]
  },
  {
   "cell_type": "markdown",
   "id": "4d2ea28e",
   "metadata": {},
   "source": [
    "### Run this cell to list all of the projects in your environment:"
   ]
  },
  {
   "cell_type": "code",
   "execution_count": null,
   "id": "b2c205a7",
   "metadata": {},
   "outputs": [],
   "source": [
    "projects = session.project.search_for_projects_by_name(name=\"\")\n",
    "for p in projects:\n",
    "    print(p.name)"
   ]
  },
  {
   "cell_type": "markdown",
   "id": "ef9cf810",
   "metadata": {},
   "source": [
    "### Load the Project you would like to calculate federated percentiles for by placing the Project's name below\n",
    "Replace `PROJECT_NAME` with the name of your project"
   ]
  },
  {
   "cell_type": "code",
   "execution_count": null,
   "id": "92dc2634-f9ff-4789-80b3-f2abdb1342a9",
   "metadata": {},
   "outputs": [],
   "source": [
    "project = session.project.get_project_by_name(\"PROJECT_NAME\")\n",
    "if not project:\n",
    "        raise ValueError(\"Project not found.\")\n",
    "\n",
    "print(\"Selected project name:\", project.name)"
   ]
  },
  {
   "cell_type": "markdown",
   "id": "f3d20b5f",
   "metadata": {},
   "source": [
    "### List your available datasets in your project and then load those you would like to calculate federated percentiles"
   ]
  },
  {
   "cell_type": "markdown",
   "id": "3c24ea20",
   "metadata": {},
   "source": [
    "Run this cell to list all of your available datasets in your project"
   ]
  },
  {
   "cell_type": "code",
   "execution_count": null,
   "id": "4e8fdf6c",
   "metadata": {},
   "outputs": [],
   "source": [
    "all_datasets = session.dataset.search_for_datasets_by_name(name=\"\")\n",
    "project_datasets = [d for d in all_datasets if d.project and d.project.uid == project.uid]\n",
    "\n",
    "print(f\"\\nDatasets in project '{project.name}':\")\n",
    "for d in project_datasets:\n",
    "    print(f\"- {d.name}\")"
   ]
  },
  {
   "cell_type": "markdown",
   "id": "5c510924",
   "metadata": {},
   "source": [
    "Replace `DATASET_1` & `DATASET_2` with the name of your datasets"
   ]
  },
  {
   "cell_type": "code",
   "execution_count": null,
   "id": "efe242a3-1b33-4a68-ab23-7304cb472618",
   "metadata": {},
   "outputs": [],
   "source": [
    "datasets = [\n",
    "    project.get_dataset_by_name(\"DATASET_1\"),\n",
    "    project.get_dataset_by_name(\"DATASET_2\"),\n",
    "]"
   ]
  },
  {
   "cell_type": "markdown",
   "id": "d600a353",
   "metadata": {},
   "source": [
    "### Calculate the aggregate 90th percentile for weight for the two Datasets."
   ]
  },
  {
   "cell_type": "code",
   "execution_count": null,
   "id": "dc62405c-beeb-4345-88e0-43499639a765",
   "metadata": {},
   "outputs": [],
   "source": [
    "metric_configuration = Percentile(variable=\"Weight\", percentile=90)\n",
    "\n",
    "aggregate_weight_90th_percentile_metric_response = session.project.aggregate_dataset_metric(\n",
    "    dataset_uids=[str(dataset.uid) for dataset in datasets],\n",
    "    metric_configuration=metric_configuration,\n",
    ")\n",
    "\n",
    "aggregate_weight_90th_percentile = aggregate_weight_90th_percentile_metric_response.output[\"Weight\"]\n",
    "print(f\"Aggregate Weight 90th Percentile: {aggregate_weight_90th_percentile}\")"
   ]
  },
  {
   "cell_type": "markdown",
   "id": "101c1fa1",
   "metadata": {},
   "source": [
    "### Calculate the aggregate 10th percentile for weight for the two Datasets."
   ]
  },
  {
   "cell_type": "code",
   "execution_count": null,
   "id": "0a0ac10b-5ce3-4ac2-a23d-6eef337086b6",
   "metadata": {},
   "outputs": [],
   "source": [
    "metric_configuration = Percentile(variable=\"Weight\", percentile=10)\n",
    "\n",
    "aggregate_weight_10th_percentile_metric_response = session.project.aggregate_dataset_metric(\n",
    "    dataset_uids=[str(dataset.uid) for dataset in datasets],\n",
    "    metric_configuration=metric_configuration,\n",
    ")\n",
    "\n",
    "aggregate_weight_10th_percentile = aggregate_weight_10th_percentile_metric_response.output[\"Weight\"]\n",
    "print(f\"Aggregate Weight 10th Percentile: {aggregate_weight_10th_percentile}\")"
   ]
  }
 ],
 "metadata": {
  "kernelspec": {
   "display_name": "Python 3 (ipykernel)",
   "language": "python",
   "name": "python3"
  },
  "language_info": {
   "codemirror_mode": {
    "name": "ipython",
    "version": 3
   },
   "file_extension": ".py",
   "mimetype": "text/x-python",
   "name": "python",
   "nbconvert_exporter": "python",
   "pygments_lexer": "ipython3",
   "version": "3.9.4"
  }
 },
 "nbformat": 4,
 "nbformat_minor": 5
}
