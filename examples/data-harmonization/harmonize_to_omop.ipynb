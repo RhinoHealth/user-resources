{
 "cells": [
  {
   "cell_type": "markdown",
   "id": "b2375fea-76a2-42fa-80ee-e626c4c232e8",
   "metadata": {},
   "source": [
    "### Goal\n",
    "![title](images/source_data.png)\n"
   ]
  },
  {
   "cell_type": "markdown",
   "id": "eb6dcf75-04ad-424b-ab7d-678921bb5523",
   "metadata": {},
   "source": [
    "### Create Syntactic Mapping\n",
    "![title](images/create_syntactic.png)\n",
    "![title](images/syntactic_1.png)\n",
    "![title](images/syntactic_2.png)\n",
    "\n"
   ]
  },
  {
   "cell_type": "markdown",
   "id": "02e194d6-cb40-48f8-bbf9-66db594880b8",
   "metadata": {},
   "source": [
    "### Create Semantic Mappings\n",
    "![title](images/create_semantic.png)\n",
    "![title](images/review_semantic.png)\n",
    "![title](images/search_semantic.png)"
   ]
  },
  {
   "cell_type": "markdown",
   "id": "926ceda4-65c9-4b71-ba28-310335e20703",
   "metadata": {},
   "source": [
    "### Execute Data Harmonization\n",
    "![title](images/code_run.png)\n"
   ]
  },
  {
   "cell_type": "markdown",
   "id": "4c0b3a47-e33a-4fe0-8b9b-ee04ca6ea4e0",
   "metadata": {},
   "source": [
    "### Review Harmonized Data"
   ]
  }
 ],
 "metadata": {
  "kernelspec": {
   "display_name": "Python 3 (ipykernel)",
   "language": "python",
   "name": "python3"
  },
  "language_info": {
   "codemirror_mode": {
    "name": "ipython",
    "version": 3
   },
   "file_extension": ".py",
   "mimetype": "text/x-python",
   "name": "python",
   "nbconvert_exporter": "python",
   "pygments_lexer": "ipython3",
   "version": "3.12.7"
  }
 },
 "nbformat": 4,
 "nbformat_minor": 5
}
